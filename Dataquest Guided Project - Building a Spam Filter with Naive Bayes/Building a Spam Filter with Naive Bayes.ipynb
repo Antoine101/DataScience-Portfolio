{
 "cells": [
  {
   "cell_type": "markdown",
   "metadata": {},
   "source": [
    "# Guided Project: Building a Spam Filter with Naive Bayes"
   ]
  },
  {
   "cell_type": "markdown",
   "metadata": {},
   "source": [
    "## Introduction"
   ]
  },
  {
   "cell_type": "markdown",
   "metadata": {},
   "source": [
    "Our goal for this project is to create a spam filter for SMS messages wich has an accuracy over 80%.\n",
    "\n",
    "To do that, we'll use the multinomial Naive Bayes algorithm along with a dataset of 5,572 SMS messages that were already classified by humans."
   ]
  },
  {
   "cell_type": "markdown",
   "metadata": {},
   "source": [
    "## The Data"
   ]
  },
  {
   "cell_type": "markdown",
   "metadata": {},
   "source": [
    "The dataset we will be using was put together by Tiago A. Almeida and José María Gómez Hidalgo, and it can be downloaded from the [The UCI Machine Learning Repository](https://archive.ics.uci.edu/ml/datasets/sms+spam+collection). The data collection process is described in more details on this [page](http://www.dt.fee.unicamp.br/~tiago/smsspamcollection/#composition), where we can also find some of the authors' papers."
   ]
  },
  {
   "cell_type": "markdown",
   "metadata": {},
   "source": [
    "## Inital Data Exploration"
   ]
  },
  {
   "cell_type": "markdown",
   "metadata": {},
   "source": [
    "Let's start by reading in the dataset."
   ]
  },
  {
   "cell_type": "code",
   "execution_count": 84,
   "metadata": {},
   "outputs": [
    {
     "name": "stdout",
     "output_type": "stream",
     "text": [
      "(5572, 2)\n"
     ]
    },
    {
     "data": {
      "text/html": [
       "<div>\n",
       "<style scoped>\n",
       "    .dataframe tbody tr th:only-of-type {\n",
       "        vertical-align: middle;\n",
       "    }\n",
       "\n",
       "    .dataframe tbody tr th {\n",
       "        vertical-align: top;\n",
       "    }\n",
       "\n",
       "    .dataframe thead th {\n",
       "        text-align: right;\n",
       "    }\n",
       "</style>\n",
       "<table border=\"1\" class=\"dataframe\">\n",
       "  <thead>\n",
       "    <tr style=\"text-align: right;\">\n",
       "      <th></th>\n",
       "      <th>Label</th>\n",
       "      <th>SMS</th>\n",
       "    </tr>\n",
       "  </thead>\n",
       "  <tbody>\n",
       "    <tr>\n",
       "      <th>0</th>\n",
       "      <td>ham</td>\n",
       "      <td>Go until jurong point, crazy.. Available only ...</td>\n",
       "    </tr>\n",
       "    <tr>\n",
       "      <th>1</th>\n",
       "      <td>ham</td>\n",
       "      <td>Ok lar... Joking wif u oni...</td>\n",
       "    </tr>\n",
       "    <tr>\n",
       "      <th>2</th>\n",
       "      <td>spam</td>\n",
       "      <td>Free entry in 2 a wkly comp to win FA Cup fina...</td>\n",
       "    </tr>\n",
       "    <tr>\n",
       "      <th>3</th>\n",
       "      <td>ham</td>\n",
       "      <td>U dun say so early hor... U c already then say...</td>\n",
       "    </tr>\n",
       "    <tr>\n",
       "      <th>4</th>\n",
       "      <td>ham</td>\n",
       "      <td>Nah I don't think he goes to usf, he lives aro...</td>\n",
       "    </tr>\n",
       "  </tbody>\n",
       "</table>\n",
       "</div>"
      ],
      "text/plain": [
       "  Label                                                SMS\n",
       "0   ham  Go until jurong point, crazy.. Available only ...\n",
       "1   ham                      Ok lar... Joking wif u oni...\n",
       "2  spam  Free entry in 2 a wkly comp to win FA Cup fina...\n",
       "3   ham  U dun say so early hor... U c already then say...\n",
       "4   ham  Nah I don't think he goes to usf, he lives aro..."
      ]
     },
     "execution_count": 84,
     "metadata": {},
     "output_type": "execute_result"
    }
   ],
   "source": [
    "import pandas as pd\n",
    "import warnings\n",
    "warnings.filterwarnings(\"ignore\")\n",
    "\n",
    "sms_spam = pd.read_csv('SMSSpamCollection', sep='\\t', names=['Label', 'SMS'])\n",
    "\n",
    "print(sms_spam.shape)\n",
    "sms_spam.head()"
   ]
  },
  {
   "cell_type": "markdown",
   "metadata": {},
   "source": [
    "Let's find out what percentage of the messages is spam and what percentage is ham (\"ham\" means non-spam)."
   ]
  },
  {
   "cell_type": "code",
   "execution_count": 85,
   "metadata": {},
   "outputs": [
    {
     "data": {
      "text/plain": [
       "ham     86.593683\n",
       "spam    13.406317\n",
       "Name: Label, dtype: float64"
      ]
     },
     "execution_count": 85,
     "metadata": {},
     "output_type": "execute_result"
    }
   ],
   "source": [
    "sms_spam[\"Label\"].value_counts(normalize=True)*100"
   ]
  },
  {
   "cell_type": "markdown",
   "metadata": {},
   "source": [
    "About 87% of the messages are ham and the remaining 13% are spam."
   ]
  },
  {
   "cell_type": "markdown",
   "metadata": {},
   "source": [
    "## Splitting our dataset for training and testing"
   ]
  },
  {
   "cell_type": "markdown",
   "metadata": {},
   "source": [
    "Once our spam filter is done, we'll need to test how good it is with classifying new messages. So before creating it, we split our dataset into two categories:\n",
    "* A **training set**, which we'll use to \"train\" the computer how to classify messages.\n",
    "* A **test set**, which we'll use to test how good the spam filter is with classifying new messages.\n",
    "\n",
    "We're going to keep 80% of our dataset for training, and 20% for testing (we want to train the algorithm on as much data as possible, but we also want to have enough test data). The dataset has 5,572 messages, which means that:\n",
    "* The training set will have 4,458 messages (about 80% of the dataset).\n",
    "* The test set will have 1,114 messages (about 20% of the dataset).\n",
    "\n",
    "For this project, our goal is to create a spam filter that classifies new messages with an accuracy greater than 80% — so we expect that more than 80% of the new messages will be classified correctly as spam or ham (non-spam).\n",
    "\n",
    "Let's create a training and a test set! We start by randomizing the entire dataset."
   ]
  },
  {
   "cell_type": "code",
   "execution_count": 86,
   "metadata": {},
   "outputs": [],
   "source": [
    "randomized_data = sms_spam.sample(frac=1, random_state=1)"
   ]
  },
  {
   "cell_type": "markdown",
   "metadata": {},
   "source": [
    "We then split the randomized dataset into a training and a test set."
   ]
  },
  {
   "cell_type": "code",
   "execution_count": 87,
   "metadata": {},
   "outputs": [
    {
     "name": "stdout",
     "output_type": "stream",
     "text": [
      "(4458, 2)\n",
      "(1114, 2)\n"
     ]
    }
   ],
   "source": [
    "# Calculate the index for split\n",
    "training_test_index = round(len(randomized_data)*0.8)\n",
    "\n",
    "# Training/Test split\n",
    "training_set = randomized_data[:training_test_index].reset_index(drop=True)\n",
    "print(training_set.shape)\n",
    "test_set = randomized_data[training_test_index:].reset_index(drop=True)\n",
    "print(test_set.shape)"
   ]
  },
  {
   "cell_type": "markdown",
   "metadata": {},
   "source": [
    "Next, we calculate the percentages of spam and ham in each of these sets to see if they are representative of the full dataset."
   ]
  },
  {
   "cell_type": "code",
   "execution_count": 88,
   "metadata": {},
   "outputs": [
    {
     "data": {
      "text/plain": [
       "ham     86.54105\n",
       "spam    13.45895\n",
       "Name: Label, dtype: float64"
      ]
     },
     "execution_count": 88,
     "metadata": {},
     "output_type": "execute_result"
    }
   ],
   "source": [
    "training_set[\"Label\"].value_counts(normalize=True)*100"
   ]
  },
  {
   "cell_type": "code",
   "execution_count": 89,
   "metadata": {},
   "outputs": [
    {
     "data": {
      "text/plain": [
       "ham     86.804309\n",
       "spam    13.195691\n",
       "Name: Label, dtype: float64"
      ]
     },
     "execution_count": 89,
     "metadata": {},
     "output_type": "execute_result"
    }
   ],
   "source": [
    "test_set[\"Label\"].value_counts(normalize=True)*100"
   ]
  },
  {
   "cell_type": "markdown",
   "metadata": {},
   "source": [
    "The proportions of ham and spam are very similar for both the training and testing sets and also similar to the ones of the full dataset."
   ]
  },
  {
   "cell_type": "markdown",
   "metadata": {
    "collapsed": true
   },
   "source": [
    "## Cleaning the Data"
   ]
  },
  {
   "cell_type": "markdown",
   "metadata": {},
   "source": [
    "Before calculating all the probabilities required for the Naive Bayes algorithm, we first need to perform a bit of data cleaning. This will bring the data in a format that will allow us to extract easily all the information we need.\n",
    "\n",
    "Essentially, we want to end up with a dataframe containing for each sms (each row) the counts of the number of times each word from the vocabulary (all unique words listed from all the sms) appear.\n",
    "\n",
    "Let's print the head of the dataframe again and see what cleaning actions to take first."
   ]
  },
  {
   "cell_type": "code",
   "execution_count": 90,
   "metadata": {},
   "outputs": [
    {
     "data": {
      "text/html": [
       "<div>\n",
       "<style scoped>\n",
       "    .dataframe tbody tr th:only-of-type {\n",
       "        vertical-align: middle;\n",
       "    }\n",
       "\n",
       "    .dataframe tbody tr th {\n",
       "        vertical-align: top;\n",
       "    }\n",
       "\n",
       "    .dataframe thead th {\n",
       "        text-align: right;\n",
       "    }\n",
       "</style>\n",
       "<table border=\"1\" class=\"dataframe\">\n",
       "  <thead>\n",
       "    <tr style=\"text-align: right;\">\n",
       "      <th></th>\n",
       "      <th>Label</th>\n",
       "      <th>SMS</th>\n",
       "    </tr>\n",
       "  </thead>\n",
       "  <tbody>\n",
       "    <tr>\n",
       "      <th>0</th>\n",
       "      <td>ham</td>\n",
       "      <td>Yep, by the pretty sculpture</td>\n",
       "    </tr>\n",
       "    <tr>\n",
       "      <th>1</th>\n",
       "      <td>ham</td>\n",
       "      <td>Yes, princess. Are you going to make me moan?</td>\n",
       "    </tr>\n",
       "    <tr>\n",
       "      <th>2</th>\n",
       "      <td>ham</td>\n",
       "      <td>Welp apparently he retired</td>\n",
       "    </tr>\n",
       "    <tr>\n",
       "      <th>3</th>\n",
       "      <td>ham</td>\n",
       "      <td>Havent.</td>\n",
       "    </tr>\n",
       "    <tr>\n",
       "      <th>4</th>\n",
       "      <td>ham</td>\n",
       "      <td>I forgot 2 ask ü all smth.. There's a card on ...</td>\n",
       "    </tr>\n",
       "  </tbody>\n",
       "</table>\n",
       "</div>"
      ],
      "text/plain": [
       "  Label                                                SMS\n",
       "0   ham                       Yep, by the pretty sculpture\n",
       "1   ham      Yes, princess. Are you going to make me moan?\n",
       "2   ham                         Welp apparently he retired\n",
       "3   ham                                            Havent.\n",
       "4   ham  I forgot 2 ask ü all smth.. There's a card on ..."
      ]
     },
     "execution_count": 90,
     "metadata": {},
     "output_type": "execute_result"
    }
   ],
   "source": [
    "# Before cleaning\n",
    "training_set.head()"
   ]
  },
  {
   "cell_type": "markdown",
   "metadata": {},
   "source": [
    "To be able to later generate the training_set vocabulary, we first need to clean the messages in the `SMS` column."
   ]
  },
  {
   "cell_type": "markdown",
   "metadata": {},
   "source": [
    "### Letter Case and Punctuation"
   ]
  },
  {
   "cell_type": "markdown",
   "metadata": {},
   "source": [
    "What we are going to do first is:\n",
    "* Remove all the punctuation form\n",
    "* Transform every letter in every word to lower case"
   ]
  },
  {
   "cell_type": "code",
   "execution_count": 91,
   "metadata": {},
   "outputs": [
    {
     "data": {
      "text/html": [
       "<div>\n",
       "<style scoped>\n",
       "    .dataframe tbody tr th:only-of-type {\n",
       "        vertical-align: middle;\n",
       "    }\n",
       "\n",
       "    .dataframe tbody tr th {\n",
       "        vertical-align: top;\n",
       "    }\n",
       "\n",
       "    .dataframe thead th {\n",
       "        text-align: right;\n",
       "    }\n",
       "</style>\n",
       "<table border=\"1\" class=\"dataframe\">\n",
       "  <thead>\n",
       "    <tr style=\"text-align: right;\">\n",
       "      <th></th>\n",
       "      <th>Label</th>\n",
       "      <th>SMS</th>\n",
       "    </tr>\n",
       "  </thead>\n",
       "  <tbody>\n",
       "    <tr>\n",
       "      <th>0</th>\n",
       "      <td>ham</td>\n",
       "      <td>yep  by the pretty sculpture</td>\n",
       "    </tr>\n",
       "    <tr>\n",
       "      <th>1</th>\n",
       "      <td>ham</td>\n",
       "      <td>yes  princess  are you going to make me moan</td>\n",
       "    </tr>\n",
       "    <tr>\n",
       "      <th>2</th>\n",
       "      <td>ham</td>\n",
       "      <td>welp apparently he retired</td>\n",
       "    </tr>\n",
       "    <tr>\n",
       "      <th>3</th>\n",
       "      <td>ham</td>\n",
       "      <td>havent</td>\n",
       "    </tr>\n",
       "    <tr>\n",
       "      <th>4</th>\n",
       "      <td>ham</td>\n",
       "      <td>i forgot 2 ask ü all smth   there s a card on ...</td>\n",
       "    </tr>\n",
       "  </tbody>\n",
       "</table>\n",
       "</div>"
      ],
      "text/plain": [
       "  Label                                                SMS\n",
       "0   ham                       yep  by the pretty sculpture\n",
       "1   ham      yes  princess  are you going to make me moan \n",
       "2   ham                         welp apparently he retired\n",
       "3   ham                                            havent \n",
       "4   ham  i forgot 2 ask ü all smth   there s a card on ..."
      ]
     },
     "execution_count": 91,
     "metadata": {},
     "output_type": "execute_result"
    }
   ],
   "source": [
    "training_set[\"SMS\"] = training_set[\"SMS\"].str.replace('\\W',' ')\n",
    "training_set[\"SMS\"] = training_set[\"SMS\"].str.lower()\n",
    "\n",
    "# After cleaning\n",
    "training_set.head()"
   ]
  },
  {
   "cell_type": "markdown",
   "metadata": {},
   "source": [
    "### Creation of the Vocabulary"
   ]
  },
  {
   "cell_type": "markdown",
   "metadata": {},
   "source": [
    "We can then create a vocabulary for the messages in the training set."
   ]
  },
  {
   "cell_type": "code",
   "execution_count": 92,
   "metadata": {},
   "outputs": [
    {
     "name": "stdout",
     "output_type": "stream",
     "text": [
      "['yep', 'by', 'the', 'pretty', 'sculpture', 'yes', 'princess', 'are', 'you', 'going', 'to', 'make', 'me', 'moan', 'welp', 'apparently', 'he', 'retired', 'havent', 'i', 'forgot', '2', 'ask', 'ü', 'all', 'smth', 'there', 's', 'a', 'card', 'on', 'da', 'present', 'lei', 'how', 'want', 'write', 'or', 'sign', 'it', 'ok', 'thk', 'got', 'then', 'u', 'wan', 'come', 'now', 'wat', 'kfc', 'its', 'tuesday', 'only', 'buy', 'meals', 'no', 'gravy', 'mark', 'dear', 'was', 'sleeping', 'p', 'pa', 'nothing', 'problem', 'ill', 'be', 'lt', 'gt', 'my', 'uncles', 'in', 'atlanta', 'wish', 'guys', 'great', 'semester', 'phone', 'which', 'your', 'another', 'number', 'greatest', 'test', 'of', 'courage', 'earth', 'is', 'bear', 'defeat', 'without', 'losing', 'heart', 'gn', 'tc', 'dai', 'what', 'this', 'can', 'send', 'resume', 'id', 'am', 'late', 'will', 'at', 'freemsg', 'why', 'haven', 't', 'replied', 'text', 'm', 'randy', 'sexy', 'female', 'and', 'live', 'local', 'luv', 'hear', 'from', 'netcollex', 'ltd', '08700621170150p', 'per', 'msg', 'reply', 'stop', 'end', 'k', 'when', 're', 'way', 'congrats', 'mobile', '3g', 'videophones', 'r', 'yours', 'call', '09061744553', 'videochat', 'wid', 'ur', 'mates', 'play', 'java', 'games', 'dload', 'polyh', 'music', 'noline', 'rentl', 'bx420', 'ip4', '5we', '150pm', 'please', 'leave', 'topic', 'sorry', 'for', 'telling', 'that', 'ooooooh', 'tell', 'get', 'yoville', 'hi', 'yijue', 'meet', '11', 'tmr', 'show', 'world', 'about', 'europe', 'well', 'must', 'pain', 'catch', 'know', 'mean', 'texting', 'bill', '3', '33', '65', 'so', 'thats', 'not', 'bad', 'yeah', 'where', 'class', 'pin', 'fighting', 'with', 'easy', 'either', 'win', 'lose', 'bt', 'fightng', 'some1', 'who', 'close', 'dificult', 'if', 'still', 'dude', 'up', 'teresa', 'hope', 'have', 'been', 'okay', 'didnt', 'these', 'people', 'called', 'them', 'they', 'had', 'received', 'package', 'since', 'dec', 'just', 'thot', 'ld', 'like', 'do', 'fantastic', 'year', 'best', 'reading', 'plus', 'really', 'bam', 'first', 'aid', 'usmle', 'work', 'done', 'time', 'coming', 'many', 'model', 'sony', 'ericson', 'also', 'der', 'luks', 'good', 'modl', 'jus', 'ans', 'lar', 'll', 'noe', 'later', 'nah', 'don', 'think', 'goes', 'usf', 'lives', 'around', 'here', 'though', 'leaving', 'looks', 'scrumptious', 'daddy', 'wants', 'eat', 'night', 'long', 'able', 'see', 'morning', 'chillaxin', 'sir', 'weekend', 'let', 'raise', 'dad', 'however', 'said', 'would', 'rest', 'available', 'mid', 'feb', 'amount', 'quite', 'short', 'hoping', 'help', 'day', 'abiola', 'waiting', 'collected', 'dough', 'pls', 'go', 'place', 'sent', 'control', 'back', 'lemme', 'ready', 'we', 'made', 'eta', 'taunton', '12', '30', 'as', 'planned', 'okday', 'xx', 'yup', 'elaborating', 'safety', 'aspects', 'some', 'other', 'issues', 'office', 'but', 'town', 'cos', 'gep', 'home', 'could', 'bus', 'worry', 'finished', 'march', 'ish', 've', 'latest', 'version', 'project', 'an', 'actor', 'evening', 'sleep', 'unemployed', 'moment', 'always', 'every', 'saturday', 'working', 'eyes', 'philosophy', 'bit', 'more', 'free', 'chat', 'faith', 'makes', 'things', 'possible', 'love', 'beautiful', 'may', 'three', 'christmas', 'merry', 'os', 'ubandu', 'run', 'installing', 'hard', 'disk', 'use', 'copy', 'important', 'files', 'system', 'give', 'repair', 'shop', 'start', 'mca', 'conform', 'hello', 'village', 'pub', '8', 'accordingly', 'message', 'activate', '500', 'messages', 'replying', 'word', 'terms', 'conditions', 'visit', 'www', '07781482378', 'com', 'hey', 'big', 'deal', 'take', 'care', 'has', 'added', 'their', 'contact', 'list', 'fullonsms', 'sms', 'tot', 'outside', 'darren', 'say', 'shopping', 'course', 'nice', 'went', 'sim', 'lim', 'look', 'mp3', 'player', '08702490080', 'tells', '09066358152', 'claim', '5000', 'prize', 'enter', 'personal', 'details', 'prompts', 'careful', 'someone', 'conacted', 'our', 'dating', 'service', 'entered', 'because', 'fancy', 'find', 'out', 'landline', '09111030116', 'pobox12n146tf15', 'ree', 'entry', 'weekly', 'comp', 'chance', 'ipod', 'txt', 'pod', '80182', 'std', 'rate', 'c', 'apply', '08452810073', '18', 'having', 'lunch', 'alone', 'bored', 'ya', 'very', 'thursday', 'everything', 'need', 'actually', 'better', 'yourself', 'yor', 'own', 'money', 'than', 'man', 'pay', 'rent', 'even', 'fill', 'fucking', 'gas', 'tank', 'stressed', 'depressed', 'didn', 'thanksgiving', 'cuz', 'hav', 'almost', 'reached', 'unable', 'connect', 'oh', 'lk', 'tt', 'den', 'e', 'one', 'ends', 'cine', 'lor', 'dun', 'yogasana', 'oso', 'bucks', 'banks', 'fees', 'fixed', 'bank', 'sad', 'story', 'last', 'week', 'b', 'wife', 'did', 'nt', 'parents', 'n', 'kids', 'colleagues', 'cabin', 'happy', 'boss', 'felt', 'special', 'she', 'askd', '4', 'after', 'invited', 'her', 'apartment', 'mind', 'into', 'bedroom', 'minute', 'sed', 'mood', 'came', '5', 'minuts', 'latr', 'cake', 'kidz', 'friends', 'screaming', 'surprise', 'sofa', 'naked', 'cash', 'balance', 'currently', 'pounds', 'maximize', '86688', '150p', 'cc', '08718720201', 'hg', 'suite342', '2lands', 'row', 'w1j6hl', '2nd', 'tried', 'won', '750', 'pound', '087187272008', 'now1', '10p', 'national', 'andros', 'ice', 'etc', 'disturb', 'liao', 'wake', 'anyway', 'change', 'couldn', 'dying', 'feel', 'him', 'wanted', 'probably', 'gone', 'should', 'blackberry', 'bold', 'torch', 'new', 'used', 'saying', 'g', 'wifi', 'ipad', 'station', 'happen', 'arrange', 'online', 'wot', 'dust', 'finally', 'already', 'guy', 'loving', 'final', '150', 'worth', 'discount', 'vouchers', 'today', '85023', 'savamob', 'member', 'offers', 'cs', 'pobox84', 'm263uz', '00', 'subs', '16', 'drive', 'allo', 'braved', 'buses', 'taken', 'trains', 'triumphed', 'ham', 'jolly', 'armand', 'says', 'ass', 'over', 'epsilon', 'wont', 'driving', 'clas', 'urgent', 'trying', 'weekends', 'draw', 'shows', '900', 'guaranteed', '09061701851', 'code', 'k61', 'valid', '12hours', 'meant', 'cant', 'wait', 'again', 'getting', 'bridgwater', 'banter', 'fact', 'cleaning', 'upset', 'priority', 'constantly', 'aint', 'thing', 'sha', 'until', 'slightly', 'disastrous', 'pm', 'fav', 'darlings', 'off', 'coffee', 'wld', 'stay', 'tomorrow', 'same', 'convey', 'regards', 'amp', 'packing', 'car', 'room', 'cthen', 'shd', 'enuff', 'conclusion', 'contents', 'pg', 'references', 'doing', 'cover', 'nope', 'wif', 'sis', 'aft', 'bathing', 'dog', 'bathe', 'rain', 'soon', 'dates', 'area', 'lots', 'registered', 'date', 'flirtparty', 'us', 'replys150', 'lul', 'im', 'gettin', 'juicy', 'gossip', 'hospital', 'two', 'nurses', 'talking', 'fat', 'thinks', 'shes', 'obese', 'oyea', 'stash', 'ran', 'dry', 'pick', 'sunday', 'mr', 'hows', 'london', 'treatin', 'treacle', 'fri', 'evaluation', 'la', 'yeh', 'def', 'up4', 'something', 'sat', 'payed2day', 'havbeen', 'given', '50', 'rise', '4my', 'havebeen', 'preschoolco', 'ordinator', '2i', 'feelingood', 'endowed', 'inches', 'todays', 'vodafone', 'numbers', 'ending', '0089', 'four', 'digits', 'selected', '350', 'award', 'matches', '09063442151', 'strong', 'hands', 'somebody', 'steal', 'opposed', 'drunken', 'before', 'huh', 'means', 'computational', 'science', 'y', 'dat', 'push', 'wah', 'haha', 'drugs', 'further', 'club', 'tones', 'mix', 'tone', 'enjoy', 'html', 'cost', 'gbp4', 'mfl', 'po', 'box', '1146', 'mk45', '2wt', 'plan', 'manage', 'o', 'uv', 'causes', 'mutations', 'sunscreen', 'essential', 'thesedays', 'sweet', 'dreams', 'tease', 'simply', 'grins', 'keep', 'posted', 'prey', 'smile', 'devouring', 'kiss', 'fear', 'fainting', 'housework', 'quick', 'cuppa', 'were', 'those', 'tour', 'thought', 'curious', 'sugar', 'dump', 'heap', 'mom', 'decided', 'lowes', 'boring', 'borderline', 'whatever', 'part', 'haf', 'msn', 'hotmail', 'ah', 'sounds', 'talents', 'dinner', 'next', 'bring', 'right', 'wonder', 'smiling', 'crazy', 'away', 'necessarily', 'respectful', 'dont', 'understand', 'waliking', 'ard', 'anything', 'house', 'talk', 'calling', 'calicut', 'couple', 'pics', 'fb', 'snow', 'too', 'waking', 'king', 'hill', 'check', 'corect', 'speling', 'sarcasm', 'congratulation', 'coughing', 'd', 'much', 'case', 'scenario', 'little', 'pocy', 'bell', 'welcome', 'uk', 'giving', '08719839835', 'future', 'mgs', 'billed', 'daily', 'cancel', '89123', 'cookies', 'jelly', 'freephone', '0800', '542', '0578', 'reach', 'decimal', 'cann', 'voice', 'asa', 'shade', 'stuff', 'wonderful', 'any', 'teach', 'ship', 'cars', 'rite', 'hiding', 'stranger', 'lessons', 'sch', 'di', 'thanx', 'birthday', 'nap', 'picking', 'dare', 'luck', 'sorting', 'chatting', 'england', 'official', 'poly', 'ringtone', 'colour', 'flag', 'yer', '84199', 'opt', 'eng', 'box39822', 'w111wx', '1', 'include', 'mcfly', 'ab', 'sara', 'jorge', 'shock', 'smith', 'switch', 'order', 'follow', 'instructions', 'regret', 'cudnt', 'drove', 'down', 'frm', 'ctla', 'cochin', 'left', 'ente', 'style', 'ishtamayoo', 'bakrid', 'full', 'heat', 'applyed', 'oil', 'voicemail', '08719181513', 'under', 'sea', 'lays', 'rock', 'envelope', 'paper', 'words', 'asked', 'guess', '09058095107', 'revealed', 'pobox', '7', 's3xy', 'offer', 'video', 'handset', 'anytime', 'networks', 'mins', 'unlimited', 'camcorder', '08000930705', 'reminder', 'o2', 'credit', 'name', 'postcode', 'sittin', 'waitin', 'ring', 'wind', 'drops', 'scary', 'plz', 'bslvyl', 'via', 'lol', 'friendship', 'hanging', 'thread', 'cause', 'cool', 'fun', 'practicing', 'making', 'babies', 'emigrated', 'maybe', 'hopeful', 'raglan', 'rd', 'edward', 'behind', 'cricket', 'ground', 'gimme', 'closeby', 'escape', 'bridge', 'needs', 'lager', 'tomo', 'baaaaaaaabe', 'miss', 'crave', 'boy', 'grl', 'hogolo', 'gold', 'chain', 'kodstini', 'agalla', 'necklace', 'madstini', 'hogli', 'mutai', 'eerulli', 'kodthini', 'kano', 'soooo', 'omg', 'missed', 'problems', 'provider', 'thank', 'tming', 'unclaimed', '09066368327', 'closingdate04', '09', '02', 'claimcode', 'm39m51', '50pmmorefrommobile2bremoved', 'mobypobox734ls27yf', 'celebrate', 'ny', 'family', '200', 'spree', '08717895698', 'mobstorequiz10ppm', 'honeybee', 'sweetest', 'god', 'laughed', 'havnt', 'met', 'person', 'moral', 'crack', 'jokes', 'gm', 'ge', 'blimey', 'exercise', 'kinda', 'remember', 'hmm', 'putting', 'forget', 'owns', 'private', 'property', 'passionate', 'attempt', '1000call', '09071512432', 'b4', '300603t', 'csbcm4235wc1n3xx', 'callcost150ppmmobilesvary', 'max', 'boytoy', 'constant', 'till', 'spoiled', 'downloaded', 'content', 'paid', 'goto', 'http', 'doit', 'mymoby', 'tv', 'collect', 'de', '2day', 'normal', 'real', 'unique', 'mylife', 'lost', 'looking', 'job', 'ta', 'earn', 'babe', 'wanna', 'howz', 'fine', 'sux', 'snake', 'old', 'raiden', 'buff', 'happiness', 'stability', 'tranquility', 'vibrant', 'colourful', 'life', 'masters', 'polyphonic', 'super', '87131', 'sn', 'pobox202', 'nr31', '7zs', 'subscription', '450pw', 'prasanth', 'ettans', 'mother', 'passed', 'pray', 'escalator', 'tonexs', 'renewed', 'charged', 'choose', '10', 'polys', 'month', 'clubzed', 'co', 'billing', 'impressively', 'sensible', 'early', 'thinkin', 'lookatme', 'thanks', 'purchase', 'clip', '35p', 'mmsto', '32323', 'uncle', 'informed', 'paying', 'school', 'directly', 'food', 'predict', 'finish', 'buying', 'usual', 'ahold', 'anybody', 'throw', 'regarding', '3230', 'textbook', 'intro', 'algorithms', 'second', 'edition', 'selling', 'once', 'crying', 'baby', 'building', 'map', 'imprtant', 'wil', 'tomorw', 'gud', 'ni8', 'drink', 'srs', 'mail', 'evry', 'emotion', 'dsn', 'prayrs', 'wit', 'othrwise', 'drop', 'tear', 'lik', 'movies', 'side', 'engalnd', 'telly', 'watch', 'mia', 'elliot', 'kissing', 'damn', '74355', 'xmas', 'iscoming', 'awarded', 'cd', 'gift', '100', '87066', 'tnc', 'congratulations', '125gift', 'wkly', 'tncs', 'ldew', 'com1win150ppmx3age16', 'between', '250', 'wk', '83370', 'trivia', 'net', 'custcare', '08715705022', '1x150p', 'mrng', 'iam', 'awesome', 'whenever', 'suffers', 'lot', 'violence', 'silence', 'ayo', 'travelled', 'forgotten', 'his', 'boye', 'guide', 'torrents', 'particularly', 'legal', 'slowing', 'gr8', 'started', 'honey', 'moon', 'baaaaabe', 'misss', 'youuuuu', 'found', 'enc', 'sunshine', 'quiz', 'q', 'top', 'dvd', 'country', 'algarve', 'ansr', '82277', 'sp', 'tyrone', 'hellogorgeous', 'fone', 'charge', 'lst', 'nitw', 'wen', 'texd', 'hopeu', 'ad', 'wkend', 'sure', 'lookin', '4ward', '2mrw', 'jaz', 'darlin', 'few', 'bday', 'drinks', 'nite', '2morrow', 'xxx', 'put', 'excellent', 'sub', 'face', 'happens', '2waxsto', 'medical', 'insurance', 'deliver', 'basic', 'til', 'friday', 'major', 'repeat', 'road', 'yar', 'clever', 'guesses', 'willing', 'aiya', 'leona', 'attach', 'naughty', 'pix', 'question', 'email', 'seventeen', 'seven', 'hundred', 'ml', 'pump', 'petrol', 'bonus', 'caller', '27', '6', '03', '08714714011', 'everybody', 'doesnt', 'log', 'fuck', 'rhode', 'island', 'wherever', 'bong', 'solve', 'murdered', 'afternoon', 'police', 'questioned', 'everyone', 'murder', 'took', 'cook', 'cooking', 'gardener', 'vegetables', 'maid', 'post', 'children', 'neighbour', 'marriage', 'arrested', 'murderer', 'immediately', 'reason', 'brilliant', 'times', 'lobby', 'fingers', 'press', 'buttons', 'doesn', 'excuse', 'decorating', 'charges', 'transfer', 'withdraw', 'anyhow', 'die', 'stuffs', 'chase', 'stated', '08718738034', 'shu', 'singapore', 'meh', 'specially', 'receive', '2000', '08712402050', 'lines', '10ppm', 'ag', 'promo', 'chill', '6hrs', 'surgical', 'emergency', 'unfolds', 'placement', 'wun', 'angry', 'tonight', 'natalja', '25', 'f', 'inviting', 'friend', '440', 'ac', 'nat27081980', 'frnd', '62468', 'painful', 'being', 'most', 'toughest', 'acting', 'unspoken', 'inside', 'moving', 'flat', 'lamp', 'caroline', 'umma', 'hungry', 'dunno', 'tahan', 'anot', 'aight', 'closer', 'jay', 'tyler', 'trips', 'true', 'easier', 'jon', 'pete', 'ive', 'bin', 'spain', 'recently', 'sum', 'dinero', 'rents', 'mayb', 'interested', '000pes', '48', 'tb', 'james', 'newspapers', 'stopped', 'cream', 'norm', '15', 'st', 'tests', 'sort', 'library', 'point', 'letter', 'access', 'move', 'gorgeous', 'squishy', 'mwahs', 'pleased', 'inform', 'application', 'airtel', 'broadband', 'processed', 'successfully', 'installation', 'within', 'days', 'alright', 'might', 'desparate', 'learned', 'fake', 'schedule', 'sun', 'sunoco', 'howard', '06', '09066368753', 'asap', '97n7qp', '150ppm', 'retard', 'sit', 'summer', 'such', 'magical', 'sight', 'worlds', 'dressed', 'white', 'oooooh', 'amy', 'ure', 'intelligent', 'woman', 'arngd', 'while', 'walkin', 'unfortuntly', 'bites', 'dancing', 'frnt', 'sayin', 'bite', 'havin', 'goin2bed', 'only1more', 'w', 'frens', 'lov', 'line', 'hurt', 'truth', 'tolerat', 'bcs', 'never', 'comfort', 'lie', 'hcl', 'chennai', 'requires', 'freshers', 'process', 'english', 'needed', 'salary', 'upto', 'ms', 'suman', 'telephonic', 'interview', 'indyarocks', 'men', 'shorter', 'ladies', 'gaze', 'gosh', 'spose', 'logo', 'lover', 'names', 'joined', 'name1', 'name2', 'mobno', 'eg', 'adam', 'eve', '07123456789', '87077', 'yahoo', 'pobox36504w45wq', 'txtno', 'ads', 'costa', 'del', 'sol', 'holiday', 'await', 'collection', '09050090044', 'toclaim', 'sae', 'pobox334', 'stockport', 'sk38xh', 'max10mins', 'file', 'bag', 'mobiles', '2004', 'nokia', '89545', 'biz', '2optout', '087187262701', '50gbp', 'mtmsg18', 'txtauction', 'na', '3650', 'camera', '09066382422', 'calls', 'ave', '3mins', 'vary', '300603', 'bcm4284', 'ldn', 'wc1n3xx', 'double', 'orange', 'tariffs', 'phones', 'mobileupd8', '08000839402', '2stoptxt', 'eastenders', 'flower', 'does', 'dot', 'compare', 'herself', 'violet', 'tulip', 'lily', '84025', 'wkent', '150p16', '850', 'toa', 'payoh', '650', 'told', 'gautham', 'imma', 'headstart', 'bout', '30ish', 'desperate', 'company', 'head', 'earlier', 'goin', 'rummer', 'gonna', 'rimac', 'bookedthe', 'hut', 'coz', 'nobody', 'fight', 'self', 'battle', 'vivekanand', '9t', 'sd', 'uawake', 'feellikw', 'shit', 'justfound', 'aletter', 'thatmum', 'gotmarried', '4thnov', 'ourbacks', 'fuckinnice', 'selfish', 'deviousbitch', 'l', 'ericsson', 'cannot', 'oredi', 'li', 'hai', 'lecturer', 'repeating', 'weeks', 'waste', 'cheers', 'zogtorius', 'staring', 'age', 'deciding', 'whether', 'boo', 'soc', 'type', 'ar', 'girl', 'bed', 'recovery', 'rather', 'pass', 'cooped', 'taking', 'starts', 'monday', 'plm', 'thkin', 'nd', 'rush', 'parco', 'nb', 'okie', 'ma', 'dey', 'swell', 'sooner', 'gary', 'fix', 'knows', 'far', 'ptbo', 'cheaper', 'hand', 'machines', 'storming', 'lift', 'phne', 'knw', 'wt', 'meaning', 'margaret', 'girlfrnd', 'grahmbell', 'invnted', 'telphone', '4get', 'h', 'yo', 'byatch', 'whassup', 'aren', 'shower', 'crap', 'borin', 'boggy', 'biatch', 'nxt', 'il', 'sary', 'tim', 'bollox', 'tol', '6times', 'justbeen', 'overa', 'broke', 'brains', 'mush', 'gotta', 'leo', 'somewhere', 'beneath', 'pale', 'light', 'goodnite', 'definitely', 'alrite', 'twenty', 'past', 'five', 'train', 'durham', 'reserved', 'seat', '3510i', 'delivered', 'minutes', 'tessy', 'favor', 'wishes', 'nimya', 'dnt', 'shijas', 'perumbavoor', 'urination', 'else', 'each', 'value', 'brings', 'customer', 'min', 'polo', 'suite', '373', 'w1j', '6hl', 'busy', 'mob', 'nok', '87021', '1st', 'txtin', 'hl', '4info', 'belive', 'exactly', 'anyways', 'jide', 'study', 'visiting', 'letters', 'expecting', 'isn', 'environment', 'terrific', 'tonights', 'game', 'optout', 'network', '08000776320', 'delivery', '6230', 'digital', 'auction', '83383', 'pobox114', '14tcr', 'w1', 'search', 'try', 'aiyar', 'ninish', 'address', 'icky', 'american', 'freek', 'callin', 'jen', 'eh', 'beerage', 'doctors', 'reminds', '2go', 'lounge', 'owl', 'licks', 'flirt', 'nyt', 'seriously', 'hit', 'otherwise', 'vomiting', 'complimentary', 'trip', 'eurodisinc', 'trav', 'aco', 'entry41', '1000', 'dis', '87121', 'morefrmmob', 'shracomorsglsuplt', 'ls1', '3aj', 'flying', 'monkeys', 'certainly', 'mine', 'shall', 'mistake', '08715205273', 'league', 'touch', 'crucial', 'sometimes', 'noon', 'avatar', '3d', 'imp', 'flies', 'hittng', 'reflex', '9', 'tonite', 'predicting', 'inch', 'accumulation', 'wnt', 'bmw', 'urgently', 'vry', 'hv', 'shortage', 'lacs', 'source', 'arng', 'amt', 'prob', 'ana', 'tomarrow', 'sathy', 'rto', 'hon', 'lab', 'warm', 'bath', 'cup', 'milk', 'magic', 'loose', 'weight', 'fancies', '09058097218', 'ls15hb', 'eatin', 'chinese', 'semiobscure', 'internet', 'emailed', 'yifeng', 'fr', 'high', 'diesel', 'v', 'wow', 'gay', 'firmware', 'update', 'mum', 'sef', 'laugh', 'meanwhile', 'darling', 'anjie', 'wasn', 'fault', 'spouse', 'pmt', 'sumthin', '4give', 'shldxxxx', 'site', 'simulate', 'gives', 'tough', 'questions', 'readiness', 'gym', 'ago', 'sac', 'score', 'set', 'batsman', 'believe', 'kent', 'vale', 'joy', 'father', 'john', '____', 'ths', 'iq', 'tis', 'ias', 'answer', 'movie', 'fetch', 'yun', 'creep', '_', 'kind', 'asthma', 'attack', 'half', 'hr', 'park', 'canteen', 'account', '07xxxxxxxxx', '786', 'unredeemed', 'points', '08719181259', 'identifier', 'xxxxx', 'expires', '26', '05', 'enters', 'remove', 'transfered', 'dollars', 'removed', 'differ', 'trust', '9ja', 'sending', 'tlk', 'urgnt', 'whats', 'least', 'wating', 'wipro', 'years', 'information', 'user', 'lucky', '2find', 'onto', 'urawinner', 'awaiting', 'book', 'yoga', 'survey', 'voucher', 'holder', 'meal', 'following', 'link', 'pc', 'dining', 'experiencehttp', 'vouch4me', 'etlp', 'asp', 'whatsup', 'fuckin', 'showr', 'spent', '2geva', 'mint', 'xxxx', 'handed', 'celebrations', 'swing', 'yet', 'ever', 'okey', 'doke', 'laying', 'speak', 'firsg', 'stomach', 'thru', 'trauma', 'swear', 'gandhipuram', 'walk', 'cross', 'cut', 'street', 'turn', 'hour', 'carry', 'heavy', 'num', '98321561', 'familiar', 'abt', 'ktv', 'lect', 'beside', 'watching', 'keeping', 'gd', 'infernal', 'affairs', 'yay', 'cinema', 'wouldn', 'sound', 'penis', 'girls', 'add', 'enjoyed', '61610', 'unsubscribe', '08712400602450p', 'provided', 'tones2you', 'nuerologist', 'beach', 'expected', 'alex', 'fifteen', 'concerned', 'cutie', 'wales', 'hills', 'avent', 'killed', 'myself', 'save', 'wedding', 'lingerie', 'bridal', 'petticoatdreams', 'superb', 'selection', 'brought', 'weddingfriend', 'joke', 'university', 'florida', 'seem', 'holla', 'wishing', 'revealing', 'appreciate', 'sacrifice', 'direct', 'jobs', 'uhhhhrmm', 'isnt', 'youre', 'sick', 'space', 'furniture', 'lock', 'locks', 'key', 'jenne', 'leh', 'pt2', '87575', 'engin', 'arts', '2003', 'statement', '800', 'un', 'redeemed', '08715203656', '42049', '04', 'buzz', 'together', 'neva', 'cha', 'quiteamuzing', 'scool', 'probpop', 'cu', 'satthen', 'hunny', '4brekkie', 'psxtra', 'lrg', 'portions', 'orchard', 'sheffield', 'nanny', '400', 'proze', '83355', 'norcorp', 'mtmsgrcvd18', 'elaine', 'meeting', 'confirmed', 'bugis', 'near', 'starting', 'become', 'issue', 'suggest', 'setting', 'definite', 'greece', 'tarot', 'texts', '85555', 'msgs', '447801259231', 'secret', 'admirer', 'reveal', '09058094597', 'payments', 'fedex', 'prof', 'papers', 'sem', 'student', 'enna', 'kalaachutaarama', 'party', 'contribute', 'greatly', 'appreciated', 'contacts', 'red', 'blue', 'purple', 'realy', 'hot', 'pink', 'swt', 'thnk', 'lyk', 'green', 'wana', 'yelow', 'bck', 'black', 'jealous', 'brown', 'nw', 'giv', 'color', 'website', 'hold', 'em', 'using', 'spacebucks', 'delay', 'safe', 'envy', 'shanghai', '21st', 'instead', 'cya', 'folks', 'community', 'repent', 'accidentally', '000', '09066362220', 'box97n7qp', 'kindly', 'consider', 'walls', 'bunkers', 'peaceful', 'enough', 'matter', 'slept', 'sore', 'throat', 'scratches', 'soiree', 'june', '3rd', 'gentle', 'deep', 'tight', 'pussy', 'missing', 'plenty', 'bishan', 'nearer', 'roger', 'persons', 'ujhhhhhhh', 'computer', 'shipped', 'sandiago', 'parantella', 'lane', 'wtf', 'poop', 'lo', 'lesson', 'funny', 'windows', 'logoff', 'yan', 'jiu', 'fast', 'jazz', 'power', 'hip', 'hop', 'kb', 'ummmmmaah', 'returns', 'westshore', 'hyde', 'valentine', 'tho', 'hardly', 'lick', 'mouth', 'hols', 'hairdressers', 'appointment', 'beforehand', 'table', 'booked', 'eight', 'ticket', 'notice', 'plans', 'six', 'chances', '20', 'csh11', '6days', 'tsandcs', 'info', 'nosy', 'idk', 'reacting', 'freaked', 'hurry', 'butt', 'hang', 'starving', 'cooked', 'wasted', 'muz', 'chiong', 'anyone', 'liquor', 'flaked', 'loko', 'mountain', 'deer', 'superior', 'ee', 'poortiyagi', 'odalebeku', 'hanumanji', 'hanuman', 'bajarangabali', 'maruti', 'pavanaputra', 'sankatmochan', 'ramaduth', 'mahaveer', 'janarige', 'ivatte', 'kalisidare', 'olage', 'ondu', 'news', 'keluviri', 'maretare', 'inde', 'dodda', 'problum', 'nalli', 'siguviri', 'idu', 'matra', 'neglet', 'jess', 'x', 'thinking', 'app', 'cafe', 'geeee', 'wahala', 'success', 'laptop', 'coat', 'wear', 'arnt', 'pissed', 'xxxxxxxxxxxxxx', 'favourite', 'workin', 'nearly', 'rang', 'chikku', 'cell', 'thts', 'greatness', 'possession', 'especially', 'offense', 'gals', 'nìte', 'spoke', 'maneesha', 'satisfied', 'experience', 'toll', 'woken', 'practice', 'rats', 'vote', 'themes', 'fujitsu', 'series', 'lifebook', 'combine', 'winner', '09071517866', '150ppmpobox10183bhamb64xe', 'sday', 'training', 'chgs', 'rcv', 'tke', 'oclock', 'bash', 'drug', 'anymore', 'wearing', 'pic', 'flights', 'inc', 'operator', '0871277810810', 'computers', 'single', 'partner', '1000s', '62220cncl', 'stopcs', '08717890890', 'tickets', 'sale', 'during', '10am', '8pm', 'thurs', 'forgiven', 'chasing', 'dream', 'charles', 'er', 'limping', 'slowly', 'followed', 'aa', 'exhaust', 'mmmmmm', 'ahmad', 'begin', 'takes', 'jot', 'slave', 'shell', 'unconsciously', 'avoiding', 'unhappy', 'checking', 'slow', '2nights', 'uve', 'xchat', 'uks', 'wildest', 'msgrcvdhg', '18yrs', 'falling', 'bcoz', 'force', 'fall', 'smeone', 'ip', 'considering', 'minecraft', 'server', 'boltblue', 'mono', 'poly3', 'slide', 'jamz', 'toxic', 'sue', 'lapdancer', 'sex', '89555', 'textoperator', 'g2', '1da', '150ppmsg', 'kate', 'lovely', 'sing', 'gave', 'poem', 'cheer', 'twinks', 'bears', 'scallies', 'skins', 'jocks', '08712466669', '08712460324', 'nat', 'authorise', 'payment', 'freezing', 'windy', 'enufcredeit', 'tocall', 'ileave', 'uni', 'boys', '087147123779am', '7pm', 'ambrith', 'madurai', 'arun', 'dha', 'marrge', 'remembr', 'squeeeeeze', 'hug', 'frndshp', 'cute', 'luvd', 'none', 'hate', 'tix', 'smiled', 'answered', 'gudnite', 'reaching', 'small', 'prestige', 'note', 'asks', 'disconnect', 'iz', 'terrorist', 'itz', 'confirmd', 'motorola', 'verified', 'cnn', 'ibn', 'match', 'india', 'flight', 'paragon', 'hee', 'srsly', 'yi', 'printing', 'handing', 'balls', 'mths', 'extra', 'update_now', 'sonyericsson', 'bluetooth', 'call2optout', 'f4q', 'aslamalaikkum', 'insha', 'allah', 'tohar', 'beeen', 'muht', 'albi', 'mufti', 'mahfuuz', 'neft', 'transaction', 'reference', 'rs', 'credited', 'beneficiary', 'promotion', '8714714', 'city', 'break', 'store', '88039', 'skilgme', 'tscs087147403231winawk', 'age16', '50perwksub', '2nite', '09058095201', 'land', '12hrs', 'february', 'april', 'hustle', 'forth', 'audition', 'season', 'sister', 'moved', 'harlem', 'salam', 'alaikkum', 'pride', 'pleasure', 'tea', 'qatar', 'rakhesh', 'indian', 'yupz', 'slots', 'role', 'miracle', 'knew', 'looked', 'young', 'jokin', 'oni', 'alternative', 'yr', 'term', 'hiya', 'pleasant', 'checked', 'statements', 'acc', '530', 'esplanade', 'meive', 'gotany', 'diet', 'ate', 'slices', 'pizza', 'yesterday', 'ugh', 'loans', 'purpose', 'tenants', 'noworriesloans', '08717111821', 'knock', 'whose', '80082', 'choice', 'tkls', 'stoptxtstop', 'banned', 'frying', 'pan', 'cheap', 'perhaps', 'silly', 'likely', 'stuffed', 'pig', 'bleh', 'writhing', '11mths', 'oranges', 'upd8', 'freefone', '2stoptx', 'hardcore', 'porn', '69200', '24', 'hrs', 'chrgd', '50p', '2exit', 'glad', 'claire', 'sell', 'predicte', 'nigeria', 'dictionary', 'mode', 'screen', 'gently', 'interesting', 'join', 'fastest', 'growing', 'rcvd', '25p', '83021', 'el', 'nino', 'gets', 'himself', 'spageddies', 'laughing', 'morn', 'onum', 'ela', 'usually', 'respond', 'shag', 'sextextuk', 'xxuk', 'suzy', '69876', 'txts', 'carlos', 'boooo', 'quit', 'likes', 'dislikes', 'tampa', 'january', 'teams', 'players', 'pongal', 'death', 'robs', 'avenge', 'doggy', 'pdate_now', 'yhl', 'lil', 'drivby', '0quit', 'edrunk', 'iff', 'pthis', 'senrd', 'dnot', 'dancce', 'drum', 'basq', 'ihave', '2nhite', 'ros', 'xxxxxxx', 'posible', 'century', 'cm', 'frwd', 'different', 'woke', 'tddnewsletter', 'emc1', 'thedailydraw', 'helen', 'dozens', 'prizeswith', 'height', 'recycling', 'read', 'twice', 'spend', 'earning', 'spending', 'ten', 'shelf', 'egg', 'sam', 'nic', 'checkin', 'significant', 'kallis', 'bat', 'innings', 'wine', 'idea', 'slurp', 'juz', 'route', 'ganesh', 'dress', 'sang', 'uptown', '80', '83600', 'tat', 'vid', 'finishd', 'skye', 'j', 'feeling', 'hopeso', 'amnow', 'feelin', 'ithink', 'tonsolitusaswell', 'layin', 'bedreal', 'lotsof', 'hell', 'thus', 'shouldn', 'smoke', 'kappa', 'mu', '08717898035', 'unsub', 'erm', 'contract', 'the4th', 'october', 'rt', 'pro', 'ringtoneking', '08701237397', 'credits', 'redeemable', 'kicks', '4the', 'officially', 'philosophical', 'hole', 'saved', 'deliveredtomorrow', '300', 'prolly', 'tons', 'coins', 'paypal', 'voila', 'pockets', 'objection', 'bf', '1172', 'removal', '87239', 'services', '08708034412', 'med', 'stamped', '113', 'bray', 'wicklow', 'eire', 'settling', 'happenin', 'ola', 'deus', 'ex', 'parked', 'finishing', 'mandan', 'serious', 'base', 'completed', 'degree', 'joining', 'finance', 'squeezed', 'z', 'worries', 'nvm', 'aftr', 'maturity', 'understanding', 'invite', 'anywhere', 'voda', '7548', '08712300220', 'quoting', '4041', 'standard', 'rates', 'fit', 'whole', 'terrible', 'discussed', 'price', 'rental', 'wed', 'nalla', 'adi', 'entey', 'nattil', 'kittum', 'birthdate', 'tel', 'method', 'calculation', 'abj', 'serving', 'staying', 'bruce', 'downs', 'fletcher', 'birds', 'humans', 'natural', '09058097189', 'sends', 'greetings', 'stressfull', 'surely', 'adds', 'diddy', 'neighbor', 'comes', 'toothpaste', 'weed', 'deficient', 'claims', 'dept', '13', '08717507382', 'doin', 'somethin', 'swan', 'saibaba', 'colany', 'aunty', 'sundayish', 'costume', 'bloomberg', 'center', '447797706009', 'careers', 'planning', 'generally', 'uncountable', 'noun', 'pieces', 'research', 'hm', 'headache', 'giggle', 'saw', 'possibly', 'person2die', 'nvq', 'aiyo', 'mei', 'bao', 'sugardad', 'gee', 'changed', 'walmart', '449071512431', '1250', '09071512433', '050703', 'callcost', 'mobilesvary', 'belly', 'adoring', 'song', 'bro', 'creative', 'quality', 'review', 'sen', 'hun', 'onbus', '4a', 'donyt', 'hes', 'latelyxxx', 'exam', 'continue', 'brisk', 'walks', 'askin', 'dearly', 'unfortunately', 'airport', 'th', 'soup', 'exact', 'intentions', 'addicted', 'msging', 'wrong', 'decision', 'decide', 'simpler', 'less', 'pictures', 'facebook', 'lunchtime', 'organise', '83039', '62735', '450', 'accommodationvouchers', 'mustprovide', '15541', 'happened', 'cruise', 'comin', '545', '121', '60p', '09094646899', 'biggest', 'vu', 'bcm1896wc1n3xx', 'veggie', '0721072', 'wuld', 'mite', 'everyboy', 'lady', 'xxxxxxxx', '09090900040', 'listen', 'extreme', 'dirty', 'total', 'privacy', 'sic', 'listening', '7mp', '0870753331018', 'chic', 'common', 'declare', 'thesmszone', 'lets', 'anonymous', 'masked', 'potential', 'abuse', 'fantasies', '08707500020', '20p', 'ntt', '1327', 'croydon', 'cr9', '5wb', '0870', 'ful', 'lyrics', 'mandy', 'sullivan', 'hotmix', 'fm', 'chosen', 'easter', 'telephone', '09041940223', '29', 'transferred', 'rajitha', 'raj', 'ranju', 'roommates', 'shirt', 'pants', 'biola', 'fne', '114', '14', 'tcr', 'cry', 'rose', 'grave', 'stupid', 'spoil', 'recpt', 'ordered', 'nightnight', 'skyped', 'kz', 'sura', 'ultimatum', 'countin', 'aburo', 'menu', 'mm', 'hugging', 'both', 'brand', 'arrive', 'shortly', 'install', 'browse', 'artists', 'except', 'valentines', 'url', 'sth', 'specs', 'membership', 'px3748', 'tog', 'riley', 'trouble', 'classes', 'due', 'dodgey', 'burden', 'alter', 'glo', 'reverse', 'cheating', 'mathematics', 'answers', '09061702893', 'yetunde', 'moji', 'forgive', 'messenger', 'apo', 'str8', '8007', 'classic', '200p', 'december', 'entitled', 'vco', '08002986906', 'islands', 'towards', 'fever', 'holding', 'starve', 'although', 'baig', 'watches', 'touched', 'buns', 'adore', 'whr', 'treat', 'maga', 'advice', 'split', 'wiv', 'walked', 'dokey', 'program', 'slacking', 'bb', 'doctor', 'random', 'btw', 'sitting', 'lido', 'adult', 'parties', 'loss', 'gain', '078498', '08719180219', '45239', 'cartoon', 'temple', 'church', 'accept', 'begging', 'wrc', 'rally', 'oz', 'lucozade', 'energy', 'le', '61200', 'packs', 'itcould', 'summers', 'singles', 'matched', 'help08714742804', '2u2', 'tm', 'smiles', 'ended', 'copied', 'tht', 'irritating', 'gentleman', 'dignity', 'respect', 'onluy', 'matters', 'offcampus', 'opposite', 'dropped', 'refilled', 'inr', 'keralacircle', 'prepaid', 'kr', 'drms', 'pei', 'brother', 'wee', 'obviously', 'arent', 'cakes', 'arrived', 'eye', 'doc', 'hubby', 'fiting', 'ones', 'budget', 'load', 'abi', 'hw', 'mj', 'covers', 'kisses', 'shouting', 'parts', 'nose', 'essay', 'weird', 'mas', 'advance', 'eventually', 'build', 'tolerance', 'smokes', 'fucked', 'hits', 'nigro', 'goigng', 'perfume', 'lifted', 'hopes', 'approaches', 'hurts', 'studying', 'relatives', 'works', 'bother', 'films', 'aluable', 'ffectionate', 'oveable', 'ternal', 'oble', 'ruthful', 'ntimate', 'atural', 'namous', 'whom', 'satanic', 'imposter', 'destiny', 'eaten', 'meds', 'ruining', 'dumb', 'realize', 'records', 'indicate', 'compensation', 'accident', 'open', 'door', 'electricity', 'fml', 'romantic', 'paris', 'nights', '79', '08704439680ts', 'pack', 'cereals', 'gari', 'spys', 'mails', 'normally', 'mah', 'awake', 'younger', 'anythin', 'pilates', 'mrt', 'hor', 'finishes', 'surprised', 'reasons', 'auntie', 'huai', 'juan', 'rencontre', 'mountains', 'taste', 'practising', 'curtsey', 'click', 'lists', 'pie', 'selflessness', 'granite', 'explosive', 'members', 'nasdaq', 'symbol', 'cdgt', 'poking', 'everyday', 'canada', 'tired', 'enjoying', 'semi', 'argument', 'apart', 'aha', 'hlday', 'horrible', 'mo', 'camp', 'amrca', 'serena', '09066612661', 'lux', 'ppm', '28', 'eh74rr', 'chechi', 'justthought', 'sayhey', 'endof', 'offdam', 'nevamind', '2hook', 'uwant', 'm8', 'lovejen', 'straight', 'iouri', 'wylie', 'ryan', 'simple', 'arithmetic', 'percentages', 'rubber', 'euro2004', 'kickoff', 'kept', 'results', 'euro', '83222', 'asleep', 'thgt', 'fren', 'token', 'liking', 'finn', 'offline', 'anjola', 'loved', 'gal', 'propsd', 'gv', 'lv', 'lttrs', 'frnds', 'threw', 'thm', 'aproach', 'dt', 'truck', 'speeding', 'wn', 'cn', 'boost', 'instantly', 'shouted', 'thy', 'lived', 'happily', '2gthr', 'drinking', 'evrydy', 'thinkthis', 'dangerous', '077xxx', '09066362206', 'eating', 'plate', 'leftovers', 'figure', 'alcohol', 'safely', 'samus', 'shoulders', 'months', 'ha', 'joking', 'confirm', 'cheque', 'gr8prizes', '8800', 'psp', '80878', 'com1win150ppmx3age16subscription', 'concentration', 'detail', 'pose', 'comb', 'hair', 'dryer', 'jackpot', '81010', 'dbuk', 'lccltd', '4403ldnw1a7rw18', 'confuses', 'christmassy', 'cheesy', 'songs', 'frosty', 'snowman', 'hopefully', 'kg', 'mon', 'weigh', 'morphine', 'effects', 'brighten', 'leg', 'musta', 'overdid', 'hooked', 'webpage', 'ripped', 'clubmoby', '08717509990', 'ringtones', 'downloads', 'glorious', 'anniversary', 'finds', 'teasing', 'across', 'coaxing', 'images', 'fond', 'souveniers', 'cougar', 'pen', 'successful', 'puttin', 'played', 'smash', 'bros', 'religiously', 'popped', 'tonght', 'lovable', 'bcums', 'childish', 'showing', 'affection', 'kettoda', 'manda', 'seems', 'remain', 'maintain', 'sh', 'jas', 'connections', 'boston', 'location', 'nyc', 'signin', 'page', 'becomes', 'habit', 'competition', 'weather', 'cold', 'vitamin', 'contacted', '09064017305', 'pobox75ldns7', 'wrk', 'meetin', 'dabooks', 'annoncement', '07046744435', 'chickened', 'messaged', 'woould', 'piggy', 'bet', 'supervisor', 'students', 'bangbabes', 'download', 'wap', 'bangb', 'bought', 'clothes', 'lap', 'shut', 'ystrday', 'medicine', 'messy', 'coherently', 'behave', 'testing', 'bothering', 'multimedia', 'sitter', 'kaitlyn', 'blood', 'including', 'poor', 'relation', 'support', 'luvs', 'praying', 'marry', '08712400200', 'eggs', 'public', 'govt', 'instituitions', 'closed', 'x49', '09065989182', 'announcement', '07099833605', 'ref', '9280114', 'allowed', 'wondering', 'grandma', 'parade', 'spell', 'wet', 'sleepwell', 'subpoly', '81618', '08718727870', 'east', 'coast', 'subscribed', '83435', 'helpline', '08706091795', 'ringing', 'houseful', 'brats', 'pulling', 'mc', 'return', '09050005321', 'macedonia', 'goals', 'team', 'scotland', '4txt', 'ú1', 'poboxox36504w45wq', 'flurries', 'melt', 'eek', 'born', 'technical', 'noncomittal', 'matric', 'shitload', 'shanil', 'exchanged', 'uncut', 'diamond', 'dino', 'prem', 'responce', 'happend', 'reunion', 'ruin', 'thesis', 'angels', 'snowball', 'fights', 'married', 'korean', 'fave', 'round', 'xavier', 'approaching', 'sankranti', 'republic', 'shivratri', 'ugadi', 'fools', 'independence', 'teachers', 'childrens', 'festival', 'dasara', 'diwali', 'mornings', 'afternoons', 'evenings', 'rememberi', 'northampton', 'afraid', 'guild', 'bristol', 'fa', 'tkts', '2005', '08452810075over18', 'jacket', 'multis', 'attended', 'stand', 'keen', 'mcr', 'character', 'resolution', 'frank', 'al', 'above', 'sipix', '09061221066', 'fromm', 'fyi', 'sporadically', 'bc', 'knowing', 'mmm', 'roast', 'adventuring', 'alle', 'mone', 'eppolum', 'oru', 'pole', 'allalo', 'size', 'elephant', 'tablets', 'shove', 'um', 'brainless', 'doll', 'vehicle', 'sariyag', 'madoke', 'barolla', 'seeing', '80488', 'valued', 'picked', '09061743386', 'syllabus', 'networking', 'buzy', 'speed', 'teju', 'highest', 'bid', '54', 'maximum', '71', 'bids', 'housewives', '0871750', '77', 'landlines', 'derp', 'worse', 'complaint', 'abusers', 'billion', 'yetty', 'sucks', 'howda', 'mathe', 'en', 'samachara', '12mths', '2price', 'linerental', '100txt', 'mth', 'tooth', '08001950382', 'd3wv', 'edison', 'rightly', 'fool', 'wise', 'speechless', 'viva', 'gnt', 'symptoms', 'beloved', 'goodmorning', 'jod', 'revision', 'keris', 'smidgin', 'cum', 'college', 'asus', 'ppl', 'randomly', 'reformat', 'imagine', 'sink', 'through', 'paces', 'cage', 'cock', 'surrounded', 'water', 'reminding', 'cuck', 'promise', 'cornwall', 'shite', 'kip', 'interflora', 'flowers', '505060', 'midnight', 'xin', 'hostel', 'washob', 'nobbing', 'nickey', 'platt', 'sinco', 'payee', 'icicibank', 'urn', 'beware', 'frauds', 'share', 'disclose', 'loverboy', 'law', 'meatballs', 'prevent', 'dehydration', 'fluids', 'smsservices', 'yourinclusive', 'comuk', 'login', '3qxj9', '08702840625', '220', 'cm2', '9ae', 'japanese', 'proverb', 'kerala', 'strike', 'against', 'google', 'nearby', 'cliffs', 'several', 'outstanding', 'invoices', 'seen', 'holby', 'someday', 'sense', 'unless', 'wikipedia', 'opinion', 'jada', 'kusruthi', 'silent', 'spl', 'matured', 'stylish', 'peace', 'jesus', 'blessed', 'ahead', 'batt', 'prepare', 'pounded', '80160', 'txt43', 'inconvenient', 'appt', 'easiest', 'barcelona', 'ru', 'cramps', 'hunting', 'searching', 'breather', 'granted', 'fulfil', 'blessing', 'keys', 'purse', 'missions', 'takin', 'foley', 'exciting', 'prizes', '82050', 'hahaha', 'brain', 'chuckin', 'trainners', 'carryin', 'bac', 'destination', 'scream', '2007', 'vip', 'pre', '81303', 'trackmarque', 'vipclub4u', 'dint', 'clean', 'cali', 'complexities', 'freely', 'taxes', 'outrageous', '2p', 'germany', '08448350055', 'planettalkinstant', 'dismay', 'sip', 'cappuccino', 'cashto', '08000407165', 'getstop', '88222', 'php', 'rg21', '4jx', 'hmmm', 'playing', 'gran', 'onlyfound', 'afew', 'cusoon', 'honi', '07753741225', '08715203677', '42478', 'evey', 'mnth', 'unnecessarily', 'affectionate', 'spare', 'miles', 'difference', 'keeps', 'exhausted', 'incredible', 'learn', 'truly', 'amazing', 'blow', 'o2fwd', '18p', '08708800282', 'feels', 'quiet', 'beth', 'aunts', 'charlie', 'vomit', 'no1', '8077', 'txting', 'getzed', '36504', 'w45wq', 'norm150p', 'created', 'gap', 'fills', 'gaps', 'tiwary', 'rcb', 'bang', 'kochi', 'tcs', '31', '30th', 'august', 'areyouunique', 'passport', 'or2optout', 'hv9d', 'kills', '4goten', 'scammers', 'smart', 'regular', 'nos', 'connection', 'format', 'disc', 'expect', 'headin', '8th', 'fifty', 'msgrcvd', 'skip', 'customercare', '08718726270', 'wednesday', 'failed', 'slippers', 'blankets', 'sufficient', 'thx', 'okmail', 'dave', 'tenerife', '09061743806', 'box326', 'cw25wx', 'impressed', 'funs', 'pages', '2years', 'strain', 'dime', 'practical', 'hmv', 'genuine', '100percent', 'wrks', 'animation', 'dr', 'lifetime', 'cheyyamo', 'watts', 'legs', 'neck', 'killing', 'amigos', 'burn', 'fran', 'ps', 'anal', 'gang', 'heading', 'complete', 'gist', 'vivek', 'nor', 'remb', 'every1', 'ava', 'goodtime', 'oli', 'melnite', 'ifink', 'sorted', 'explain', 'everythin', 'l8rs', 'fps', 'toyota', 'camry', 'olayiwola', 'mileage', 'landing', 'acknowledgement', 'astoundingly', 'tactless', 'faggy', 'demand', 'oath', 'fo', 'wining', '946', 'belongs', 'fated', 'shoranur', 'incident', 'fuelled', 'concern', 'prior', 'grief', 'women', 'flip', 'atten', 'representative', '0808', '145', '4742', '9am', '11pm', 'parking', 'bawling', 'failure', 'failing', 'taxi', 'ing', '2bold', 'indians', 'swiss', 'directors', 'lac', 'crore', 'deposited', 'taxless', 'yrs', 'delhi', 'roads', 'forever', 'suply', 'social', 'projects', 'citizen', 'monthly', 'imf', 'loan', 'blocked', 'rich', 'politicians', 'rights', 'corrupt', 'itna', 'forward', 'karo', 'ki', 'pura', 'padhe', 'annie', '087018728737', 'toppoly', 'tune', 'hours', 'lecture', 'jabo', '7250', '86021', 'complacent', 'sup', 'worried', 'caring', 'edge', 'upping', 'grams', 'bigger', 'picture', 'ache', 'tap', 'spile', 'broad', 'canal', 'timin', 'wats', 'crammed', 'velly', 'maths', 'chapter', 'hero', 'apt', 'opportunity', 'raining', 'secretly', '09065394973', 'datebox1282essexcm61xn', 'vijay', 'film', 'department', 'ours', 'waheed', 'fathima', 'fishrman', 'dark', 'waited', 'sack', 'stones', 'strtd', 'throwin', 'in2', 'atlast', '1stone', 'diamonds', '09066362231', 'shirts', 'nudist', 'themed', 'ore', 'owo', 'wa', 'moments', 'fro', 'battery', 'low', 'audiitions', 'relocate', 'sender', '4mths', 'mobilesdirect', '08000938767', 'or2stoptxt', 'stitch', 'trouser', 'heard', 'u4', 'rude', '01223585334', '2c', 'shagged', '8552', '2end', 'wiskey', 'brandy', 'rum', 'gin', 'beer', 'vodka', 'scotch', 'shampain', 'kudi', 'yarasu', 'dhina', 'vaazhthukkal', 'seeking', 'freak', 'sheets', 'drunkard', 'turning', 'moms', 'cancer', 'urfeeling', 'bettersn', 'probthat', 'overdose', 'spk', 'gam', 'kidding', 'papa', 'chief', 'royal', 'cuddle', 'spoken', 'fucks', 'sake', 'print', 'outs', 'clearly', 'andre', 'virgil', 'yoyyooo', 'permissions', 'mac', 'usb', 'flash', 'gopalettan', 'participate', 'admin', 'rushing', 'stops', 'hella', 'pickle', 'necesity', 'urself', 'witout', 'colleg', 'wth', 'functions', 'events', 'espe', 'cared', 'irritated', '4wrd', 'wthout', 'jst', 'takecare', 'brum', 'tellmiss', 'plural', 'happening', 'surfing', 'breeze', 'bright', 'fresh', 'twittering', 'txtstar', 'timi', 'clearing', 'totally', 'rejected', 'prices', 'smashed', 'driver', 'dent', 'reaction', 'intention', 'visitors', 'embarassed', 'various', 'yeovil', 'motor', 'fret', 'ovulation', 'strips', 'postal', 'loyalty', 'nokia6650', '81151', '4t', 'ctxt', 'mtmsg', 'av', '09050001808', 'm95', 'valid12hrs', 'recognises', '82324', 'basket', 'male', '08709222922', '5p', '8p', 'peak', 'honesty', 'decisions', 'womdarfull', '09061209465', 'suprman', 'matrix3', 'starwars3', 'ummifying', 'bye', 'slp', 'muah', 'youdoing', 'sar', '09050000460', 'j89', 'box245c2150pm', 'breathe', 'group', '07742676969', '08719180248', 'agents', 'experiment', 'hrishi', 'fuuuuck', 'sleepin', 'makin', 'weirdy', 'brownies', '09058094599', 'manual', 'tech', 'password', 'reset', 'troubleshooting', 'computerless', 'oreo', 'truffles', 'fondly', 'bein', 'pocay', 'wocay', '4eva', '2morrowxxxx', 'empty', 'wisdom', 'alwys', 'panren', 'paru', 'relax', 'gbp', 'approve', 'panalam', 'posts', 'commercial', 'hasbro', 'jump', 'hoops', 'changing', 'diapers', 'owed', 'ey', 'calm', 'downon', 'theacusations', 'itxt', 'iwana', 'wotu', 'thew', 'haventcn', 'ages', 'nething', 'dramatic', 'schools', 'supposed', 'blur', 'helloooo', 'welcomes', 'jason', 'mallika', 'sherawat', 'openin', 'sentence', 'formal', 'minor', 'crisis', '45pm', 'pending', 'chillin', 'ew', 'ignoring', 'sport', 'radio', 'coincidence', 'hook', 'valuable', 'situations', 'loosing', 'si', 'como', 'listened2the', 'plaid', 'album', 'air1', 'hilarious', 'braindance', 'ofstuff', 'aphex', 'abel', 'hav2hear', 'praps', 'goodo', 'wan2', 'greet', 'westlife', 'unbreakable', 'untamed', 'unkempt', '83049', 'drunk', 'motherfucker', 'textbuddy', 'horny', 'gaytextbuddy', '89693', '08715500022', 'rpl', 'cnl', 'mahal', 'oops', 'dhoni', 'title', 'salad', 'desert', 'beers', '08006344447', 'printed', 'upstairs', 'wasnt', 'phoned', '1225', '50award', '3100', 'dear1', 'best1', 'clos1', 'lvblefrnd', 'jstfrnd', 'cutefrnd', 'lifpartnr', 'belovd', 'swtheart', 'bstfrnd', 'rply', 'enemy', 'bloo', 'bowl', 'difficult', 'companion', 'chef', 'listener', 'organizer', 'boyfriend', 'sympathetic', 'athletic', 'courageous', 'determined', 'dependable', 'psychologist', 'pest', 'exterminator', 'psychiatrist', 'healer', 'stylist', 'aaniye', 'pudunga', 'venaam', 'request', 'maangalyam', 'alaipayuthe', 'callertune', 'callers', 'tirunelvai', 'filling', 'forms', 'textin', 'photo', 'shoot', 'spiffing', 'workage', 'xclusive', 'clubsaisai', '2morow', 'speciale', 'zouk', 'nichols', 'roses', '07946746291', '07880867867', 'textpod', '40gb', '84128', 'ts', '08712405020', 'seconds', 'warning', 'samantha', 'guitar', 'impress', 'doug', 'realizes', 'tscs', 'skillgame', '1winaweek', '150ppermesssubscription', 'expert', 'elsewhere', 'spook', 'halloween', 'eerie', 'zed', '08701417012150p', 'idiot', 'freinds', 'geeeee', 'barely', '80086', 'txttowin', 'cheat', 'fatty', 'exposed', 'cat', 'topped', 'bubbletext', 'renewal', 'tgxxrz', 'dorothy', 'kiefer', 'callon', 'assume', 'ahhhh', 'comedy', 'din', 'stripes', 'skirt', 'lazy', 'taka', 'football', 'basketball', 'outdoors', '07090298926', '9307622', 'lead', 'deserve', 'theatre', 'kavalan', 'explicit', 'secs', '02073162414', 'costs', 'gsex', '2667', 'wc1n', '3xx', 'rumour', 'billy', 'jogging', 'concert', 'sunny', 'california', 'abeg', 'profit', 'sponsors', 'event', 'lotr', '09066364311', 'continued', 'president', 'appy', 'fizz', 'contains', 'causing', 'sunroof', '6months', 'vikky', 'olave', 'mandara', 'trishul', 'listed', 'thasa', 'messed', 'shudvetold', 'urgran', 'neway', 'illspeak', 'u2moro', 'lay', 'bimbo', 'ugo', 'remind', 'photos', 'useful', 'wud', 'konw', 'waht', 'rael', 'gving', 'yuo', 'exmpel', 'jsut', 'ese', 'tihs', 'evrey', 'splleing', 'wrnog', 'sitll', 'raed', 'wihtuot', 'ayn', 'mitsake', 'goodnight', '09050001295', 'a21', 'wisheds', 'hundreds', 'handsomes', 'beauties', 'aunties', 'remains', 'amongst', 'thout', 'bak', 'l8r', '4882', '09064019014', 'filthy', 'stories', 'itself', 'stays', 'ors', 'stool', 'fudge', 'oreos', 'stores', '3mobile', 'chatlines', 'inclu', 'cust', 'servs', 'l8er', 'mega', 'bailiff', 'sec', 'afterwards', 'mate', 'mag', '24th', 'sept', 'derek', 'rp176781', 'regalportfolio', '08717205546', 'formatting', 'surly', 'refused', 'secured', 'unsecured', '195', '6669', 'antha', 'corrct', 'dane', 'clarification', 'prediction', 'basically', 'deepest', 'darkest', '09094646631', 'lmao', 'fish', 'memory', 'perf', 'les', 'rudi', 'snoring', 'ink', 'wamma', 'laid', 'doggin', 'locations', 'largest', 'dogging', 'dogs', '69696', 'ec2a', '3lp', 'dolls', 'patrick', 'swayze', 'stretch', 'tirunelvali', '69855', '24hrs', 'stopbcm', 'sf', 'snickering', 'chords', 'wavering', 'coping', 'individual', 'heal', 'brainy', 'recharge', 'tau', 'piah', 'hypertension', 'langport', '9pm', 'go2sri', 'lanka', '08', '0871', '4719', '523', 'box95qu', 'thangam', 'chop', 'youi', 'blowing', 'gender', '24m', 'aah', 'lush', 'fumbling', 'romcapspam', 'responding', 'presence', 'outgoing', 'bringing', 'breath', 'bread', 'others', 'jap', 'favour', 'drivin', 'shoppin', 'bw', 'chachi', 'pl', 'cal', 'tiz', 'kanagu', 'responsibilities', 'current', 'loads', 'ho', 'ain', 'answerin', 'reasonable', 'sleepy', 'applebees', 'awww', 'lonely', '0796xxxxxx', 'prizeawaiting', 'campus', 'atm', '09065171142', 'stopsms', 'confidence', 'aeronautics', 'professors', 'wer', 'calld', 'aeroplane', 'plane', 'ws', 'hurried', 'datz', 'longer', 'syria', 'cud', '30pm', 'attending', 'talks', 'waaaat', 'lololo', 'web', 'asjesus', 'wrote', 'opinions', 'rdy', 'shoes', 'sarasota', 'ovulate', '2u', '3wks', 'history', 'speedchat', '80155', 'swap', 'chatter', 'chat80155', 'rcd', 'n9dx', 'rows', 'waqt', 'se', 'pehle', 'naseeb', 'zyada', 'kisi', 'ko', 'kuch', 'nahi', 'milta', 'zindgi', 'wo', 'jo', 'hum', 'sochte', 'jeetey', 'board', 'overheating', 'reslove', 'software', 'inst', 'clock', 'specialisation', 'labor', 'shakara', 'beggar', 'rem', 'correctly', 'grinder', 'market', 'cocksuckers', 'ipads', 'worthless', 'garbage', 'novelty', 'items', 'wanting', 'running', 'managed', 'oxygen', 'resort', 'roller', 'option', 'floppy', 'snappy', 'upload', '08718730666', '08712402578', 'detailed', 'rooms', 'visa', 'gucci', 'bags', 'bills', 'difficulties', 'main', 'sources', 'unhappiness', 'stock', 'dubsack', 'hype', 'plaza', '700', 'studio', 'bedrm', 'mesages', 'performance', 'calculated', 'period', 'bitching', 'acted', 'addie', 'funk', 'tones2u', 'original', '3gbp', 'prospects', 'bleak', 'filled', 'robinson', 'advise', 'recent', '1500', '09066364589', 'shadow', 'spring', 'attracts', 'brothas', 'dependents', 'varunnathu', 'edukkukayee', 'raksha', 'ollu', 'handsome', 'finding', 'mummy', 'pookie', 'ammae', 'turns', 'steering', 'easily', 'lengths', 'behalf', 'stunning', 'befor', 'activities', 'theory', 'wins', 'situation', 'loses', 'argue', 'kick', 'correct', 'theres', 'tmrw', 'call09050000327', 'rstm', 'sw7', '3ss', 'host', 'based', 'idps', 'linux', 'systems', 'truro', 'ext', 'understood', 'upon', 'thankyou', '28th', 'ideas', 'invention', 'fly', 'cleared', 'birla', 'soft', 'girlie', 'presents', 'nicky', 'loosu', 'careless', 'meets', 'pours', 'sum1', 'becoz', 'loves', 'whos', 'general', 'nauseous', 'sweets', 'dieting', '08707509020', 'weighed', 'woohoo', 'ou', 'ibhltd', 'ldnw15h', 'kickboxing', 'club4mobiles', '87070', 'club4', 'box1146', 'dialogue', 'reltnship', 'body', 'wipe', 'tears', 'bless', 'anyplaces', 'mapquest', 'dogwood', 'tiny', 'clear', 'copies', 'conveying', '86888', 'reward', 'subscribe6gbp', '3hrs', 'txtstop', 'gamb', 'nutter', 'cutter', 'ctter', 'cttergg', 'cttargg', 'ctargg', 'ctagg', 'ie', 'gpu', 'cutest', 'agree', 'macho', 'moves', 'business', 'alfie', 'm8s', 'charity', 'nokias', '08701417012', 'ned', 'cts', 'employee', 'oic', 'complementary', 'wa14', '2px', 'hol', 'scold', 'asking', 'nan', 'bari', 'hudgi', 'yorge', 'pataistha', 'ertini', 'garage', 'centre', 'replacing', 'mentor', 'percent', 'action', '80608', 'movietrivia', '08712405022', '07808726822', '872', '9758', 'missin', 'guilty', 'squatting', 'walking', 'sliding', 'somerset', 'reassurance', 'knackered', 'lark', 'parkin', 'hotel', 'misundrstud', 'throws', 'falls', 'brothers', 'sptv', 'jersey', 'devils', 'detroit', 'wings', 'hockey', 'incorrect', 'inclusive', 'pence', '0844', '861', '85', 'prepayment', 'telediscount', 'discuss', 'xuhui', 'arguing', 'woodland', 'avenue', 'parish', 'magazine', 'nelson', 'apologize', 'admit', 'fixes', 'spelling', 'completely', 'diff', 'surya', 'pokkiri', 'died', 'nasty', 'filthyguys', 'bitch', 'slo', '4msgs', '08712402972', 'forgets', 'bahamas', 'callfreefone', '08081560665', '07786200117', 'tirupur', 'premier', 'handle', 'victoria', 'traffic', 'xy', 'impossible', 'treats', 'released', 'necessary', 'dub', 'je', 'randomlly', '5min', 'opening', 'bot', 'notes', 'stress', 'dorm', 'dudette', 'scraped', 'barrel', 'misfits', 'reache', 'propose', 'seing', 'bloody', 'funky', 'asssssholeeee', 'sooooo', 'prove', 'hopeing', 'sisters', 'cam', 'intrude', 'tuition', '169', '6031', 'luckily', 'starring', 'field', 'lousy', 'dead', 'mys', 'vewy', 'lubly', 'reality', 'fantasy', 'kilos', 'response', 'rays', 'cloud', 'river', 'evng', '69669', 'gprs', 'drugdealer', 'ecstasy', 'ger', 'toking', 'syd', 'stressful', 'grab', 'ams', 'whens', 'unlike', 'docs', 'patients', 'turkeys', 'swimsuit', 'sos', 'moby', 'w8in', '4utxt', '82242', 'hlp', '08712317606', 'msg150p', '2rcv', 'aids', 'patent', '08712402902', 'jeans', 'scenery', 'natwest', 'hint', 'forum', 'ron', 'shuhui', 'french', 'fooled', '08718726978', 'accommodation', 'global', 'phb1', 'ph', '08700435505150p', 'shoul', 'torture', 'lf56', 'sweetie', 'grand', 'nature', 'adventure', 'presnts', 'bcz', 'mis', 'jeevithathile', 'irulinae', 'neekunna', 'prakasamanu', 'sneham', 'prakasam', 'ennal', 'prabha', 'mns', '85233', 'captain', 'jaya', 'smoothly', 'hoped', 'settle', 'challenging', '08712101358', 'swollen', 'glands', 'mall', 'kaila', '08718726970', 'blank', 'stairs', 'phews', 'omw', 'x2', '7634', '7684', 'overtime', 'nigpun', 'eldest', '08714712412', 'mad', 'correction', 'onion', 'shrek', 'aunt', 'nike', 'zoe', 'shitin', 'defo', 'hardest', 'millions', 'lekdog', 'alert', '07008009200', 'lifting', '2wks', 'villa', 'mokka', 'payback', 'picsfree1', 'keyword', 'idc', 'weaseling', 'barring', 'sudden', 'influx', 'panic', 'surrender', 'initiate', 'shore', 'guessing', 'guessed', '4u', 'dracula', 'titles', 'ghost', 'addamsfa', 'munsters', 'exorcist', 'twilight', 'length', 'fringe', 'distract', 'restocked', 'pattern', 'emerging', 'fiend', 'impede', 'hesitant', 'settled', 'wishin', 'middle', 'dealing', 'block', 'breaker', 'deluxe', 'features', 'graphics', 'bbdeluxe', 'challenge', 'svc', '69988', 'verify', 'jog', 'mini', 'exe', '08714712394', 'bhaskar', 'texted', 'showered', 'ything', 'shocking', 'crash', 'expensive', 'b4u', 'marsms', 'b4utele', '08717168528', 'doors', 'dick', 'gravity', 'carefully', 'leaves', 'regretted', 'theoretically', 'gage', 'deck', 'cnupdates', 'newsletter', 'alerts', 'jetton', 'tbs', 'persolvo', '38', 'ignore', 'kath', 'manchester', 'pshew', 'deleted', 'suppose', 'archive', 'haiz', 'reserves', 'proof', 'rupaul', 'tool', 'iphone', '600', 'deltomorrow', '08002888812', 'coimbatore', 'shame', 'cld', 'wahleykkum', 'sharing', 'grace', 'tayseer', 'tissco', 'inshah', 'sometime', 'visitor', 'painting', 'appointments', 'shoving', 'ne', 'wrking', 'cancelled', 'hunt', 'losers', 'agent', 'goodies', 'mat', 'child', 'teenager', 'guai', 'hillsborough', 'turned', 'living', 'perfect', '100p', 'outsider', '2morro', 'wondarfull', 'craving', 'violated', 'ic', 'upgrade', '0207', '153', '9996', '14thmarch', 'availa', '09099725823', 'minmoremobsemspobox45po139wa', 'duchess', '008704050406', 'icic', 'recognise', 'confused', 'a30', 'divert', 'wadebridge', 'dentists', 'convincing', '9755', 'motivating', 'hooch', 'toaday', 'fell', 'splat', 'grazed', 'knees', 'stayed', 'poet', 'imagination', 'frndship', 'pushes', 'underdtand', 'often', '0825', 'props', 'smaller', 'capacity', 'drinkin', 'dancin', 'yuou', 'spot', 'elama', 'mudyadhu', 'mumhas', 'beendropping', 'theplace', 'adress', 'accenture', 'melle', 'minnaminunginte', 'nurungu', 'vettam', 'programs', 'hassling', 'andres', 'haughaighgtujhyguj', 'roommate', 'chk', 'dict', 'fires', 'grown', 'pple', 'breakfast', 'hamper', 'kitty', 'shaved', 'ranjith', 'drpd', 'deeraj', 'deepak', 'mornin', 'thanku', 'runs', 'blame', 'goal', 'arsenal', 'henry', 'liverpool', 'scores', 'shot', 'yards', 'bergkamp', 'margin', '78', 'velusamy', 'birth', 'facilities', 'zaher', 'ym', 'salon', '09061221061', '28days', 'box177', 'm221bp', '2yr', 'warranty', '99', 'tom', 'mentionned', 'babes', 'brolly', 'franxx', '083', '6089', 'clarify', 'preponed', 'profile', 'bpo', 'flew', 'window', 'ukp', '09061790125', '3030', 'intend', 'iwas', 'marine', 'itried2tell', 'urmom', 'careabout', 'kadeem', 'denying', 'weak', 'bottle', 'amused', 'piece', 'singing', 'garden', 'bulbs', 'seeds', 'scotsman', 'go2', 'notxt', 'puppy', 'noise', 'zac', 'farting', '630', 'thinked', 'approx', 'heehee', 'dom', 'petey', 'noi', 'nit', 'js', 'wtc', 'weiyi', 'wonders', '7th', '6th', '5th', '4th', 'personality', '08002986030', 'thnx', 'positive', 'negative', 'hmmmm', 'uh', 'heads', 'result', 'tms', 'widelive', 'index', 'wml', '820554ad0a1705572711', 'gei', 'tron', 'dl', 'aathi', 'pandy', '4w', 'technologies', 'ups', '3days', 'shipping', 'usps', 'lag', 'bribe', 'nipost', 'nange', 'bakra', 'kalstiya', 'sry', 'axis', 'macs', 'toot', 'prepared', 'husband', 'browsin', 'compulsory', 'lambda', 'caught', 'broken', 'southern', 'é', '140', '180', 'chicken', 'broth', 'ramen', 'unsold', 'nitros', 'lord', 'rings', 'soundtrack', 'cds', 'stdtxtrate', 'applausestore', 'monthlysubscription', 'max6', 'csc', '2stop', 'praveesh', 'delicious', 'sticky', 'woul', 'curfew', 'gibe', 'getsleep', 'studdying', 'ear', 'senthil', 'hsbc', 'identification', 'pocked', 'ignorant', 'suggestion', 'lands', 'helps', 'forgt', 'previous', 'machan', 'joanna', 'freaking', 'myspace', 'logged', 'gumby', 'cheese', '07801543489', 'latests', 'llc', 'usa', 'mt', 'msgrcvd18', 'sophas', 'secondary', 'applying', 'ogunrinde', 'flavour', 'bud', 'comprehensive', 'cmon', 'replies', 'vday', 'bottom', 'underwear', 'playin', 'poker', 'mathews', 'tait', 'edwards', 'anderson', 'reception', 'goggles', 'mila', 'age23', 'blonde', 'mtalk', '69866', '30pp', '5free', 'increments', 'help08718728876', 'teaches', 'volcanoes', 'erupt', 'tsunamis', 'arise', 'hurricanes', 'sway', 'aroundn', 'disasters', 'liked', 'lately', 'spatula', 'track', 'wallet', 'gifts', 'cliff', 'ntwk', '674', 'north', 'carolina', 'texas', 'gre', 'gurl', 'appropriate', 'stage', 'gek1510', 'professional', 'tiger', 'woods', 'noice', 'draws', '09058094565', 'units', 'accent', '4years', 'dental', 'nmde', 'september', '1hr', '8lb', '7oz', 'brilliantly', 'gloucesterroad', 'uup', 'fair', 'cousin', 'tiime', 'along', 'stars', 'karaoke', '930', 'africa', 'avin', 'silver', 'hasn', 'wrkin', 'idew', 'returned', 'aiyah', 'mystery', 'solved', 'opened', 'batch', '09066649731from', 'ibiza', '434', 'sk3', '8wp', 'kid', 'grownup', 'shld', 'kaiez', 'scared', 'hiphop', 'gonnamissu', 'postcard', 'buttheres', 'aboutas', 'merememberin', 'asthere', 'ofsi', 'breakin', 'yaxx', 'durban', 'possibility', 'sighs', 'management', 'puzzeles', 'auto', 'depends', 'western', 'prefer', 'gent', '09064012160', 'k52', 'themob', 'newest', '82468', 'signal', 'neither', 'unusual', 'hugs', 'snogs', 'gdeve', '09058094454', 'invitation', 'apologise', 'bloke', 'weddin', 'image', 'danger', 'peeps', 'comment', 'dedicated', 'dedicate', 'macha', 'mindset', '6pm', 'lasagna', 'concentrate', 'educational', 'career', 'dock', 'boat', 'rolled', 'newscaster', 'dabbles', 'flute', 'wheel', 'isaiah', 'burger', 'mnths', 'callback', 'alive', 'okors', 'cherish', 'mojibiola', 'donno', 'scorable', 'air', 'talent', 'malaria', 'bani', 'lib', 'creepy', 'izzit', 'otside', '08718730555', 'attend', 'rounds', 'fan', 'melody', 'cloth', 'strt', 'ltdhelpdesk', '02085076972', 'dartboard', 'condition', 'doubles', 'trebles', 'returning', 'eighth', 'relieved', 'westonzoyland', 'treated', '09064012103', 'box334sk38ch', 'reckon', 'eightish', 'carpark', 'stands', 'nitz', 'costumes', 'yowifes', 'ride', 'vpod', 'register', 'port', 'step', 'raping', 'dudes', 'blind', 'rodds1', '21', 'aberdeen', 'united', 'kingdom', 'img', 'icmb3cktz8r7', 'hide', 'journey', 'hasnt', '08714712388', 'premium', 'panther', 'sugababes', 'zebra', 'badass', 'hoody', 'wallpaper', 'dial', 'browser', 'surf', 'neglect', 'mobsi', '391784', 'engagement', 'fixd', 'njan', 'vilikkam', 'sudn', 'mids', '087123002209am', 'wildlife', 'want2come', 'that2worzels', 'wizzle', 'tightly', 'faggot', '09095350301', 'erotic', 'ecstacy', '07734396839', 'ibh', 'nokia6600', 'loxahatchee', 'tree', 'burning', 'ben', 'debating', 'aww', 'jez', 'todo', 'workand', 'whilltake', 'prin', 'roomate', 'graduated', 'restrict', 'probs', 'doinat', 'closes', 'somewhat', 'laden', 'wrecked', 'fireplace', 'icon', '0906346330', 'abta', 'spanish', '47', 'po19', '2ez', 'juliana', 'annoying', 'wlcome', 'lion', 'promises', 'gotten', 'santa', '09058094583', 'muhommad', 'penny', 'held', 'prasad', 'wendy', 'nottingham', '63miles', '40mph', 'videos', 'shsex', 'netun', 'fgkslpopw', 'fgkslpo', 'anthony', 'mistakes', 'brin', 'properly', 'sheet', '10k', '09064018838', 'cro1327', 'steve', 'select', 'benefits', 'trained', 'advisors', 'dialling', '402', 'foreign', 'stamps', 'astrology', 'solihull', 'skype', 'bsn', 'advising', 'beta', 'supports', 'srt', 'ps3', 'yavnt', 't4get2text', 'lyricalladie', '910', 'hmmross', 'get4an18th', 'wrongly', 'christ', 'star', '09066364349', 'box434sk38wp150ppm18', 'vague', 'accounting', 'delayed', 'housing', 'agency', 'renting', 'places', 'usc', 'arabian', 'steed', 'yummy', 'mus', 'skateboarding', 'despite', 'thrown', 'winds', 'bandages', 'arms', 'burgundy', 'captaining', '5k', 'travel', '09064011000', 'cr01327bt', 'fixedline', 'recharged', 'meat', 'lovers', 'supreme', 'jos', 'hearts', 'cares', 'goodnoon', 'delete', 'tag', 'laundry', 'bras', 'strewn', 'pillows', 'floor', 'luxury', 'sold', 'shesil', 'doubt', 'iraq', 'afghanistan', 'stable', 'honest', 'traveling', 'unintentionally', 'timing', 'antibiotic', 'chest', 'abdomen', 'gynae', 'infections', 'bone', 'south', 'african', 'soil', 'apes', 'ttyl', 'drastic', '09094100151', 'cast', 'aom', 'gbp5', 'box61', 'm60', '1er', '75', 'homeowners', 'previously', '1956669', 'prsn', 'dem', 'somtimes', 'saves', 'nothin', 'eveb', 'blogging', 'magicalsongs', 'blogspot', 'discreet', '83110', 'tee', 'cheery', 'quarter', 'hourish', 'cbe', '40', 'thousands', 'tattoos', 'west', 'palm', 'receiving', 'triple', 'echo', 'flowing', 'nevering', 'pure', 'hearted', 'enemies', 'smiley', 'ques', 'suits', 'digi', 'fab', 'coupla', 'wks', 'hurting', 'meaningful', 'compromised', 'trek', 'logging', 'geoenvironmental', 'implications', 'ft', 'combination', 'fifth', 'woozles', 'weasels', 'exeter', 'inspection', 'nursery', 'loud', 'spontaneously', 'goodevening', 'requests', 'factory', '88066', 'ebay', 'pierre', 'cardin', 'sky', 'lennon', 'receipt', '08715203685', '4xx26', '2mro', 'studyn', 'steyn', 'wicket', 'avo', 'flatter', 'pints', 'carlin', 'cried', 'nowhere', 'ikno', 'doesdiscount', 'shitinnit', 'vl', 'dice', 'art', 'slap', 'receivea', '09061701461', 'kl341', 'brdget', 'jones', 'teeth', 'maintaining', 'brah', 'adding', 'zeros', 'savings', 'wright', 'evn', 'evr', 'cherthala', 'bfore', 'tmorow', 'engaged', 'books', 'senor', 'sigh', 'mention', 'served', '09077818151', 'calls1', '50ppm', '30s', 'santacalling', 'literally', 'appeal', 'thriller', 'director', '08718723815', 'harri', 'loo', 'ed', 'textand', '08002988890', 'yah', '09111032124', 'pobox12n146tf150p', 'das', 'iknow', 'wellda', 'peril', 'studentfinancial', 'atleast', 'shakespeare', 'buz', 'wedlunch', 'outsomewhere', 'adrink', '2watershd', 'fromwrk', 'bthere', 'petexxx', 'resizing', 'blanked', 'breaking', 'cstore', 'flyng', 'horo', 'aries', 'bits', 'shiny', 'warming', 'cough', '09058099801', 'b4190604', '7876150ppm', 'lodge', 'nick', 'types', 'strongly', 'beg', 'creativity', 'stifled', 'equally', 'uneventful', 'pesky', 'cyclists', 'gail', 'l8tr', 'yaxxx', 'sppok', 'jackson', 'rec', '7ish', 'miserable', 'simpsons', 'july', 'band', 'whenevr', 'gray', 'listn', 'watevr', 'significance', 'staff', 'gastroenteritis', 'replace', 'temp', 'reduce', 'limiting', 'illness', '7250i', 'w1jhl', '08719181503', 'castor', 'language', 'foot', 'transfr', 'ga', 'paining', 'pull', 'taylor', 'restrictions', 'buddys', 'amrita', 'lips', 'rajini', 'placed', 'massive', 'involved', 'woot', 'stuffing', 'werethe', 'monkeespeople', 'monkeyaround', 'howdy', 'howu', 'foundurself', 'jobyet', 'sausage', '69101', 'rtf', 'sphosting', 'tootsie', 'pop', 'huiming', 'erutupalam', 'thandiyachu', 'sane', 'helping', 'lambu', 'ji', 'batchlor', 'uploaded', 'fridge', 'loyal', 'customers', '09066380611', 'supply', 'subs16', '1win150ppmx3', 'rules', 'responsibility', 'bend', 'rule', 'thia', 'inlude', 'previews', 'farm', 'flood', 'hearing', 'entertain', 'maps', 'worc', 'foregate', 'shrub', 'form', 'clark', 'utter', 'risks', 'mostly', 'sports', 'footbl', 'crckt', 'grateful', 'happier', 'telugu', 'unconvinced', 'elaborate', 'willpower', 'spun', 'wrld', 'nytho', 'tx', 'fonin', '2mwen', 'bk', 'frmcloud', 'lou', 'lancaster', 'treasure', 'wined', 'dined', 'fones', 'wild', 'stop2stop', 'urgh', 'coach', 'smells', 'chip', 'duvet', 'predictive', 'tlp', 'expressoffer', '80062', 'friendships', 'grow', '09066361921', 'partnership', 'purity', 'forwarded', 'quickly', 'hex', '08718726971', 'queen', 'desparately', 'va', '0789xxxxxxx', 'downstem', 'mental', 'desires', 'liver', 'sickness', 'prayers', 'leads', 'gsoh', 'spam', 'gigolo', 'mens', 'oncall', 'mjzgroup', '08714342399', '50rcvd', '09050000878', 'pobox45w2tg150p', 'virgin', '09061104283', 'smsco', '50pm', 'catching', 'bffs', 'carly', 'apples', 'pairs', 'malarky', 'sabarish', 'crowd', 'cardiff', 'someonone', '09064015307', 'blake', 'answering', '2marrow', 'converter', 'occasion', 'celebrated', 'reflection', 'values', 'affections', 'traditions', 'ideal', '09061701939', 's89', 'worrying', 'quizzes', 'popcorn', 'laughs', 'passable', 'phd', '5years', 'crab', 'waves', 'footprints', 'fox', 'frndsship', 'dwn', 'jordan', '88600', 'celeb', 'pocketbabe', '087016248', 'unni', 'gamestar', 'active', '250k', 'scoring', '88088', 'operate', 'priya', 'vava', 'railway', 'lipo', 'figures', 'jaykwon', 'thuglyfe', 'falconerf', 'satisfy', '89938', 'strings', '50ea', 'otbox', '731', 'la1', '7ws', 'unconscious', 'adults', 'abnormally', 'olowoyey', 'edu', 'argentina', 'secretary', 'lightly', 'custom', 'checkboxes', 'lasting', '078', 'jolt', 'screamed', 'hallaq', 'owned', 'possessive', 'ding', 'fassyole', 'blacko', 'londn', 'investigate', 'motivate', 'darkness', 'shining', 'ryder', 'gibbs', '123', '1450', '09050002311', 'b4280703', '08718727868', 'scarcasim', '44', '7732584351', 'sian', 'consensus', 'phone750', 'buyer', 'italian', 'stone', 'crickiting', 'okies', 'blah', 'jerk', 'collapsed', 'screwd', 'snowboarding', 'affair', 'massages', 'position', 'priscilla', 'inperialmusic', 'listening2the', 'weirdest', 'leafcutter', 'insects', 'molested', 'plumbing', 'remixed', 'evil', 'acid', 'playng', 'racing', 'preferably', 'kegger', 'hmph', 'baller', '09061213237', 'canary', '177', 'm227xy', 'yest', 'cuddling', 'sleeps', 'tp', 'ouch', 'tues', 'heaven', 'prince', 'audrey', 'status', 'error', 'thanx4', 'cer', 'stuck', 'casualty', 'stuff42moro', 'includes', 'dammit', 'chart', 'heroes', 'tips', 'fundamentals', 'whoever', 'grumble', 'guoyang', 'sapna', 'manege', 'hogidhe', 'chinnu', 'swalpa', 'agidhane', 'mmmm', 'bec', 'cl', 'hectic', 'swoop', 'patty', 'haul', 'heater', 'degrees', 'stalking', 'galileo', '07973788240', '08715203649', '40533', 'frequently', 'wesley', 'infront', 'dance', 'permission', 'radiator', 'allday', 'piss', 'limit', 'measure', 'boundaries', 'endless', 'blessings', 'mushy', 'embarrassed', 'jan', 'whn', 'ofice', 'duffer', 'fellow', 'stoners', 'shijutta', 'xam', '1thing', 'answr', 'linear', 'algebra', 'nri', 'arm', 'impression', 'ow', 'upgrdcentre', '9153', '26th', 'apps', '08715203652', '42810', '0', '09061790121', 'coco', 'twins', 'lighters', 'apnt', '5pm', 'perform', 'shola', 'academic', 'sagamu', 'lautech', 'vital', 'completes', 'education', 'zealand', 'mobs', 'breathe1', 'crazyin', 'sleepingwith', 'finest', 'ymca', 'pobox365o4w45wq', '300p', 'capital', 'babyjontet', 'sweetheart', 'plum', 'smacks', 'argh', 'spotty', 'province', 'sterling', 'gona', 'l8', 'gon', 'walsall', 'tue', 'terry', 'sorts', 'divorce', 'barbie', 'ken', 'cps', 'outages', 'conserve', 'freaky', 'strange', 'mmmmm', 'dawns', 'refreshed', 'steak', 'gnarls', 'barkleys', 'financial', 'wither', '23f', '23g', 'dobby', 'portal', 'abroad', 'xxsp', 'visionsms', 'stopcost', '08712400603', '09064017295', 'honestly', 'promptly', 'burnt', 'rayman', 'golf', 'arcade', 'settings', 'activ8', 'termsapply', 'hitter', 'chez', 'jules', 'bar', 'satsgettin', '47per', 'saeed', 'hf8', 'madam', 'snap', 'quizclub', '80122300p', 'rwm', '08704050406', 'slaaaaave', 'summon', '09050003091', 'c52', 'expression', 'depression', 'arranging', 'dogbreath', 'sounding', 'bbd', 'dvg', 'vinobanagar', 'complaining', 'amanda', 'regard', 'renewing', 'upgrading', '0845', '021', '3680', 'subject', 'subscriber', 'elvis', 'presleys', 'olympics', 'certificate', 'publish', 'rebooting', '3750', 'china', 'noisy', 'lined', 'exams', 'improve', 'gods', 'ba', 'gua', 'faber', 'chit', 'logon', '8883', '4217', 'w1a', '6zf', '118p', 'flow', 'developed', 'ovarian', 'cysts', 'shrink', 'honeymoon', 'outfit', 'olol', 'replacement', 'smoking', 'woulda', 'realized', 'pert', 'potato', 'occurs', 'bluray', 'ducking', 'chinchillas', 'funeral', 'ditto', 'bike', 'totes', 'hmv1', 'cultures', 'module', 'unsubscribed', 'hunks', 'gotbabes', 'subscriptions', 'mmmmmmm', 'snuggles', 'contented', 'whispers', 'cab', 'steps', 'absolutely', 'cosign', 'hme', 'dats', 'dogg', 'supplies', 'yalrigu', 'heltini', 'iyo', 'kothi', 'shared', 'uttered', 'trusting', 'jamster', 'videosound', 'videosounds', 'logos', 'musicnews', '09701213186', 'speaking', 'sentiment', 'rowdy', 'attitude', 'shy', 'attractive', 'guides', 'hanger', 'hesitate', 'weakness', 'notebook', 'dearer', 'useless', 'booking', 'sarcastic', 'slob', 'invaders', 'orig', 'console', 'daaaaa', 'eachother', 'buffet', 'vomitin', 'jontin', 'grocers', 'harish', 'transfred', 'acnt', '330', '1120', '1205', 'relaxing', '7am', '5ish', 'gmw', 'connected', 'poyyarikatur', 'kolathupalayam', 'unjalur', 'erode', 'wewa', '130', 'iriver', '255', '128', 'mb', 'tmorrow', 'accomodate', 'timings', '8am', 'bhaji', 'cricketer', 'sachin', 'dresser', 'nuther', 'stalk', 'profiles', 'fetching', 'versus', 'rofl', 'betta', 'invest', 'anti', 'aging', 'products', 'tape', 'pooja', 'pimples', 'sweatter', 'haiyoh', 'hamster', 'million', 'flaky', 'parent', 'snot', 'unintentional', 'nonetheless', 'smoked', 'rgent', 'dine', 'receipts', '09065174042', 'recd', '07821230901', '1b6a5ecef91ff9', '37819', 'true18', '0430', 'jul', 'peach', 'tasts', 'lucyxx', 'dippeditinadew', 'lovingly', 'itwhichturnedinto', 'gifted', 'tomeandsaid', 'snatch', 'missionary', 'standing', 'vegas', 'gained', 'pressure', 'limits', 'yelling', 'scrappy', 'forwarding', 'rr', 'monkey', 'asshole', 'db', 'changes', 'report', 'poo', 'chad', 'gymnastics', 'christians', 'sao', 'haunt', 'promoting', '08718727870150ppm', 'noooooooo', 'gram', 'entirely', 'uncomfortable', 'complain', 'bettr', 'bsnl', 'offc', 'supose', 'babysit', 'needing', 'matthew', '09063440451', 'ppm150', 'box334', 'thanks2', 'compass', 'soul', 'gnun', 'way2sms', 'hangin', 'gate', 'booty', 'dizzamn', 'suitemates', 'tactful', 'rewarding', 'nigh', 'sts', 'bay', 'youphone', 'athome', 'youwanna', 'hu', 'navigate', 'choosing', 'require', 'guidance', '88800', '89034', '08718711108', 'function', 'sexiest', 'dirtiest', '89070', 'cruisin', 'jenny', 'convince', 'witot', 'punish', 'gimmi', 'goss', '2006', 'fifa', 'vibrate', 'describe', 'dao', 'marandratha', 'stagwood', 'winterstone', 'victors', 'specific', 'swatch', 'swhrt', 'grinule', 'grooved', 'reg', 'ciao', 'dual', '2814032', '3x', '150pw', 'tensed', 'indeed', 'real1', 'pushbutton', 'dontcha', 'babygoodbye', 'golddigger', 'webeburnin', '730', 'warwick', 'tmw', 'canceled', 'havn', 'tacos', 'rajas', 'burrito', 'panasonic', 'bluetoothhdset', 'doublemins', 'doubletxt', 'sterm', 'resolved', 'cupboard', 'busetop', '4d', '1405', '1680', '1843', 'pendent', 'vijaykanth', 'misbehaved', 'submitting', 'shortcode', '83332', '08081263000', 'refunded', 'huge', 'marking', 'epi', 'barred', 'twat', 'dungerees', 'decking', 'punch', 'pears', 'tension', 'machi', 'sacked', 'remembered', 'salmon', 'infact', 'owe', '21870000', 'mailbox', 'messaging', '09056242159', 'retrieve', 'cc100p', 'hadn', 'clocks', 'realised', 'wahay', 'lip', 'synced', 'shangela', 'pleassssssseeeeee', 'sportsx', 'data', 'analysis', 'wesleys', 'ummma', 'uniform', 'str', 'ijust', 'talked', 'dang', 'yck', 'thin', 'arguments', 'fed', 'himso', 'soryda', 'sory', 'opener', 'memorable', 'musthu', '09066350750', 'jeremiah', 'sayy', 'jd', 'accounts', 'executive', 'shitstorm', 'attributed', 'raji', 'outta', 'skint', 'fancied', 'bevies', 'waz', 'othrs', 'spoon', 'watchng', 'planet', 'comfey', 'innocent', 'yunny', 'citylink', 'faster', '85069', 'usher', 'britney', '5249', 'mk17', '92h', '450ppw', 'rocking', 'ashes', 'disturbing', 'juswoke', 'boatin', 'docks', 'spinout', 'spiritual', 'lanre', 'fakeye', 'eckankar', 'excuses', 'restaurant', 'coccooning', 'anand', 'tarpon', 'springs', 'needy', 'pouts', 'stomps', 'feet', 'watever', 'spoons', 'fffff', '3000', 'forced', 'slice', 'smokin', 'lucy', 'meetins', 'cumin', '09099726395', 'minmobsmorelkpobox177hp51fl', 'roles', 'outreach', 'mel', 'cards', '116', 'shaking', 'ritten', 'fold', 'sez', 'arab', 'evry1', 'eshxxxxxxxxxxx', 'mary', 'jane', 'lions', 'lionm', 'lionp', 'laready', 'musical', 'drizzling', 'bird', 'antelope', 'toplay', 'fieldof', 'selfindependence', 'contention', '22', 'salesman', '945', 'pool', 'bunch', 'lotto', 'resent', 'queries', 'customersqueries', 'netvision', 'saucy', 'daytime', 'busty', '09099726429', 'janinexx', '515', '400mins', 'j5q', 'virtual', 'decades', 'goverment', 'expects', 'sathya', 'disagreeable', 'classmates', 'buzzzz', 'vibrator', 'shake', 'merely', 'relationship', 'wherevr', 'forevr', 'gudnyt', 'tescos', 'zhong', 'qing', 'act', 'donate', 'unicef', 'asian', 'tsunami', 'disaster', 'fund', '864233', 'slower', 'maniac', 'jjc', 'tendencies', 'nevr', 'unrecognized', 'somone', 'valuing', 'definitly', 'undrstnd', '08718738001', '49557', 'unmits', 'hont', 'categories', 'ethnicity', 'census', 'transcribing', 'wknd', 'quote', 't91', '09057039994', '420', 'bathroom', 'orh', 'reserve', 'thirunelvali', 'tackle', 'wtlp', 'resubbing', 'neshanth', 'thinl', 'tomorro', 'passion', '09099726481', 'dena', 'british', 'hotels', '02072069400', 'bx', '526', 'sw73ss', 'varaya', 'elaya', 'panties', 'hack', 'backdoor', 'fraction', 'neo69', '09050280520', 'subscribe', 'dps', 'bcm', '8027', 'lara', '5226', 'hava', '1131', 'lovin', 'spjanuary', '09050000928', 'pouch', 'reboot', '15pm', 'path', 'appear', 'front', 'paths', 'payed', 'suganya', 'sometext', 'increase', 'winning', 'jack', 'helpful', 'pretend', 'hypotheticalhuagauahahuagahyuhagga', 'tallahassee', 'bluff', 'soz', 'imat', 'mums', '2moro', 'ay', 'wkg', 'expired', 'monoc', 'monos', 'polyc', 'stream', '0871212025016', 'gravel', '69888', '31p', 'disappeared', 'inner', 'tigress', 'showers', 'possessiveness', 'poured', 'lies', 'golden', '08712103738', 'rounder', 'required', 'ability', '09063458130', 'polyph', 'suffering', 'dysentry', 'gayle', 'range', 'interfued', 'styles', 'nationwide', 'newport', '1mega', 'pixels', '3optical', '5digital', 'dooms', 'millers', 'hvae', '09061701444', 'acl03530150pm', 'commit', 'tip', 'enjoyin', 'yourjob', 'seemed', 'llspeak', 'soonlots', 'loveme', 'woah', 'realising', 'tick', 'genus', 'begun', 'registration', 'permanent', 'residency', 'ccna', 'strict', 'teacher', 'conducts', 'pract', 'flung', 'humanities', 'modules', 'ffffffffff', '449050000301', '09050000301', 'dose', 'tablet', 'proper', 'tongued', 'ploughing', 'pile', 'ironing', 'chinky', 'err', 'bare', 'dentist', 'stereo', 'mi', 'unknown', 'onwards', 'administrator', 'gailxx', 'earliest', 'recorder', 'canname', 'australia', 'mquiz', 'bcaz', 'badrith', '60', '400thousad', 'ceiling', 'intrepid', 'duo', 'rightio', 'breathing', '09058091854', 'box385', 'm6', '6wu', 'jerry', 'irritates', 'fails', 'express', 'sozi', 'culdnt', 'talkbut', 'wannatell', 'wenwecan', 'corporation', 'compliments', 'tunde', 'coveragd', 'vasai', 'whore', 'unbelievable', 'feathery', 'bowa', 'realise', '32000', 'legitimat', 'efreefone', 'toilet', 'stolen', 'cops', 'wenever', 'goodmate', 'asusual', 'cheered', 'franyxxxxx', '1pm', 'toshiba', 'portege', 'm100', 'crossing', 'physics', 'webadres', 'geting', 'slip', 'watchin', 'gobi', 'seperated', '鈥', '〨ud', 'pity', 'suggestions', 'anna', 'nagar', 'scratching', 'catches', 'missy', 'leading', '151', 'pause', 'vat', 'headset', 'adp', 'aldrine', 'rtm', 'checkmate', 'chess', 'persian', 'phrase', 'shah', 'maat', 'resend', 'smartcall', '68866', 'subscriptn3gbp', '08448714184', 'landlineonly', 'butting', 'freedom', 'vs', 'actual', 'ffffuuuuuuu', 'starshine', 'sips', 'oooh', 'ridden', 'paranoid', 'disconnected', 'sized', 'adjustable', 'cooperative', 'allows', 'workout', 'fats', 'blu', 'november', '09061104276', '75max', 'hostile', 'spice', 'audrie', 'autocorrect', 'hearin', 'gotto', '220cm2', 'neighbors', '087104711148', 'nowadays', 'showrooms', 'shaping', 'ultimately', 'tor', 'motive', 'tui', 'achieve', 'korli', 'web2mobile', 'txt250', 'box139', 'la32wu', 'txtx', 'rob', 'mack', 'gf', 'theater', 'notified', 'marketing', '84122', '08450542832', 'tok', 'habba', 'joys', 'lifeis', 'daywith', 'thoughts', 'somewheresomeone', 'tosend', 'greeting', 'balloon', 'nighters', 'persevered', 'warned', 'sprint', 'kit', 'strip', '1013', 'ig11', 'oja', 'smell', 'tobacco', 'loooooool', 'couch', 'celebration', 'tops', 'studies', 'anyones', 'ashley', 'hui', '09050000332', 'sun0819', 'ello', 'rub', 'subtoitles', 'accordin', '69698', 'improved', 'fwiw', 'afford', 'sall', 'hehe', 'shexy', 'record', 'refund', 'r836', '09065069154', 'qet', 'jsco', '2channel', 'leadership', 'skills', 'psychic', 'didntgive', 'bellearlier', 'bedbut', 'thepub', 'uwana', 'jenxxx', 'math', 'gower', 'morrow', 'notixiquating', 'laxinorficated', 'bambling', 'entropication', 'oblisingately', 'opted', 'masteriastering', 'amplikater', 'fidalfication', 'champlaxigating', 'atrocious', 'wotz', 'junna', 'printer', 'groovy', 'groovying', 'level', 'crucify', 'tallent', 'wasting', 'smarter', '09061790126', 'tagged', 'count', 'infra', 'steam', 'suntec', 'steamboat', 'champ', 'glasgow', 'punto', 'shindig', 'avoid', 'missunderstding', 'signing', 'chocolate', 'sunlight', 'amla', 'pansy', 'jungle', 'stil', 'tobed', '430', 'accomodations', 'cave', 'offered', 'embarassing', 'accessible', '08709501522', '139', 'la3', '2wu', 'adsense', 'approved', 'worms', 'specify', 'domain', 'nusstu', 'miiiiiiissssssssss', 'nimbomsons', 'rebtel', 'firefox', 'lower', 'display', 'rearrange', 'dormitory', 'astronomer', 'starer', 'election', 'recount', 'hitler', 'eleven', 'twelve', 'perpetual', 'dd', 'onam', 'sirji', 'tata', 'aig', 'recieve', 'channel', 'teletext', 'kay', 'gauti', 'sehwag', 'odi', 'lodging', 'uworld', 'qbank', 'assessment', 'mittelschmertz', 'paracetamol', 'ikea', 'spelled', 'caps', 'among', 'mess', 'bullshit', 'hanks', 'lotsly', '09058091870', 'm26', '3uz', 'weirdo', 'woo', 'hoo', 'hppnss', 'sorrow', 'goodfriend', 'stubborn', 'sucker', 'hospitals', 'suckers', 'fans', '0870141701216', '120p', 'bbq', '6ish', '09058094455', 'jurong', 'amore', '09096102316', 'impatient', 'belligerent', 'splash', 'dessert', 'warner', '83118', 'colin', 'farrell', 'swat', 'kiosk', 'mre', 'achan', 'amma', 'taught', 'becaus', 'verifying', 'prabu', 'meg', 'sections', 'clearer', '1million', 'ppt150x3', 'box403', 'w1t1jy', '0870737910216yrs', 'tiring', 'concentrating', 'throwing', 'performed', 'plumbers', 'wrench', 'borrow', 'arestaurant', 'squid', 'dosomething', 'wall', '08712402779', 'ibm', 'hp', 'yalru', 'lyfu', 'astne', 'innu', 'mundhe', 'lyf', 'ali', 'halla', 'ke', 'bilo', 'edhae', 'ovr', 'vargu', 'meow', 'velachery', 'natalie', '165', 'natalie2k9', 'nordstrom', 'qi', 'suddenly', 'holy', 'weren', '95', 'pax', 'deposit', 'sq825', 'arrival', 'interest', 'figuring', 'favorite', 'oyster', 'sashimi', 'rumbling', 'outbid', 'simonwatson5120', 'shinco', 'plyr', 'smsrewards', 'notifications', 'ndship', 'needle', '4few', 'conected', 'checkup', 'aka', 'pap', 'smear', 'attention', 'spreadsheet', 'determine', 'entire', 'mirror', 'apeshit', 'swimming', 'jacuzzi', 'dismissial', 'formally', 'accidant', 'tookplace', 'ghodbandar', 'slovely', 'excited', '7cfca1a', '07090201529', 'helens', 'princes', 'garments', 'elections', 'restock', 'scrounge', 'rhythm', 'establish', 'attraction', 'named', 'sorrows', 'craziest', 'proove', 'praises', 'curry', 'makiing', 'sambar', '07815296484', '41782', 'lingo', '69969', 'bcmsfwc1n3xx', 'free2day', 'george', '89080', '0870241182716', 'sometme', 'andrews', 'costing', 'offering', '09066368470', 'shb', 'chapel', 'frontierville', 'progress', 'non', 'cantdo', 'anythingtomorrow', 'myparents', 'aretaking', 'outfor', 'katexxx', '08700469649', 'box420', 'virgins', '4fil', 'sexual', 'theirs', '69911', 'leanne', 'cutting', 'ooh', '4got', 'moseley', 'weds', 'bruv', '09053750005', '310303', '08718725756', '140ppm', 'dan', 'reminded', 'cme', 'hos', 'occupied', 'armenia', 'swann', 'abbey', '09066660100', '2309', 'harry', 'potter', 'phoenix', 'readers', 'inconsiderate', 'nag', 'recession', 'hence', 'genes', 'prakesh', 'beauty', 'hides', 'secrets', 'n8', 'jewelry', 'related', 'trade', 'arul', 'bx526', 'wherre']\n"
     ]
    }
   ],
   "source": [
    "training_set[\"SMS\"] = training_set[\"SMS\"].str.split()\n",
    "\n",
    "vocabulary = []\n",
    "\n",
    "for index, row in training_set.iterrows():\n",
    "    for word in row[\"SMS\"]:\n",
    "        if word not in vocabulary:\n",
    "            vocabulary.append(word)\n",
    "            \n",
    "print(vocabulary)"
   ]
  },
  {
   "cell_type": "markdown",
   "metadata": {},
   "source": [
    "We were able to successfully generate the vocabulary list for our training set. This list contains 7783 elements, meaning that messages in the training set are made from a list of 7783 unique words."
   ]
  },
  {
   "cell_type": "markdown",
   "metadata": {},
   "source": [
    "### The Finale Training Set"
   ]
  },
  {
   "cell_type": "markdown",
   "metadata": {},
   "source": [
    "Next, we use this vocabulary we created to make the data transformation. Eventually, we're going to create a new DataFrame. However, we'll first build a dictionary that we'll then convert to the DataFrame we need.\n",
    "\n",
    "In the block of code below, we:\n",
    "* start by initializing a dictionary named `word_counts_per_sms`, where each key is a unique word (a string) from the vocabulary, and each value is a list of the length of training set, where each element in the list is a 0.\n",
    "* loop over `training_set['SMS']` using at the same time the `enumerate()` function to get both the index and the SMS message (index and sms).\n",
    "    * using a nested loop, we loop over `sms` (where `sms` is a list of strings, where each string represents a word in a message).\n",
    "        * we increment `word_counts_per_sms[word][index]` by 1. "
   ]
  },
  {
   "cell_type": "code",
   "execution_count": 93,
   "metadata": {},
   "outputs": [
    {
     "data": {
      "text/html": [
       "<div>\n",
       "<style scoped>\n",
       "    .dataframe tbody tr th:only-of-type {\n",
       "        vertical-align: middle;\n",
       "    }\n",
       "\n",
       "    .dataframe tbody tr th {\n",
       "        vertical-align: top;\n",
       "    }\n",
       "\n",
       "    .dataframe thead th {\n",
       "        text-align: right;\n",
       "    }\n",
       "</style>\n",
       "<table border=\"1\" class=\"dataframe\">\n",
       "  <thead>\n",
       "    <tr style=\"text-align: right;\">\n",
       "      <th></th>\n",
       "      <th>yep</th>\n",
       "      <th>by</th>\n",
       "      <th>the</th>\n",
       "      <th>pretty</th>\n",
       "      <th>sculpture</th>\n",
       "      <th>yes</th>\n",
       "      <th>princess</th>\n",
       "      <th>are</th>\n",
       "      <th>you</th>\n",
       "      <th>going</th>\n",
       "      <th>...</th>\n",
       "      <th>beauty</th>\n",
       "      <th>hides</th>\n",
       "      <th>secrets</th>\n",
       "      <th>n8</th>\n",
       "      <th>jewelry</th>\n",
       "      <th>related</th>\n",
       "      <th>trade</th>\n",
       "      <th>arul</th>\n",
       "      <th>bx526</th>\n",
       "      <th>wherre</th>\n",
       "    </tr>\n",
       "  </thead>\n",
       "  <tbody>\n",
       "    <tr>\n",
       "      <th>0</th>\n",
       "      <td>1</td>\n",
       "      <td>1</td>\n",
       "      <td>1</td>\n",
       "      <td>1</td>\n",
       "      <td>1</td>\n",
       "      <td>0</td>\n",
       "      <td>0</td>\n",
       "      <td>0</td>\n",
       "      <td>0</td>\n",
       "      <td>0</td>\n",
       "      <td>...</td>\n",
       "      <td>0</td>\n",
       "      <td>0</td>\n",
       "      <td>0</td>\n",
       "      <td>0</td>\n",
       "      <td>0</td>\n",
       "      <td>0</td>\n",
       "      <td>0</td>\n",
       "      <td>0</td>\n",
       "      <td>0</td>\n",
       "      <td>0</td>\n",
       "    </tr>\n",
       "    <tr>\n",
       "      <th>1</th>\n",
       "      <td>0</td>\n",
       "      <td>0</td>\n",
       "      <td>0</td>\n",
       "      <td>0</td>\n",
       "      <td>0</td>\n",
       "      <td>1</td>\n",
       "      <td>1</td>\n",
       "      <td>1</td>\n",
       "      <td>1</td>\n",
       "      <td>1</td>\n",
       "      <td>...</td>\n",
       "      <td>0</td>\n",
       "      <td>0</td>\n",
       "      <td>0</td>\n",
       "      <td>0</td>\n",
       "      <td>0</td>\n",
       "      <td>0</td>\n",
       "      <td>0</td>\n",
       "      <td>0</td>\n",
       "      <td>0</td>\n",
       "      <td>0</td>\n",
       "    </tr>\n",
       "    <tr>\n",
       "      <th>2</th>\n",
       "      <td>0</td>\n",
       "      <td>0</td>\n",
       "      <td>0</td>\n",
       "      <td>0</td>\n",
       "      <td>0</td>\n",
       "      <td>0</td>\n",
       "      <td>0</td>\n",
       "      <td>0</td>\n",
       "      <td>0</td>\n",
       "      <td>0</td>\n",
       "      <td>...</td>\n",
       "      <td>0</td>\n",
       "      <td>0</td>\n",
       "      <td>0</td>\n",
       "      <td>0</td>\n",
       "      <td>0</td>\n",
       "      <td>0</td>\n",
       "      <td>0</td>\n",
       "      <td>0</td>\n",
       "      <td>0</td>\n",
       "      <td>0</td>\n",
       "    </tr>\n",
       "    <tr>\n",
       "      <th>3</th>\n",
       "      <td>0</td>\n",
       "      <td>0</td>\n",
       "      <td>0</td>\n",
       "      <td>0</td>\n",
       "      <td>0</td>\n",
       "      <td>0</td>\n",
       "      <td>0</td>\n",
       "      <td>0</td>\n",
       "      <td>0</td>\n",
       "      <td>0</td>\n",
       "      <td>...</td>\n",
       "      <td>0</td>\n",
       "      <td>0</td>\n",
       "      <td>0</td>\n",
       "      <td>0</td>\n",
       "      <td>0</td>\n",
       "      <td>0</td>\n",
       "      <td>0</td>\n",
       "      <td>0</td>\n",
       "      <td>0</td>\n",
       "      <td>0</td>\n",
       "    </tr>\n",
       "    <tr>\n",
       "      <th>4</th>\n",
       "      <td>0</td>\n",
       "      <td>0</td>\n",
       "      <td>0</td>\n",
       "      <td>0</td>\n",
       "      <td>0</td>\n",
       "      <td>0</td>\n",
       "      <td>0</td>\n",
       "      <td>0</td>\n",
       "      <td>0</td>\n",
       "      <td>0</td>\n",
       "      <td>...</td>\n",
       "      <td>0</td>\n",
       "      <td>0</td>\n",
       "      <td>0</td>\n",
       "      <td>0</td>\n",
       "      <td>0</td>\n",
       "      <td>0</td>\n",
       "      <td>0</td>\n",
       "      <td>0</td>\n",
       "      <td>0</td>\n",
       "      <td>0</td>\n",
       "    </tr>\n",
       "  </tbody>\n",
       "</table>\n",
       "<p>5 rows × 7783 columns</p>\n",
       "</div>"
      ],
      "text/plain": [
       "   yep  by  the  pretty  sculpture  yes  princess  are  you  going  ...  \\\n",
       "0    1   1    1       1          1    0         0    0    0      0  ...   \n",
       "1    0   0    0       0          0    1         1    1    1      1  ...   \n",
       "2    0   0    0       0          0    0         0    0    0      0  ...   \n",
       "3    0   0    0       0          0    0         0    0    0      0  ...   \n",
       "4    0   0    0       0          0    0         0    0    0      0  ...   \n",
       "\n",
       "   beauty  hides  secrets  n8  jewelry  related  trade  arul  bx526  wherre  \n",
       "0       0      0        0   0        0        0      0     0      0       0  \n",
       "1       0      0        0   0        0        0      0     0      0       0  \n",
       "2       0      0        0   0        0        0      0     0      0       0  \n",
       "3       0      0        0   0        0        0      0     0      0       0  \n",
       "4       0      0        0   0        0        0      0     0      0       0  \n",
       "\n",
       "[5 rows x 7783 columns]"
      ]
     },
     "execution_count": 93,
     "metadata": {},
     "output_type": "execute_result"
    }
   ],
   "source": [
    "word_counts_per_sms = {unique_word: [0] * len(training_set['SMS']) for unique_word in vocabulary}\n",
    "\n",
    "for index, sms in enumerate(training_set['SMS']):\n",
    "    for word in sms:\n",
    "        word_counts_per_sms[word][index] += 1\n",
    "        \n",
    "word_counts = pd.DataFrame(word_counts_per_sms)\n",
    "word_counts.head()"
   ]
  },
  {
   "cell_type": "markdown",
   "metadata": {},
   "source": [
    "The `word_counts` dataframe was successfully created. However, it misses the full messages and, more importantly, the labels.\n",
    "\n",
    "In the following block of code, we add those two columns to our `word_counts` dataframe. We rename the resulting dataframe `training_set_clean`."
   ]
  },
  {
   "cell_type": "code",
   "execution_count": 94,
   "metadata": {},
   "outputs": [
    {
     "data": {
      "text/html": [
       "<div>\n",
       "<style scoped>\n",
       "    .dataframe tbody tr th:only-of-type {\n",
       "        vertical-align: middle;\n",
       "    }\n",
       "\n",
       "    .dataframe tbody tr th {\n",
       "        vertical-align: top;\n",
       "    }\n",
       "\n",
       "    .dataframe thead th {\n",
       "        text-align: right;\n",
       "    }\n",
       "</style>\n",
       "<table border=\"1\" class=\"dataframe\">\n",
       "  <thead>\n",
       "    <tr style=\"text-align: right;\">\n",
       "      <th></th>\n",
       "      <th>Label</th>\n",
       "      <th>SMS</th>\n",
       "      <th>yep</th>\n",
       "      <th>by</th>\n",
       "      <th>the</th>\n",
       "      <th>pretty</th>\n",
       "      <th>sculpture</th>\n",
       "      <th>yes</th>\n",
       "      <th>princess</th>\n",
       "      <th>are</th>\n",
       "      <th>...</th>\n",
       "      <th>beauty</th>\n",
       "      <th>hides</th>\n",
       "      <th>secrets</th>\n",
       "      <th>n8</th>\n",
       "      <th>jewelry</th>\n",
       "      <th>related</th>\n",
       "      <th>trade</th>\n",
       "      <th>arul</th>\n",
       "      <th>bx526</th>\n",
       "      <th>wherre</th>\n",
       "    </tr>\n",
       "  </thead>\n",
       "  <tbody>\n",
       "    <tr>\n",
       "      <th>0</th>\n",
       "      <td>ham</td>\n",
       "      <td>[yep, by, the, pretty, sculpture]</td>\n",
       "      <td>1</td>\n",
       "      <td>1</td>\n",
       "      <td>1</td>\n",
       "      <td>1</td>\n",
       "      <td>1</td>\n",
       "      <td>0</td>\n",
       "      <td>0</td>\n",
       "      <td>0</td>\n",
       "      <td>...</td>\n",
       "      <td>0</td>\n",
       "      <td>0</td>\n",
       "      <td>0</td>\n",
       "      <td>0</td>\n",
       "      <td>0</td>\n",
       "      <td>0</td>\n",
       "      <td>0</td>\n",
       "      <td>0</td>\n",
       "      <td>0</td>\n",
       "      <td>0</td>\n",
       "    </tr>\n",
       "    <tr>\n",
       "      <th>1</th>\n",
       "      <td>ham</td>\n",
       "      <td>[yes, princess, are, you, going, to, make, me,...</td>\n",
       "      <td>0</td>\n",
       "      <td>0</td>\n",
       "      <td>0</td>\n",
       "      <td>0</td>\n",
       "      <td>0</td>\n",
       "      <td>1</td>\n",
       "      <td>1</td>\n",
       "      <td>1</td>\n",
       "      <td>...</td>\n",
       "      <td>0</td>\n",
       "      <td>0</td>\n",
       "      <td>0</td>\n",
       "      <td>0</td>\n",
       "      <td>0</td>\n",
       "      <td>0</td>\n",
       "      <td>0</td>\n",
       "      <td>0</td>\n",
       "      <td>0</td>\n",
       "      <td>0</td>\n",
       "    </tr>\n",
       "    <tr>\n",
       "      <th>2</th>\n",
       "      <td>ham</td>\n",
       "      <td>[welp, apparently, he, retired]</td>\n",
       "      <td>0</td>\n",
       "      <td>0</td>\n",
       "      <td>0</td>\n",
       "      <td>0</td>\n",
       "      <td>0</td>\n",
       "      <td>0</td>\n",
       "      <td>0</td>\n",
       "      <td>0</td>\n",
       "      <td>...</td>\n",
       "      <td>0</td>\n",
       "      <td>0</td>\n",
       "      <td>0</td>\n",
       "      <td>0</td>\n",
       "      <td>0</td>\n",
       "      <td>0</td>\n",
       "      <td>0</td>\n",
       "      <td>0</td>\n",
       "      <td>0</td>\n",
       "      <td>0</td>\n",
       "    </tr>\n",
       "    <tr>\n",
       "      <th>3</th>\n",
       "      <td>ham</td>\n",
       "      <td>[havent]</td>\n",
       "      <td>0</td>\n",
       "      <td>0</td>\n",
       "      <td>0</td>\n",
       "      <td>0</td>\n",
       "      <td>0</td>\n",
       "      <td>0</td>\n",
       "      <td>0</td>\n",
       "      <td>0</td>\n",
       "      <td>...</td>\n",
       "      <td>0</td>\n",
       "      <td>0</td>\n",
       "      <td>0</td>\n",
       "      <td>0</td>\n",
       "      <td>0</td>\n",
       "      <td>0</td>\n",
       "      <td>0</td>\n",
       "      <td>0</td>\n",
       "      <td>0</td>\n",
       "      <td>0</td>\n",
       "    </tr>\n",
       "    <tr>\n",
       "      <th>4</th>\n",
       "      <td>ham</td>\n",
       "      <td>[i, forgot, 2, ask, ü, all, smth, there, s, a,...</td>\n",
       "      <td>0</td>\n",
       "      <td>0</td>\n",
       "      <td>0</td>\n",
       "      <td>0</td>\n",
       "      <td>0</td>\n",
       "      <td>0</td>\n",
       "      <td>0</td>\n",
       "      <td>0</td>\n",
       "      <td>...</td>\n",
       "      <td>0</td>\n",
       "      <td>0</td>\n",
       "      <td>0</td>\n",
       "      <td>0</td>\n",
       "      <td>0</td>\n",
       "      <td>0</td>\n",
       "      <td>0</td>\n",
       "      <td>0</td>\n",
       "      <td>0</td>\n",
       "      <td>0</td>\n",
       "    </tr>\n",
       "  </tbody>\n",
       "</table>\n",
       "<p>5 rows × 7785 columns</p>\n",
       "</div>"
      ],
      "text/plain": [
       "  Label                                                SMS  yep  by  the  \\\n",
       "0   ham                  [yep, by, the, pretty, sculpture]    1   1    1   \n",
       "1   ham  [yes, princess, are, you, going, to, make, me,...    0   0    0   \n",
       "2   ham                    [welp, apparently, he, retired]    0   0    0   \n",
       "3   ham                                           [havent]    0   0    0   \n",
       "4   ham  [i, forgot, 2, ask, ü, all, smth, there, s, a,...    0   0    0   \n",
       "\n",
       "   pretty  sculpture  yes  princess  are  ...  beauty  hides  secrets  n8  \\\n",
       "0       1          1    0         0    0  ...       0      0        0   0   \n",
       "1       0          0    1         1    1  ...       0      0        0   0   \n",
       "2       0          0    0         0    0  ...       0      0        0   0   \n",
       "3       0          0    0         0    0  ...       0      0        0   0   \n",
       "4       0          0    0         0    0  ...       0      0        0   0   \n",
       "\n",
       "   jewelry  related  trade  arul  bx526  wherre  \n",
       "0        0        0      0     0      0       0  \n",
       "1        0        0      0     0      0       0  \n",
       "2        0        0      0     0      0       0  \n",
       "3        0        0      0     0      0       0  \n",
       "4        0        0      0     0      0       0  \n",
       "\n",
       "[5 rows x 7785 columns]"
      ]
     },
     "execution_count": 94,
     "metadata": {},
     "output_type": "execute_result"
    }
   ],
   "source": [
    "training_set_clean = pd.concat([training_set[\"Label\"], training_set[\"SMS\"], word_counts], axis=1)\n",
    "training_set_clean.head()"
   ]
  },
  {
   "cell_type": "markdown",
   "metadata": {
    "collapsed": true
   },
   "source": [
    "Now that we're done with data cleaning and have a training set to work with, we can begin creating the spam filter."
   ]
  },
  {
   "cell_type": "markdown",
   "metadata": {},
   "source": [
    "## Building the Spam Filter"
   ]
  },
  {
   "cell_type": "markdown",
   "metadata": {},
   "source": [
    "### Calculation of constants"
   ]
  },
  {
   "cell_type": "markdown",
   "metadata": {},
   "source": [
    "Recall that our spam filter will be based on a multinomial Naive Bayes algorithm. This algorithm needs to know the probability values of the two following equations to be able to classify new messages:\n",
    "\n",
    "$$P(Spam|w_{1}, w_{2},..., w_{n}) \\propto  P(Spam) \\cdot \\prod_{i = 1}^{n} P(w_{i}|Spam)$$\n",
    "\n",
    "$$P(Ham|w_{1}, w_{2},..., w_{n}) \\propto  P(Ham) \\cdot \\prod_{i = 1}^{n} P(w_{i}|Ham)$$\n",
    "\n",
    "Also, to calculate P(w<sub>i</sub>|Spam) and P(w<sub>i</sub>|Ham) inside the formulas above, recall that we need to use these equations:\n",
    "\n",
    "$$P(w_{i}|Spam) = \\frac{N_{w_{i}|Spam}+\\alpha }{N_{Spam}+\\alpha \\cdot N_{Vocabulary}}$$\n",
    "\n",
    "$$P(w_{i}|Ham) = \\frac{N_{w_{i}|Ham}+\\alpha }{N_{Ham}+\\alpha \\cdot N_{Vocabulary}}$$\n",
    "\n",
    "Some of the terms in the four equations above will have the same value for every new message. As a start, let's first calculate:\n",
    "* P(Spam) and P(Ham)\n",
    "* N<sub>Spam</sub>, N<sub>Ham</sub>, N<sub>Vocabulary</sub>\n",
    "\n",
    "N<sub>Spam</sub> = number of words in all the spam messages\n",
    "\n",
    "N<sub>Ham</sub> = number of words in all the non-spam messages\n",
    "\n",
    "We'll also use Laplace smoothing and set $\\alpha$ = 1.\n",
    "\n",
    "In the next blocks of code, and for the training set only, we:\n",
    "* calculate P(Spam) and P(Ham)\n",
    "* calculate N<sub>Spam</sub>, N<sub>Ham</sub> and N<sub>Vocabulary</sub>\n",
    "* initiate a variable named `alpha` with a value of 1"
   ]
  },
  {
   "cell_type": "code",
   "execution_count": 95,
   "metadata": {},
   "outputs": [
    {
     "name": "stdout",
     "output_type": "stream",
     "text": [
      "0.13458950201884254\n",
      "0.8654104979811574\n"
     ]
    }
   ],
   "source": [
    "# Get all spam messages from the training set\n",
    "spams = training_set_clean[training_set_clean[\"Label\"] == 'spam']\n",
    "\n",
    "# Get all ham messages from the training set\n",
    "hams = training_set_clean[training_set_clean[\"Label\"] == 'ham']\n",
    "\n",
    "p_spam = len(spams) / len(training_set_clean)\n",
    "p_ham = len(hams) / len(training_set_clean)\n",
    "\n",
    "print(p_spam)\n",
    "print(p_ham)"
   ]
  },
  {
   "cell_type": "code",
   "execution_count": 96,
   "metadata": {},
   "outputs": [
    {
     "name": "stdout",
     "output_type": "stream",
     "text": [
      "7783\n",
      "15190\n",
      "57237\n"
     ]
    }
   ],
   "source": [
    "# Total number of unique words in all messages of the training set\n",
    "n_vocabulary = len(vocabulary)\n",
    "\n",
    "# Number of words in all the spam messages\n",
    "n_spam = spams.iloc[:,2:].sum().sum().astype(int)\n",
    "\n",
    "# Number of words in all the ham messages\n",
    "n_ham = hams.iloc[:,2:].sum().sum().astype(int)\n",
    "\n",
    "print(n_vocabulary)\n",
    "print(n_spam)\n",
    "print(n_ham)"
   ]
  },
  {
   "cell_type": "code",
   "execution_count": 97,
   "metadata": {},
   "outputs": [],
   "source": [
    "# Initialization of the variable alpha for Laplace smoothing\n",
    "alpha = 1"
   ]
  },
  {
   "cell_type": "markdown",
   "metadata": {},
   "source": [
    "### Calculation of Parameters"
   ]
  },
  {
   "cell_type": "markdown",
   "metadata": {},
   "source": [
    "All the terms we calculated thus far (`p_spam`, `p_ham`, `n_vocabulary`, `n_spam`, `n_ham`) will have constant values in our equations for every new message (regardless of the message or each individual word in the message).\n",
    "\n",
    "However, P(wi|Spam) and P(wi|Ham) will vary depending on the individual words. For instance, P(\"secret\"|Spam) will have a certain probability value, while P(\"cousin\"|Spam) or P(\"lovely\"|Spam) will most likely have other values.\n",
    "\n",
    "Although both P(wi|Spam) and P(wi|Ham) vary depending on the word, the probability for each individual word is constant for every new message.\n",
    "\n",
    "For instance, let's say we receive two new messages:\n",
    "\n",
    "* \"secret code\"\n",
    "* \"secret party 2night\"\n",
    "\n",
    "We'll need to calculate P(\"secret\"|Spam) for both these messages, and we can use the training set to get the values we need to find a result for the equation below:\n",
    "\n",
    "$$P(\"secret\"|Spam) = \\frac{N_{\"secret\"|Spam}+\\alpha }{N_{Spam}+\\alpha \\cdot N_{Vocabulary}}$$\n",
    "\n",
    "The steps we take to calculate P(\"secret\"|Spam) will be identical for both of our new messages above, or for any other new message that contains the word \"secret\". The key detail here is that calculating P(\"secret\"|Spam) only depends on the training set, and as long as we don't make changes to the training set, P(\"secret\"|Spam) stays constant. The same reasoning also applies to P(\"secret\"|Ham).\n",
    "\n",
    "This means that we can use our training set to calculate the probability for each word in our vocabulary. If our vocabulary contained only the words \"lost\", \"navigate\", and \"sea\", then we'd need to calculate six probabilities:\n",
    "\n",
    "* P(\"lost\"|Spam) and P(\"lost\"|Ham)\n",
    "* P(\"navigate\"|Spam) and P(\"navigate\"|Ham)\n",
    "* P(\"sea\"|Spam) and P(\"sea\"|Ham)\n",
    "\n",
    "We have 7,783 words in our vocabulary, which means we'll need to calculate a total of 15,566 probabilities. For each word, we need to calculate both P(wi|Spam) and P(wi|Ham).\n",
    "\n",
    "In more technical language, the probability values that P(wi|Spam) and P(wi|Ham) will take are called **parameters**.\n",
    "\n",
    "The fact that we calculate so many values before even beginning the classification of new messages makes the Naive Bayes algorithm very fast (especially compared to other algorithms). When a new message comes in, most of the needed computations are already done, which enables the algorithm to almost instantly classify the new message.\n",
    "\n",
    "If we didn't calculate all these values beforehand, then all these calculations would need to be done every time a new message comes in.\n",
    "\n",
    "Let's now calculate all the parameters using the equations below:\n",
    "\n",
    "$$P(w_{i}|Spam) = \\frac{N_{w_{i}|Spam}+\\alpha }{N_{Spam}+\\alpha \\cdot N_{Vocabulary}}$$\n",
    "\n",
    "$$P(w_{i}|Ham) = \\frac{N_{w_{i}|Ham}+\\alpha }{N_{Ham}+\\alpha \\cdot N_{Vocabulary}}$$\n",
    "\n",
    "We start by initializing two dictionaries, where each key-value pair is a unique word (from our vocabulary) represented as a string, and the value is 0. We'll need one dictionary to store the parameters for P(wi|Spam) and another for the parameters for P(wi|Ham)."
   ]
  },
  {
   "cell_type": "code",
   "execution_count": 98,
   "metadata": {},
   "outputs": [],
   "source": [
    "spam_params = {unique_word: 0 for unique_word in vocabulary}\n",
    "ham_params = {unique_word: 0 for unique_word in vocabulary}"
   ]
  },
  {
   "cell_type": "markdown",
   "metadata": {},
   "source": [
    "We then iterate over the vocabulary and, for each word, calculate P(w<sub>i</sub>|Spam) and P(w<sub>i</sub>|Ham) using the formulas we mentioned above."
   ]
  },
  {
   "cell_type": "code",
   "execution_count": 99,
   "metadata": {},
   "outputs": [],
   "source": [
    "for word in vocabulary:\n",
    "    n_word_spam = spams[word].sum() \n",
    "    n_word_ham = hams[word].sum()\n",
    "    p_word_given_spam = (n_word_spam + alpha) / (n_spam + alpha * n_vocabulary) \n",
    "    p_word_given_ham = (n_word_ham + alpha) / (n_ham + alpha * n_vocabulary) \n",
    "    spam_params[word] = p_word_given_spam\n",
    "    ham_params[word] = p_word_given_ham"
   ]
  },
  {
   "cell_type": "markdown",
   "metadata": {},
   "source": [
    "Now that we have calculated all the constants and parameters we need, we can start creating the spam filter."
   ]
  },
  {
   "cell_type": "markdown",
   "metadata": {},
   "source": [
    "### Creation of the Filter"
   ]
  },
  {
   "cell_type": "markdown",
   "metadata": {},
   "source": [
    "The spam filter can be understood as a function that:\n",
    "\n",
    "* Takes in as input a new message (w<sub>1</sub>, w<sub>2</sub>, ..., w<sub>n</sub>)\n",
    "* Calculates P(Spam|w<sub>1</sub>, w<sub>2</sub>, ..., w<sub>n</sub>) and P(Ham|w<sub>1</sub>, w<sub>2</sub>, ..., w<sub>n</sub>)\n",
    "* Compares the values of P(Spam|w<sub>1</sub>, w<sub>2</sub>, ..., w<sub>n</sub>) and P(Ham|w<sub>1</sub>, w<sub>2</sub>, ..., w<sub>n</sub>), and:\n",
    "    * If P(Ham|w<sub>1</sub>, w<sub>2</sub>, ..., w<sub>n</sub>) > P(Spam|w<sub>1</sub>, w<sub>2</sub>, ..., w<sub>n</sub>), then the message is classified as ham.\n",
    "    * If P(Ham|w<sub>1</sub>, w<sub>2</sub>, ..., w<sub>n</sub>) < P(Spam|w<sub>1</sub>, w<sub>2</sub>, ..., w<sub>n</sub>), then the message is classified as spam.\n",
    "    * If P(Ham|w<sub>1</sub>, w<sub>2</sub>, ..., w<sub>n</sub>) = P(Spam|w<sub>1</sub>, w<sub>2</sub>, ..., w<sub>n</sub>), then the algorithm may request human help.\n",
    "    \n",
    "Some new messages may contain words that are not part of the vocabulary. We will simply ignore these words when we're calculating the probabilities.\n",
    "\n",
    "Now we'll write the code for calculating `p_spam_given_message` and `p_ham_given_message`, and then we'll use the function to classify two new messages. After that, we'll classify all the 1,114 messages in our test set."
   ]
  },
  {
   "cell_type": "code",
   "execution_count": 100,
   "metadata": {},
   "outputs": [],
   "source": [
    "import re\n",
    "\n",
    "def classify(message):\n",
    "\n",
    "    # Cleaning of the new message\n",
    "    message = re.sub('\\W', ' ', message)\n",
    "    message = message.lower()\n",
    "    message = message.split()\n",
    "\n",
    "    # Initialization of the variables\n",
    "    p_spam_given_message = p_spam\n",
    "    p_ham_given_message = p_ham\n",
    "    \n",
    "    for word in message:\n",
    "        if word in spam_params:\n",
    "            p_spam_given_message *= spam_params[word]\n",
    "        if word in ham_params:\n",
    "            p_ham_given_message *= ham_params[word]\n",
    "        else:\n",
    "            pass\n",
    "        \n",
    "    print('P(Spam|message):', p_spam_given_message)\n",
    "    print('P(Ham|message):', p_ham_given_message)\n",
    "\n",
    "    if p_ham_given_message > p_spam_given_message:\n",
    "        print('Label: Ham')\n",
    "    elif p_ham_given_message < p_spam_given_message:\n",
    "        print('Label: Spam')\n",
    "    else:\n",
    "        print('Equal proabilities, have a human classify this!')"
   ]
  },
  {
   "cell_type": "markdown",
   "metadata": {},
   "source": [
    "We now test our `classify()` function on two new messages, one obviously spam and another one obviously ham. These two messages are the following:\n",
    "* 'WINNER!! This is the secret code to unlock the money: C3421.'\n",
    "* 'Sounds good, Tom, then see u there\""
   ]
  },
  {
   "cell_type": "code",
   "execution_count": 101,
   "metadata": {},
   "outputs": [
    {
     "name": "stdout",
     "output_type": "stream",
     "text": [
      "P(Spam|message): 1.3481290211300841e-25\n",
      "P(Ham|message): 1.9368049028589875e-27\n",
      "Label: Spam\n",
      "None\n",
      "P(Spam|message): 2.4372375665888117e-25\n",
      "P(Ham|message): 3.687530435009238e-21\n",
      "Label: Ham\n",
      "None\n"
     ]
    }
   ],
   "source": [
    "test_message_1 = 'WINNER!! This is the secret code to unlock the money: C3421.'\n",
    "test_message_2 = 'Sounds good, Tom, then see u there'\n",
    "\n",
    "print(classify(test_message_1))\n",
    "print(classify(test_message_2))"
   ]
  },
  {
   "cell_type": "markdown",
   "metadata": {},
   "source": [
    "Our spam filter correctly classified the two messages. Let's now move to the proper validation phase!"
   ]
  },
  {
   "cell_type": "markdown",
   "metadata": {},
   "source": [
    "## Assessing the Filter's accuracy"
   ]
  },
  {
   "cell_type": "markdown",
   "metadata": {},
   "source": [
    "We'll now try to determine how well the spam filter does on our test set of 1,114 messages.\n",
    "\n",
    "The algorithm will output a classification label for every message in our test set, which we'll be able to compare with the actual label.\n",
    "\n",
    "First off, we'll change the `classify()` function that we wrote previously to return the labels instead of printing them. "
   ]
  },
  {
   "cell_type": "code",
   "execution_count": 102,
   "metadata": {},
   "outputs": [],
   "source": [
    "def classify_test_set(message):\n",
    "\n",
    "    # Cleaning of the new message\n",
    "    message = re.sub('\\W', ' ', message)\n",
    "    message = message.lower()\n",
    "    message = message.split()\n",
    "\n",
    "    # Initialization of the variables\n",
    "    p_spam_given_message = p_spam\n",
    "    p_ham_given_message = p_ham\n",
    "    \n",
    "    for word in message:\n",
    "        if word in spam_params:\n",
    "            p_spam_given_message *= spam_params[word]\n",
    "        if word in ham_params:\n",
    "            p_ham_given_message *= ham_params[word]\n",
    "\n",
    "    if p_ham_given_message > p_spam_given_message:\n",
    "        return 'ham'\n",
    "    elif p_ham_given_message < p_spam_given_message:\n",
    "        return 'spam'\n",
    "    else:\n",
    "        return 'needs human classification'"
   ]
  },
  {
   "cell_type": "markdown",
   "metadata": {},
   "source": [
    "Now that we have a function that returns labels instead of printing them, we can use it to create a new column in our test set."
   ]
  },
  {
   "cell_type": "code",
   "execution_count": 103,
   "metadata": {},
   "outputs": [
    {
     "data": {
      "text/html": [
       "<div>\n",
       "<style scoped>\n",
       "    .dataframe tbody tr th:only-of-type {\n",
       "        vertical-align: middle;\n",
       "    }\n",
       "\n",
       "    .dataframe tbody tr th {\n",
       "        vertical-align: top;\n",
       "    }\n",
       "\n",
       "    .dataframe thead th {\n",
       "        text-align: right;\n",
       "    }\n",
       "</style>\n",
       "<table border=\"1\" class=\"dataframe\">\n",
       "  <thead>\n",
       "    <tr style=\"text-align: right;\">\n",
       "      <th></th>\n",
       "      <th>Label</th>\n",
       "      <th>SMS</th>\n",
       "      <th>predicted</th>\n",
       "    </tr>\n",
       "  </thead>\n",
       "  <tbody>\n",
       "    <tr>\n",
       "      <th>0</th>\n",
       "      <td>ham</td>\n",
       "      <td>Later i guess. I needa do mcat study too.</td>\n",
       "      <td>ham</td>\n",
       "    </tr>\n",
       "    <tr>\n",
       "      <th>1</th>\n",
       "      <td>ham</td>\n",
       "      <td>But i haf enuff space got like 4 mb...</td>\n",
       "      <td>ham</td>\n",
       "    </tr>\n",
       "    <tr>\n",
       "      <th>2</th>\n",
       "      <td>spam</td>\n",
       "      <td>Had your mobile 10 mths? Update to latest Oran...</td>\n",
       "      <td>spam</td>\n",
       "    </tr>\n",
       "    <tr>\n",
       "      <th>3</th>\n",
       "      <td>ham</td>\n",
       "      <td>All sounds good. Fingers . Makes it difficult ...</td>\n",
       "      <td>ham</td>\n",
       "    </tr>\n",
       "    <tr>\n",
       "      <th>4</th>\n",
       "      <td>ham</td>\n",
       "      <td>All done, all handed in. Don't know if mega sh...</td>\n",
       "      <td>ham</td>\n",
       "    </tr>\n",
       "    <tr>\n",
       "      <th>5</th>\n",
       "      <td>ham</td>\n",
       "      <td>But my family not responding for anything. Now...</td>\n",
       "      <td>ham</td>\n",
       "    </tr>\n",
       "    <tr>\n",
       "      <th>6</th>\n",
       "      <td>ham</td>\n",
       "      <td>U too...</td>\n",
       "      <td>ham</td>\n",
       "    </tr>\n",
       "    <tr>\n",
       "      <th>7</th>\n",
       "      <td>ham</td>\n",
       "      <td>Boo what time u get out? U were supposed to ta...</td>\n",
       "      <td>ham</td>\n",
       "    </tr>\n",
       "    <tr>\n",
       "      <th>8</th>\n",
       "      <td>ham</td>\n",
       "      <td>Genius what's up. How your brother. Pls send h...</td>\n",
       "      <td>ham</td>\n",
       "    </tr>\n",
       "    <tr>\n",
       "      <th>9</th>\n",
       "      <td>ham</td>\n",
       "      <td>I liked the new mobile</td>\n",
       "      <td>ham</td>\n",
       "    </tr>\n",
       "  </tbody>\n",
       "</table>\n",
       "</div>"
      ],
      "text/plain": [
       "  Label                                                SMS predicted\n",
       "0   ham          Later i guess. I needa do mcat study too.       ham\n",
       "1   ham             But i haf enuff space got like 4 mb...       ham\n",
       "2  spam  Had your mobile 10 mths? Update to latest Oran...      spam\n",
       "3   ham  All sounds good. Fingers . Makes it difficult ...       ham\n",
       "4   ham  All done, all handed in. Don't know if mega sh...       ham\n",
       "5   ham  But my family not responding for anything. Now...       ham\n",
       "6   ham                                           U too...       ham\n",
       "7   ham  Boo what time u get out? U were supposed to ta...       ham\n",
       "8   ham  Genius what's up. How your brother. Pls send h...       ham\n",
       "9   ham                             I liked the new mobile       ham"
      ]
     },
     "execution_count": 103,
     "metadata": {},
     "output_type": "execute_result"
    }
   ],
   "source": [
    "test_set['predicted'] = test_set['SMS'].apply(classify_test_set)\n",
    "test_set.head(10)"
   ]
  },
  {
   "cell_type": "markdown",
   "metadata": {},
   "source": [
    "Looking at the head of `test_set`, it seems our filter did pretty well at classifying the messages.\n",
    "\n",
    "We can compare the predicted values with the actual labels for all 1,114 messages to measure how good our spam filter is with classifying new messages. To make the measurement, we'll use **accuracy** as a metric:\n",
    "\n",
    "$$Accuracy = \\frac{number\\:of\\:correctly\\:classified\\:messages}{total\\:number\\:of\\:classified\\:messages}$$"
   ]
  },
  {
   "cell_type": "code",
   "execution_count": 104,
   "metadata": {},
   "outputs": [
    {
     "name": "stdout",
     "output_type": "stream",
     "text": [
      "0.9874\n"
     ]
    }
   ],
   "source": [
    "correct = 0\n",
    "total = len(test_set)\n",
    "\n",
    "for index, row in test_set.iterrows():\n",
    "    if row[\"Label\"] == row[\"predicted\"]:\n",
    "        correct += 1\n",
    "        \n",
    "accuracy = correct / total\n",
    "print(round(accuracy,4))"
   ]
  },
  {
   "cell_type": "markdown",
   "metadata": {},
   "source": [
    "Our spam filter has an accuracy of 98.74% on the test set. This is an excellent result."
   ]
  },
  {
   "cell_type": "markdown",
   "metadata": {},
   "source": [
    "## Conclusion"
   ]
  },
  {
   "cell_type": "markdown",
   "metadata": {},
   "source": [
    "In this project, we managed to build a spam filter for SMS messages using the multinomial Naive Bayes algorithm. The filter had an accuracy of 98.74% on the test set, which is an excellent result. We initially aimed for an accuracy of over 80%, but we managed to do way better than that.\n",
    "\n",
    "Potential next steps for this project would be:\n",
    "* isolate the 14 messages that were classified incorrectly and try to figure out why the algorithm reached the wrong conclusions.\n",
    "* Make the filtering process more complex by making the algorithm sensitive to letter case."
   ]
  }
 ],
 "metadata": {
  "kernelspec": {
   "display_name": "Python 3",
   "language": "python",
   "name": "python3"
  },
  "language_info": {
   "codemirror_mode": {
    "name": "ipython",
    "version": 3
   },
   "file_extension": ".py",
   "mimetype": "text/x-python",
   "name": "python",
   "nbconvert_exporter": "python",
   "pygments_lexer": "ipython3",
   "version": "3.7.6"
  },
  "toc": {
   "base_numbering": 1,
   "nav_menu": {},
   "number_sections": true,
   "sideBar": true,
   "skip_h1_title": false,
   "title_cell": "Table of Contents",
   "title_sidebar": "Contents",
   "toc_cell": false,
   "toc_position": {},
   "toc_section_display": true,
   "toc_window_display": false
  }
 },
 "nbformat": 4,
 "nbformat_minor": 4
}
