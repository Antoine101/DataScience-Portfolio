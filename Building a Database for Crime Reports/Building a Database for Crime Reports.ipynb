{
 "cells": [
  {
   "cell_type": "markdown",
   "metadata": {},
   "source": [
    "# Guided Project : Building a Database for Crime Reports"
   ]
  },
  {
   "cell_type": "markdown",
   "metadata": {},
   "source": [
    "## Introduction"
   ]
  },
  {
   "cell_type": "markdown",
   "metadata": {},
   "source": [
    "The goal of this guided project is to build a database for storing data related with crimes that occured in Boston. This dataset is available in the file `boston.csv`.\n",
    "\n",
    "We will create a database named `crimes_db` with a table named `boston_crimes` with appropriate datatypes for storing the data from the `boston.csv` file. We will create the table inside a schema named `crimes`.\n",
    "We will also create the `readonly` and `readwrite` groups with the appropriate privileges as we have discussed in this course.\n",
    "Finally, we will also create one user for each of these groups.\n",
    "\n",
    "The following diagram illustrates a high level overview of what we want to acheive:\n",
    "![title](img/diagram.png)"
   ]
  },
  {
   "cell_type": "markdown",
   "metadata": {},
   "source": [
    "## Creating the Database and the Schema"
   ]
  },
  {
   "cell_type": "markdown",
   "metadata": {},
   "source": [
    "First, we start by creating a databse for storing our crime data.\n",
    "\n",
    "When we connect to the Postgres server, we need to specify a database name. Since the `crime_db` database does not exist yet, we can create it by connecting to Dataquest's `dq` database."
   ]
  },
  {
   "cell_type": "code",
   "execution_count": 2,
   "metadata": {},
   "outputs": [
    {
     "ename": "ProgrammingError",
     "evalue": "database \"crime_db\" already exists\n",
     "output_type": "error",
     "traceback": [
      "\u001b[1;31m\u001b[0m",
      "\u001b[1;31mProgrammingError\u001b[0mTraceback (most recent call last)",
      "\u001b[1;32m<ipython-input-2-70561d6ca9f9>\u001b[0m in \u001b[0;36m<module>\u001b[1;34m()\u001b[0m\n\u001b[0;32m      8\u001b[0m \u001b[1;33m\u001b[0m\u001b[0m\n\u001b[0;32m      9\u001b[0m \u001b[1;31m# Creation of the crime_db database\u001b[0m\u001b[1;33m\u001b[0m\u001b[1;33m\u001b[0m\u001b[0m\n\u001b[1;32m---> 10\u001b[1;33m \u001b[0mcur\u001b[0m\u001b[1;33m.\u001b[0m\u001b[0mexecute\u001b[0m\u001b[1;33m(\u001b[0m\u001b[1;34m\"CREATE DATABASE crime_db;\"\u001b[0m\u001b[1;33m)\u001b[0m\u001b[1;33m\u001b[0m\u001b[0m\n\u001b[0m\u001b[0;32m     11\u001b[0m \u001b[1;33m\u001b[0m\u001b[0m\n\u001b[0;32m     12\u001b[0m \u001b[0mconn\u001b[0m\u001b[1;33m.\u001b[0m\u001b[0mclose\u001b[0m\u001b[1;33m(\u001b[0m\u001b[1;33m)\u001b[0m\u001b[1;33m\u001b[0m\u001b[0m\n",
      "\u001b[1;31mProgrammingError\u001b[0m: database \"crime_db\" already exists\n"
     ]
    }
   ],
   "source": [
    "import psycopg2\n",
    "\n",
    "conn = psycopg2.connect(dbname=\"dq\", user=\"dq\")\n",
    "\n",
    "# Set autocommit to True as required for databse creation \n",
    "conn.autocommit = True\n",
    "cur = conn.cursor()\n",
    "\n",
    "# Creation of the crime_db database\n",
    "cur.execute(\"CREATE DATABASE crime_db;\")\n",
    "\n",
    "conn.close()"
   ]
  },
  {
   "cell_type": "markdown",
   "metadata": {},
   "source": [
    "Then, we create a schema in this new database to contain the tables."
   ]
  },
  {
   "cell_type": "code",
   "execution_count": 3,
   "metadata": {},
   "outputs": [
    {
     "ename": "ProgrammingError",
     "evalue": "schema \"crimes\" already exists\n",
     "output_type": "error",
     "traceback": [
      "\u001b[1;31m\u001b[0m",
      "\u001b[1;31mProgrammingError\u001b[0mTraceback (most recent call last)",
      "\u001b[1;32m<ipython-input-3-e67ce793d51b>\u001b[0m in \u001b[0;36m<module>\u001b[1;34m()\u001b[0m\n\u001b[0;32m      4\u001b[0m \u001b[1;33m\u001b[0m\u001b[0m\n\u001b[0;32m      5\u001b[0m \u001b[1;31m# Creation of the crimes schema\u001b[0m\u001b[1;33m\u001b[0m\u001b[1;33m\u001b[0m\u001b[0m\n\u001b[1;32m----> 6\u001b[1;33m \u001b[0mcur\u001b[0m\u001b[1;33m.\u001b[0m\u001b[0mexecute\u001b[0m\u001b[1;33m(\u001b[0m\u001b[1;34m\"CREATE SCHEMA crimes;\"\u001b[0m\u001b[1;33m)\u001b[0m\u001b[1;33m\u001b[0m\u001b[0m\n\u001b[0m",
      "\u001b[1;31mProgrammingError\u001b[0m: schema \"crimes\" already exists\n"
     ]
    }
   ],
   "source": [
    "conn = psycopg2.connect(dbname=\"crime_db\", user=\"dq\")\n",
    "conn.autocommit = True\n",
    "cur = conn.cursor()\n",
    "\n",
    "# Creation of the crimes schema\n",
    "cur.execute(\"CREATE SCHEMA crimes;\")"
   ]
  },
  {
   "cell_type": "markdown",
   "metadata": {},
   "source": [
    "## Analyzing the Dataset"
   ]
  },
  {
   "cell_type": "markdown",
   "metadata": {},
   "source": [
    "We now have a database and a schema - we are ready to start creating tables. But before we do that, let's gather some data about our crime dataset so that we can more easily select the right datatypes to use in our table.\n",
    "\n",
    "Let's start by reading the column names from the `boston.csv` file as well as the first row. In this way we will have them at hand throughout this guided project so that we can easily take a look at them at any moment."
   ]
  },
  {
   "cell_type": "code",
   "execution_count": 4,
   "metadata": {},
   "outputs": [
    {
     "name": "stdout",
     "output_type": "stream",
     "text": [
      "['incident_number', 'offense_code', 'description', 'date', 'day_of_the_week', 'lat', 'long']\n",
      "['1', '619', 'LARCENY ALL OTHERS', '2018-09-02', 'Sunday', '42.35779134', '-71.13937053']\n"
     ]
    }
   ],
   "source": [
    "import csv\n",
    "\n",
    "with open(\"boston.csv\", \"r\") as file:\n",
    "    reader = csv.reader(file)\n",
    "    col_headers = next(reader)\n",
    "    first_row = next(reader)\n",
    "    \n",
    "print(col_headers)\n",
    "print(first_row)"
   ]
  },
  {
   "cell_type": "markdown",
   "metadata": {},
   "source": [
    "The first column represents the identifier of the crime. The second contains a numeric identifier code for the committed crime. The third represents a description of the crime. The next two rows contain the date on which the crime happened and the corresponding day of the week. Finally, the last two columns represent the location of the crime with a latitude and longitude coordinates.\n",
    "\n",
    "Before we create a table for storing the crime data, we need to identify the proper datatypes for the columns. To help us with that, let's create a function — `get_col_set()` — that given the name of a CSV file and a column index (starting at 0) that computes a Python set with all distinct values contained in that column. \n",
    "\n",
    "This function will be useful for two reasons:\n",
    "1. Checking whether an enumerated datatype might be a good choice for representing a column.\n",
    "2. Computing the maximum length of any text-like column to select appropriate sizes for `VARCHAR` columns.\n",
    "\n",
    "Let's compute the number of different values in each column of the `boston.csv` file."
   ]
  },
  {
   "cell_type": "code",
   "execution_count": 6,
   "metadata": {
    "collapsed": true
   },
   "outputs": [],
   "source": [
    "def get_col_set(csv_filename, col_index):\n",
    "    \n",
    "    import csv\n",
    "    values = set()\n",
    "    with open(\"boston.csv\", \"r\") as file:\n",
    "        reader = csv.reader(file)\n",
    "        for row in reader:\n",
    "            values.add(row[col_index])\n",
    "    return values"
   ]
  },
  {
   "cell_type": "markdown",
   "metadata": {},
   "source": [
    "We can now compute the number of different values each of the seven columns of our dataset contain."
   ]
  },
  {
   "cell_type": "code",
   "execution_count": 7,
   "metadata": {},
   "outputs": [
    {
     "name": "stdout",
     "output_type": "stream",
     "text": [
      "incident_number\t298330\n",
      "offense_code\t220\n",
      "description\t240\n",
      "date\t1178\n",
      "day_of_the_week\t8\n",
      "lat\t18178\n",
      "long\t18178\n"
     ]
    }
   ],
   "source": [
    "for i in range(len(col_headers)):\n",
    "    values = get_col_set(\"boston.csv\", i)\n",
    "    print(col_headers[i], len(values), sep='\\t')"
   ]
  },
  {
   "cell_type": "markdown",
   "metadata": {},
   "source": [
    "Columns with a low number of values, like the `day_of_the_week` column, tend to be good candidates for enumerated datatypes.\n",
    "\n",
    "Another important aspect is to know the longest word in any column containing textual data. We can actually use the previous function for computing this:\n",
    "1. Use the `get_col_set()` function to get the distinct values of that column into a variable named `col_values`\n",
    "2. Iterate over the elements of `col_values` and find the one which is the longest\n",
    "\n",
    "There are two textual column in the data set, namely, the `description` and `day_of_the_week` columns. However the day of the week contains only 7 values, one for each day. We can tell that the longest of them is `Wednesday` without needing any computation.\n",
    "\n",
    "Let's compute the maximum length of each value in the `description` column."
   ]
  },
  {
   "cell_type": "code",
   "execution_count": 8,
   "metadata": {},
   "outputs": [
    {
     "name": "stdout",
     "output_type": "stream",
     "text": [
      "['incident_number', 'offense_code', 'description', 'date', 'day_of_the_week', 'lat', 'long']\n"
     ]
    }
   ],
   "source": [
    "print(col_headers)"
   ]
  },
  {
   "cell_type": "code",
   "execution_count": 9,
   "metadata": {},
   "outputs": [
    {
     "name": "stdout",
     "output_type": "stream",
     "text": [
      "58\n"
     ]
    }
   ],
   "source": [
    "descriptions = get_col_set(\"boston.csv\", 2)\n",
    "\n",
    "max_length = 0\n",
    "\n",
    "for description in descriptions:\n",
    "    max_length = max(max_length, len(description))\n",
    "\n",
    "print(max_length)"
   ]
  },
  {
   "cell_type": "markdown",
   "metadata": {},
   "source": [
    "The longest element of the `description` column contains 58 characters.\n",
    "\n",
    "In the next section, we use this information to select the appropriate datatypes while creating our table."
   ]
  },
  {
   "cell_type": "markdown",
   "metadata": {},
   "source": [
    "## Creating the Table"
   ]
  },
  {
   "cell_type": "markdown",
   "metadata": {},
   "source": [
    "We now create a table named `boston_crimes` inside the `crimes` schema of the `crime_db` database.\n",
    "\n",
    "First, we need to agree on the appropriate datatypes."
   ]
  },
  {
   "cell_type": "code",
   "execution_count": 10,
   "metadata": {},
   "outputs": [
    {
     "name": "stdout",
     "output_type": "stream",
     "text": [
      "['incident_number', 'offense_code', 'description', 'date', 'day_of_the_week', 'lat', 'long']\n",
      "['1', '619', 'LARCENY ALL OTHERS', '2018-09-02', 'Sunday', '42.35779134', '-71.13937053']\n"
     ]
    }
   ],
   "source": [
    "print(col_headers)\n",
    "print(first_row)"
   ]
  },
  {
   "cell_type": "markdown",
   "metadata": {},
   "source": [
    "Looking at the first row of the dataset, we can see the following datatypes:\n",
    "- `incident_number` : integer\n",
    "- `offense_code` : integer\n",
    "- `description` : text\n",
    "- `date` : date\n",
    "- `day_of_the_week` : text\n",
    "- `lat` : decimal\n",
    "- `long` : decimal\n",
    "\n",
    "Only the column `day_of_the_weekend` has a small enough range of unique values to consider an enumerate datatype.\n",
    "\n",
    "As we computed in the previous section, the longest text element of the `description` column is of size 58.\n",
    "To be on the safe side, we will limit the size of `description` to 100 characters and use the VARCHAR(100) datatype.\n",
    "\n",
    "The `lat` and `long` columns need to hold a lot of precision so we will use the decimal type for them."
   ]
  },
  {
   "cell_type": "code",
   "execution_count": 11,
   "metadata": {},
   "outputs": [
    {
     "ename": "ProgrammingError",
     "evalue": "type \"weekday\" already exists\n",
     "output_type": "error",
     "traceback": [
      "\u001b[1;31m\u001b[0m",
      "\u001b[1;31mProgrammingError\u001b[0mTraceback (most recent call last)",
      "\u001b[1;32m<ipython-input-11-657c9810ebaa>\u001b[0m in \u001b[0;36m<module>\u001b[1;34m()\u001b[0m\n\u001b[0;32m      1\u001b[0m \u001b[1;31m# Creation of the enumerated datatype for weekday\u001b[0m\u001b[1;33m\u001b[0m\u001b[1;33m\u001b[0m\u001b[0m\n\u001b[0;32m      2\u001b[0m cur.execute(\"\"\"\n\u001b[1;32m----> 3\u001b[1;33m     CREATE TYPE weekday AS ENUM ('Monday','Tuesday', 'Wednesday', 'Thursday', 'Friday', 'Saturday', 'Sunday');\"\"\")\n\u001b[0m\u001b[0;32m      4\u001b[0m \u001b[1;33m\u001b[0m\u001b[0m\n\u001b[0;32m      5\u001b[0m \u001b[1;31m# Creation of the table\u001b[0m\u001b[1;33m\u001b[0m\u001b[1;33m\u001b[0m\u001b[0m\n",
      "\u001b[1;31mProgrammingError\u001b[0m: type \"weekday\" already exists\n"
     ]
    }
   ],
   "source": [
    "# Creation of the enumerated datatype for weekday\n",
    "cur.execute(\"\"\"\n",
    "    CREATE TYPE weekday AS ENUM ('Monday','Tuesday', 'Wednesday', 'Thursday', 'Friday', 'Saturday', 'Sunday');\"\"\")\n",
    "\n",
    "# Creation of the table\n",
    "cur.execute(\"\"\"\n",
    "    CREATE TABLE crimes.boston_crimes(\n",
    "        incident_number INTEGER PRIMARY KEY,\n",
    "        offense_code INTEGER,\n",
    "        description VARCHAR(100)\n",
    "        date DATE,\n",
    "        day_of_the_week weekday,\n",
    "        lat decimal,\n",
    "        long decimal\n",
    "    );\n",
    "\"\"\")"
   ]
  },
  {
   "cell_type": "markdown",
   "metadata": {},
   "source": [
    "## Loading the Data"
   ]
  },
  {
   "cell_type": "markdown",
   "metadata": {},
   "source": [
    "Now that we have created the table, we can load the data into it."
   ]
  },
  {
   "cell_type": "code",
   "execution_count": 12,
   "metadata": {},
   "outputs": [
    {
     "ename": "ProgrammingError",
     "evalue": "relation \"crimes.boston_crimes\" does not exist\n",
     "output_type": "error",
     "traceback": [
      "\u001b[1;31m\u001b[0m",
      "\u001b[1;31mProgrammingError\u001b[0mTraceback (most recent call last)",
      "\u001b[1;32m<ipython-input-12-a3c5794101a1>\u001b[0m in \u001b[0;36m<module>\u001b[1;34m()\u001b[0m\n\u001b[0;32m      1\u001b[0m \u001b[1;32mwith\u001b[0m \u001b[0mopen\u001b[0m\u001b[1;33m(\u001b[0m\u001b[1;34m\"boston.csv\"\u001b[0m\u001b[1;33m,\u001b[0m \u001b[1;34m\"r\"\u001b[0m\u001b[1;33m)\u001b[0m \u001b[1;32mas\u001b[0m \u001b[0mf\u001b[0m\u001b[1;33m:\u001b[0m\u001b[1;33m\u001b[0m\u001b[0m\n\u001b[1;32m----> 2\u001b[1;33m     \u001b[0mcur\u001b[0m\u001b[1;33m.\u001b[0m\u001b[0mcopy_expert\u001b[0m\u001b[1;33m(\u001b[0m\u001b[1;34m\"COPY crimes.boston_crimes FROM STDIN WITH CSV HEADER\"\u001b[0m\u001b[1;33m,\u001b[0m\u001b[0mf\u001b[0m\u001b[1;33m)\u001b[0m\u001b[1;33m\u001b[0m\u001b[0m\n\u001b[0m\u001b[0;32m      3\u001b[0m \u001b[1;33m\u001b[0m\u001b[0m\n\u001b[0;32m      4\u001b[0m \u001b[0mcur\u001b[0m\u001b[1;33m.\u001b[0m\u001b[0mexecute\u001b[0m\u001b[1;33m(\u001b[0m\u001b[1;34m\"SELECT * FROM crimes.boston_crimes\"\u001b[0m\u001b[1;33m)\u001b[0m\u001b[1;33m\u001b[0m\u001b[0m\n\u001b[0;32m      5\u001b[0m \u001b[0mprint\u001b[0m\u001b[1;33m(\u001b[0m\u001b[0mlen\u001b[0m\u001b[1;33m(\u001b[0m\u001b[0mcur\u001b[0m\u001b[1;33m.\u001b[0m\u001b[0mfetchall\u001b[0m\u001b[1;33m(\u001b[0m\u001b[1;33m)\u001b[0m\u001b[1;33m)\u001b[0m\u001b[1;33m)\u001b[0m\u001b[1;33m\u001b[0m\u001b[0m\n",
      "\u001b[1;31mProgrammingError\u001b[0m: relation \"crimes.boston_crimes\" does not exist\n"
     ]
    }
   ],
   "source": [
    "with open(\"boston.csv\", \"r\") as f:\n",
    "    cur.copy_expert(\"COPY crimes.boston_crimes FROM STDIN WITH CSV HEADER\",f)\n",
    "    \n",
    "cur.execute(\"SELECT * FROM crimes.boston_crimes\")\n",
    "print(len(cur.fetchall()))"
   ]
  },
  {
   "cell_type": "markdown",
   "metadata": {},
   "source": [
    "## Handling Users and Access Rights"
   ]
  },
  {
   "cell_type": "markdown",
   "metadata": {},
   "source": [
    "It is now time to handle users rights. Our goal is to create two users groups: `readonly` and `readwrite`. By following the least privilege principle, the first step in doing so is to make sure that there are no privileges inherited from the `public` group and on the `public` schema."
   ]
  },
  {
   "cell_type": "markdown",
   "metadata": {},
   "source": [
    "### Revoking Public Priviledges"
   ]
  },
  {
   "cell_type": "markdown",
   "metadata": {},
   "source": [
    "We revoke all privileges of the `public` group on the `public` schema to ensure that users will not inherit priviledges on that schema such as the ability to create tables in the `public` schema.\n",
    "\n",
    "We also need to revoke all priviledges in the newly created schema."
   ]
  },
  {
   "cell_type": "code",
   "execution_count": 14,
   "metadata": {
    "collapsed": true
   },
   "outputs": [],
   "source": [
    "cur.execute(\"REVOKE ALL ON SCHEMA public FROM public\")\n",
    "cur.execute(\"REVOKE ALL ON DATABASE crime_db FROM public\")"
   ]
  },
  {
   "cell_type": "markdown",
   "metadata": {},
   "source": [
    "### Creating Users Groups"
   ]
  },
  {
   "cell_type": "markdown",
   "metadata": {},
   "source": [
    "Next, we create the `readonly` and `readwrite` users groups. Both groups shall be granted the ability to connect to the database `crimes_db` and to use the `crimes` schema.\n",
    "\n",
    "The `readonly` group shall only have the priviledges to perform `SELECT` queries on all the tables of the `crimes` schema.\n",
    "\n",
    "The `readwrite` group shall be able to perform `SELECT`, `INSERT`, `DELETE`, `UPDATE` queries on all the tables of the `crimes` schema."
   ]
  },
  {
   "cell_type": "code",
   "execution_count": 16,
   "metadata": {
    "collapsed": true
   },
   "outputs": [],
   "source": [
    "cur.execute(\"CREATE GROUP readonly NOLOGIN\")\n",
    "cur.execute(\"CREATE GROUP readwrite NOLOGIN\")\n",
    "\n",
    "cur.execute(\"GRANT CONNECT ON DATABASE crimes_db TO readonly\")\n",
    "cur.execute(\"GRANT CONNECT ON DATABASE crimes_db TO readwrite\")\n",
    "\n",
    "cur.execute(\"GRANT USAGE ON SCHEMA crimes TO readonly\")\n",
    "cur.execute(\"GRANT USAGE ON SCHEMA crimes TO readwrite\")\n",
    "\n",
    "cur.execute(\"GRANT SELECT ON ALL TABLES IN SCHEMA crimes TO readonly\")\n",
    "cur.execute(\"GRANT SELECT, INSERT, DELETE, UPDATE ON ALL TABLES IN SCHEMA crimes TO readwrite\")"
   ]
  },
  {
   "cell_type": "markdown",
   "metadata": {},
   "source": [
    "### Creating One User For Each Group"
   ]
  },
  {
   "cell_type": "markdown",
   "metadata": {},
   "source": [
    "The only thing left to do is to create users. We will create one user for each group and assign them to their respective group."
   ]
  },
  {
   "cell_type": "code",
   "execution_count": 17,
   "metadata": {},
   "outputs": [
    {
     "ename": "ProgrammingError",
     "evalue": "syntax error at or near \"data_analyst\"\nLINE 1: CREATE data_analyst WITH PASSWORD 'secret1'\n               ^\n",
     "output_type": "error",
     "traceback": [
      "\u001b[1;31m\u001b[0m",
      "\u001b[1;31mProgrammingError\u001b[0mTraceback (most recent call last)",
      "\u001b[1;32m<ipython-input-17-4e7d9ca9f06a>\u001b[0m in \u001b[0;36m<module>\u001b[1;34m()\u001b[0m\n\u001b[1;32m----> 1\u001b[1;33m \u001b[0mcur\u001b[0m\u001b[1;33m.\u001b[0m\u001b[0mexecute\u001b[0m\u001b[1;33m(\u001b[0m\u001b[1;34m\"CREATE data_analyst WITH PASSWORD 'secret1'\"\u001b[0m\u001b[1;33m)\u001b[0m\u001b[1;33m\u001b[0m\u001b[0m\n\u001b[0m\u001b[0;32m      2\u001b[0m \u001b[0mcur\u001b[0m\u001b[1;33m.\u001b[0m\u001b[0mexecute\u001b[0m\u001b[1;33m(\u001b[0m\u001b[1;34m\"CREATE data_scientist WITH PASSWORD 'secret2'\"\u001b[0m\u001b[1;33m)\u001b[0m\u001b[1;33m\u001b[0m\u001b[0m\n\u001b[0;32m      3\u001b[0m \u001b[1;33m\u001b[0m\u001b[0m\n\u001b[0;32m      4\u001b[0m \u001b[0mcur\u001b[0m\u001b[1;33m.\u001b[0m\u001b[0mexecute\u001b[0m\u001b[1;33m(\u001b[0m\u001b[1;34m\"GRANT readonly TO data_analyst\"\u001b[0m\u001b[1;33m)\u001b[0m\u001b[1;33m\u001b[0m\u001b[0m\n\u001b[0;32m      5\u001b[0m \u001b[0mcur\u001b[0m\u001b[1;33m.\u001b[0m\u001b[0mexecute\u001b[0m\u001b[1;33m(\u001b[0m\u001b[1;34m\"GRANT readwrite TO data_scientist\"\u001b[0m\u001b[1;33m)\u001b[0m\u001b[1;33m\u001b[0m\u001b[0m\n",
      "\u001b[1;31mProgrammingError\u001b[0m: syntax error at or near \"data_analyst\"\nLINE 1: CREATE data_analyst WITH PASSWORD 'secret1'\n               ^\n"
     ]
    }
   ],
   "source": [
    "cur.execute(\"CREATE data_analyst WITH PASSWORD 'secret1'\")\n",
    "cur.execute(\"CREATE data_scientist WITH PASSWORD 'secret2'\")\n",
    "\n",
    "cur.execute(\"GRANT readonly TO data_analyst\")\n",
    "cur.execute(\"GRANT readwrite TO data_scientist\")"
   ]
  },
  {
   "cell_type": "markdown",
   "metadata": {},
   "source": [
    "We have now finished setting up our Postgres database! This database should look like the diagram shown in the introduction section.\n",
    "\n",
    "Now, it is a good practice to test everything is configured as expected.We can query Postgres internal tables to see this information."
   ]
  },
  {
   "cell_type": "markdown",
   "metadata": {},
   "source": [
    "## Testing the Database Setup"
   ]
  },
  {
   "cell_type": "markdown",
   "metadata": {},
   "source": [
    "In this last section, we test the database setup using SQL queries.\n",
    "\n",
    "We can query the `pg_roles` table to inspect priviledges related to the database. For that, we will look at the following columns:\n",
    "- `rolname`: The name of the user / group that the privilege refers to.\n",
    "- `rolsuper`: Whether this user / group is a super user. It should be set to False on every user / group that we have created.\n",
    "- `rolcreaterole`: Whether user / group can create users, groups or roles. It should be False on every user / group that we have created.\n",
    "- `rolcreatedb`: Whether user / group can create databases. It should be False on every user / group that we have created.\n",
    "- `rolcanlogin`: Whether user / group can log in. It should be True on the users and False on the groups that we have created.\n",
    "\n",
    "We can also query the `information_schema.table_privileges` table to inspect table priviledges. We will list the privileges of each group that we have created."
   ]
  },
  {
   "cell_type": "code",
   "execution_count": 18,
   "metadata": {},
   "outputs": [
    {
     "ename": "OperationalError",
     "evalue": "FATAL:  database \"crimes_db\" does not exist\n",
     "output_type": "error",
     "traceback": [
      "\u001b[1;31m\u001b[0m",
      "\u001b[1;31mOperationalError\u001b[0mTraceback (most recent call last)",
      "\u001b[1;32m<ipython-input-18-40dafd1aadfb>\u001b[0m in \u001b[0;36m<module>\u001b[1;34m()\u001b[0m\n\u001b[0;32m      3\u001b[0m \u001b[1;33m\u001b[0m\u001b[0m\n\u001b[0;32m      4\u001b[0m \u001b[1;31m# Open a new connection and create a new cursor object\u001b[0m\u001b[1;33m\u001b[0m\u001b[1;33m\u001b[0m\u001b[0m\n\u001b[1;32m----> 5\u001b[1;33m \u001b[0mconn\u001b[0m \u001b[1;33m=\u001b[0m \u001b[0mpsycopg2\u001b[0m\u001b[1;33m.\u001b[0m\u001b[0mconnect\u001b[0m\u001b[1;33m(\u001b[0m\u001b[0mdbname\u001b[0m\u001b[1;33m=\u001b[0m\u001b[1;34m\"crimes_db\"\u001b[0m\u001b[1;33m,\u001b[0m \u001b[0muser\u001b[0m\u001b[1;33m=\u001b[0m\u001b[1;34m\"dq\"\u001b[0m\u001b[1;33m)\u001b[0m\u001b[1;33m\u001b[0m\u001b[0m\n\u001b[0m\u001b[0;32m      6\u001b[0m \u001b[0mcur\u001b[0m \u001b[1;33m=\u001b[0m \u001b[0mconn\u001b[0m\u001b[1;33m.\u001b[0m\u001b[0mcursor\u001b[0m\u001b[1;33m(\u001b[0m\u001b[1;33m)\u001b[0m\u001b[1;33m\u001b[0m\u001b[0m\n\u001b[0;32m      7\u001b[0m \u001b[1;33m\u001b[0m\u001b[0m\n",
      "\u001b[1;32m/dataquest/system/env/python3/lib/python3.4/site-packages/psycopg2/__init__.py\u001b[0m in \u001b[0;36mconnect\u001b[1;34m(dsn, database, user, password, host, port, connection_factory, cursor_factory, async, **kwargs)\u001b[0m\n\u001b[0;32m    162\u001b[0m                 for (k, v) in items])\n\u001b[0;32m    163\u001b[0m \u001b[1;33m\u001b[0m\u001b[0m\n\u001b[1;32m--> 164\u001b[1;33m     \u001b[0mconn\u001b[0m \u001b[1;33m=\u001b[0m \u001b[0m_connect\u001b[0m\u001b[1;33m(\u001b[0m\u001b[0mdsn\u001b[0m\u001b[1;33m,\u001b[0m \u001b[0mconnection_factory\u001b[0m\u001b[1;33m=\u001b[0m\u001b[0mconnection_factory\u001b[0m\u001b[1;33m,\u001b[0m \u001b[0masync\u001b[0m\u001b[1;33m=\u001b[0m\u001b[0masync\u001b[0m\u001b[1;33m)\u001b[0m\u001b[1;33m\u001b[0m\u001b[0m\n\u001b[0m\u001b[0;32m    165\u001b[0m     \u001b[1;32mif\u001b[0m \u001b[0mcursor_factory\u001b[0m \u001b[1;32mis\u001b[0m \u001b[1;32mnot\u001b[0m \u001b[1;32mNone\u001b[0m\u001b[1;33m:\u001b[0m\u001b[1;33m\u001b[0m\u001b[0m\n\u001b[0;32m    166\u001b[0m         \u001b[0mconn\u001b[0m\u001b[1;33m.\u001b[0m\u001b[0mcursor_factory\u001b[0m \u001b[1;33m=\u001b[0m \u001b[0mcursor_factory\u001b[0m\u001b[1;33m\u001b[0m\u001b[0m\n",
      "\u001b[1;31mOperationalError\u001b[0m: FATAL:  database \"crimes_db\" does not exist\n"
     ]
    }
   ],
   "source": [
    "# Close the old connection to test with a brand new one\n",
    "conn.close()\n",
    "\n",
    "# Open a new connection and create a new cursor object\n",
    "conn = psycopg2.connect(dbname=\"crimes_db\", user=\"dq\")\n",
    "cur = conn.cursor()\n",
    "\n",
    "# Check users and groups\n",
    "cur.execute(\"\"\"\n",
    "    SELECT rolname, rolsuper, rolcreaterole, rolcreatedb, rolcanlogin\n",
    "    FROM pg_roles\n",
    "    WHERE rolname IN ('readonly','readwrite','data_analyst','data_scientist')\n",
    "\"\"\")\n",
    "\n",
    "for user in cur:\n",
    "    print(user)\n",
    "print()\n",
    "\n",
    "# Check priviledges\n",
    "cur.execute(\"\"\"\n",
    "    SELECT grantee, priviledge_type\n",
    "    FROM information_schema.table_priviledges\n",
    "    WHERE grantee IN ('readonly', 'readwrite')\n",
    "\"\"\")\n",
    "\n",
    "for user in cur:\n",
    "    print(user)\n",
    "    \n",
    "conn.close()"
   ]
  },
  {
   "cell_type": "code",
   "execution_count": null,
   "metadata": {
    "collapsed": true
   },
   "outputs": [],
   "source": []
  }
 ],
 "metadata": {
  "kernelspec": {
   "display_name": "Python 3",
   "language": "python",
   "name": "python3"
  },
  "language_info": {
   "codemirror_mode": {
    "name": "ipython",
    "version": 3
   },
   "file_extension": ".py",
   "mimetype": "text/x-python",
   "name": "python",
   "nbconvert_exporter": "python",
   "pygments_lexer": "ipython3",
   "version": "3.7.6"
  },
  "toc": {
   "base_numbering": 1,
   "nav_menu": {},
   "number_sections": true,
   "sideBar": true,
   "skip_h1_title": false,
   "title_cell": "Table of Contents",
   "title_sidebar": "Contents",
   "toc_cell": false,
   "toc_position": {},
   "toc_section_display": true,
   "toc_window_display": false
  }
 },
 "nbformat": 4,
 "nbformat_minor": 2
}
