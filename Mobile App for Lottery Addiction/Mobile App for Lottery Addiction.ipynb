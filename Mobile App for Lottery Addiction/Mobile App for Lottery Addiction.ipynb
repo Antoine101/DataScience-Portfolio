{
 "cells": [
  {
   "cell_type": "markdown",
   "metadata": {
    "collapsed": true
   },
   "source": [
    "# Guided Project: Mobile App for Lottery Addiction"
   ]
  },
  {
   "cell_type": "markdown",
   "metadata": {},
   "source": [
    "## Introduction"
   ]
  },
  {
   "cell_type": "markdown",
   "metadata": {},
   "source": [
    "The aim of this project is to contribute to the development of a mobile app that is meant to help lottery addicts better estimate their chances of winning.\n",
    "\n",
    "Many people start playing the lottery for fun, but for some this activity turns into a habit which eventually escalates into addiction. Like other compulsive gamblers, lottery addicts soon begin spending from their savings and loans, they start to accumulate debts, and eventually engage in desperate behaviors like theft.\n",
    "\n",
    "A medical institute that aims to prevent and treat gambling addictions wants to build a dedicated mobile app to help lottery addicts better estimate their chances of winning. The institute has a team of engineers that will build the app, but they need us to create the logical core of the app and calculate probabilities.\n",
    "\n",
    "For the first version of the app, they want us to focus on the [6/49 lottery](https://en.wikipedia.org/wiki/Lotto_6/49) and build functions that enable users to answer questions like:\n",
    "\n",
    "* What is the probability of winning the big prize with a single ticket?\n",
    "* What is the probability of winning the big prize if we play 40 different tickets (or any other number)?\n",
    "* What is the probability of having at least five (or four, or three, or two) winning numbers on a single ticket?\n",
    "\n",
    "\n",
    "The institute also wants us to consider historical data coming from the national 6/49 lottery game in Canada. The [data set](https://www.kaggle.com/datascienceai/lottery-dataset) has data for 3,665 drawings, dating from 1982 to 2018 (we'll come back to this)."
   ]
  },
  {
   "cell_type": "markdown",
   "metadata": {},
   "source": [
    "## Calculate Factorials and Combinations"
   ]
  },
  {
   "cell_type": "markdown",
   "metadata": {},
   "source": [
    "Our goal is to write code that can enable users to answer probability questions about playing the lottery. Throughout the project, we'll need to calculate repeatedly probabilities and combinations. As a consequence, we'll start by writing two functions that we'll use often:\n",
    "\n",
    "* A function that calculates factorials; and\n",
    "* A function that calculates combinations.\n",
    "\n",
    "To calculate factorials, this is the formula we need to use:\n",
    "\n",
    "<div align=\"center\">_$$n! = n \\times (n-1) \\times (n-2) \\times ... \\times 2 \\times 1$$_</div>\n",
    "\n",
    "In the 6/49 lottery, six numbers are drawn from a set of 49 numbers that range from 1 to 49. The drawing is done without replacement, which means once a number is drawn, it's not put back in the set.\n",
    "\n",
    "To find the number of combinations when we're sampling without replacement and taking only k objects from a group of n objects, we can use the formula:\n",
    "$$_{n}^{}\\textrm{C}_{k}= \\binom{n}{k} = \\frac{n!}{k!(n-k)!}$$\n",
    "\n",
    "Now, let's start coding the two functions."
   ]
  },
  {
   "cell_type": "code",
   "execution_count": 48,
   "metadata": {
    "collapsed": true
   },
   "outputs": [],
   "source": [
    "def factorial(n):\n",
    "    factorial = 1\n",
    "    for i in range(n,0,-1):\n",
    "        factorial *= i\n",
    "    return factorial\n",
    "\n",
    "def combinations(n,k):\n",
    "    numerator = factorial(n)\n",
    "    denominator = factorial(k) * factorial(n-k)\n",
    "    return numerator/denominator"
   ]
  },
  {
   "cell_type": "markdown",
   "metadata": {},
   "source": [
    "In this section, we focused on writing `factorial()` and `combinations()`, two core functions that we're going to need repeatedly moving forward.\n",
    "In the next section, we focus on writing a function that calculates the probability of winning the big prize."
   ]
  },
  {
   "cell_type": "markdown",
   "metadata": {},
   "source": [
    "## Probability of Winning the Big Prize"
   ]
  },
  {
   "cell_type": "markdown",
   "metadata": {},
   "source": [
    "In the 6/49 lottery, six numbers are drawn from a set of 49 numbers that range from 1 to 49. A player wins the big prize if the six numbers on their tickets match all the six numbers drawn. If a player has a ticket with the numbers {13, 22, 24, 27, 42, 44}, he only wins the big prize if the numbers drawn are {13, 22, 24, 27, 42, 44}. If only one number differs, he doesn't win.\n",
    "\n",
    "For the first version of the app, we want players to be able to calculate the probability of winning the big prize with the various numbers they play on a single ticket (for each ticket a player chooses six numbers out of 49). So, we'll start by building a function that calculates the probability of winning the big prize for any given ticket.\n",
    "\n",
    "We discussed with the engineering team of the medical institute, and they told us we need to be aware of the following details when we write the function:\n",
    "\n",
    "* Inside the app, the user inputs six different numbers from 1 to 49.\n",
    "* Under the hood, the six numbers will come as a Python list, which will serve as the single input to our function.\n",
    "* The engineering team wants the function to print the probability value in a friendly way — in a way that people without any probability training are able to understand.\n",
    "\n",
    "Let's write this function!"
   ]
  },
  {
   "cell_type": "code",
   "execution_count": 62,
   "metadata": {
    "collapsed": false
   },
   "outputs": [
    {
     "name": "stdout",
     "output_type": "stream",
     "text": [
      "The probability of winning the big prize with the numbers: [13, 22, 24, 27, 42, 44] is of 0.0000072%\n",
      "The probability of winning the big prize with the numbers: [13, 15, 3, 30, 22, 16] is of 0.0000072%\n"
     ]
    }
   ],
   "source": [
    "def one_ticket_probability(user_numbers):\n",
    "    number_total_outcomes = combinations(49,6)\n",
    "    number_successful_outcomes = 1\n",
    "    probability_one_ticket = number_successful_outcomes / number_total_outcomes\n",
    "    returned_str = \"The probability of winning the big prize with the numbers: {} is of {:.7%}\"\n",
    "    return print(returned_str.format(user_numbers, probability_one_ticket))\n",
    "\n",
    "# Test of the function with a few inputs\n",
    "one_ticket_probability([13,22,24,27,42,44])\n",
    "one_ticket_probability([13,15,3,30,22,16])"
   ]
  },
  {
   "cell_type": "markdown",
   "metadata": {},
   "source": [
    "In this section, we wrote a function that can tell users what is the probability of winning the big prize with a single ticket. For the first version of the app, however, users should also be able to compare their ticket against the historical lottery data in Canada and determine whether they would have ever won by now.\n",
    "\n",
    "In the next section, we focus on writing a function that will enable users to make this comparison."
   ]
  },
  {
   "cell_type": "markdown",
   "metadata": {},
   "source": [
    "## Comparing to Historical Lottery Data"
   ]
  },
  {
   "cell_type": "markdown",
   "metadata": {},
   "source": [
    "In this section, we focus on writing a function that will enable users to compare their ticket against the historical lottery data in Canada and determine whether they would have ever won by now.\n",
    "\n",
    "But first, let's explore the data set, which can be downloaded from [Kaggle](https://www.kaggle.com/datascienceai/lottery-dataset)."
   ]
  },
  {
   "cell_type": "code",
   "execution_count": 15,
   "metadata": {
    "collapsed": false
   },
   "outputs": [
    {
     "name": "stdout",
     "output_type": "stream",
     "text": [
      "(3665, 11)\n",
      "   PRODUCT  DRAW NUMBER  SEQUENCE NUMBER  DRAW DATE  NUMBER DRAWN 1  \\\n",
      "0      649            1                0  6/12/1982               3   \n",
      "1      649            2                0  6/19/1982               8   \n",
      "2      649            3                0  6/26/1982               1   \n",
      "\n",
      "   NUMBER DRAWN 2  NUMBER DRAWN 3  NUMBER DRAWN 4  NUMBER DRAWN 5  \\\n",
      "0              11              12              14              41   \n",
      "1              33              36              37              39   \n",
      "2               6              23              24              27   \n",
      "\n",
      "   NUMBER DRAWN 6  BONUS NUMBER  \n",
      "0              43            13  \n",
      "1              41             9  \n",
      "2              39            34  \n",
      "      PRODUCT  DRAW NUMBER  SEQUENCE NUMBER  DRAW DATE  NUMBER DRAWN 1  \\\n",
      "3662      649         3589                0  6/13/2018               6   \n",
      "3663      649         3590                0  6/16/2018               2   \n",
      "3664      649         3591                0  6/20/2018              14   \n",
      "\n",
      "      NUMBER DRAWN 2  NUMBER DRAWN 3  NUMBER DRAWN 4  NUMBER DRAWN 5  \\\n",
      "3662              22              24              31              32   \n",
      "3663              15              21              31              38   \n",
      "3664              24              31              35              37   \n",
      "\n",
      "      NUMBER DRAWN 6  BONUS NUMBER  \n",
      "3662              34            16  \n",
      "3663              49             8  \n",
      "3664              48            17  \n"
     ]
    }
   ],
   "source": [
    "import pandas as pd\n",
    "\n",
    "draws = pd.read_csv(\"649.csv\")\n",
    "\n",
    "print(draws.shape)\n",
    "\n",
    "print(draws.head(3))\n",
    "print(draws.tail(3))"
   ]
  },
  {
   "cell_type": "markdown",
   "metadata": {},
   "source": [
    "The data set contains historical data for 3,665 drawings (each row shows data for a single drawing), dating from 1982 to 2018. For each drawing, we can find the six numbers drawn in the following six columns:\n",
    "\n",
    "* `NUMBER DRAWN 1`\n",
    "* `NUMBER DRAWN 2`\n",
    "* `NUMBER DRAWN 3`\n",
    "* `NUMBER DRAWN 4`\n",
    "* `NUMBER DRAWN 5`\n",
    "* `NUMBER DRAWN 6`\n",
    "\n",
    "Let's now write the function!"
   ]
  },
  {
   "cell_type": "code",
   "execution_count": 43,
   "metadata": {
    "collapsed": false
   },
   "outputs": [
    {
     "name": "stdout",
     "output_type": "stream",
     "text": [
      "0    {3, 41, 11, 12, 43, 14}\n",
      "1    {33, 36, 37, 39, 8, 41}\n",
      "2     {1, 6, 39, 23, 24, 27}\n",
      "3     {3, 9, 10, 43, 13, 20}\n",
      "4    {34, 5, 14, 47, 21, 31}\n",
      "dtype: object\n"
     ]
    }
   ],
   "source": [
    "# Extraction of the previous winning numbers\n",
    "def extract_numbers(row):\n",
    "    numbers = {x for x in row[4:10]}\n",
    "    return numbers\n",
    "\n",
    "winning_numbers = draws.apply(extract_numbers, axis=1)\n",
    "print(winning_numbers.head())"
   ]
  },
  {
   "cell_type": "code",
   "execution_count": 44,
   "metadata": {
    "collapsed": false
   },
   "outputs": [
    {
     "name": "stdout",
     "output_type": "stream",
     "text": [
      "The combination of numbers: {42, 44, 13, 22, 24, 27} occured 0 times in the past.\n",
      "The combination of numbers: {3, 13, 15, 16, 22, 30} occured 0 times in the past.\n"
     ]
    }
   ],
   "source": [
    "# Check if user numbers were already drawn in the past\n",
    "def check_historical_occurence(user_numbers, winning_numbers):\n",
    "    user_numbers = set(user_numbers)\n",
    "    occurences = sum(user_numbers == winning_numbers)\n",
    "    str = \"The combination of numbers: {} occured {} times in the past.\"\n",
    "    return print(str.format(user_numbers, occurences))\n",
    "\n",
    "# Test of the function with a few inputs\n",
    "check_historical_occurence([13,22,24,27,42,44], winning_numbers)\n",
    "check_historical_occurence([13,15,3,30,22,16], winning_numbers)"
   ]
  },
  {
   "cell_type": "markdown",
   "metadata": {},
   "source": [
    "So far, we wrote two functions:\n",
    "* `one_ticket_probability()` - calculates the probability of winning the big prize with a single ticket\n",
    "* `check_historical_occurence()` - checks wether a certain combination has occured in the Canada lottery data set\n",
    "\n",
    "Lottery addicts usually play more than one ticket on a single drawing, thinking that this might increase their chances of winning significantly. Our purpose is to help them better estimate their chances of winning — in the next section, we're going to write a function that will allow the users to calculate the chances of winning for any number of different tickets."
   ]
  },
  {
   "cell_type": "markdown",
   "metadata": {},
   "source": [
    "## Chances of Winning for Any Number of Different Tickets"
   ]
  },
  {
   "cell_type": "markdown",
   "metadata": {},
   "source": [
    "We've talked with the engineering team and they gave us the following information:\n",
    "\n",
    "* The user will input the number of different tickets they want to play (without inputting the specific combinations they intend to play).\n",
    "* Our function will see an integer between 1 and 13,983,816 (the maximum number of different tickets).\n",
    "* The function should print information about the probability of winning the big prize depending on the number of different tickets played.\n",
    "\n",
    "Let's now start writing this function."
   ]
  },
  {
   "cell_type": "code",
   "execution_count": 47,
   "metadata": {
    "collapsed": false
   },
   "outputs": [
    {
     "name": "stdout",
     "output_type": "stream",
     "text": [
      "The probability of winning with 1 tickets is of 0.000007%\n",
      "The probability of winning with 10 tickets is of 0.000072%\n",
      "The probability of winning with 100 tickets is of 0.000715%\n",
      "The probability of winning with 10000 tickets is of 0.071511%\n",
      "The probability of winning with 100000 tickets is of 0.715112%\n",
      "The probability of winning with 6991908 tickets is of 50.000000%\n",
      "The probability of winning with 13983816 tickets is of 100.000000%\n"
     ]
    }
   ],
   "source": [
    "def multi_ticket_probability(number_tickets):\n",
    "    number_possible_outcomes = combinations(49,6)\n",
    "    number_successful_outcomes = number_tickets\n",
    "    probability = number_successful_outcomes / number_possible_outcomes\n",
    "    str = \"The probability of winning with {} tickets is of {:.6%}\"\n",
    "    return print(str.format(number_tickets,probability))\n",
    "\n",
    "# Test of the function with a few inputs\n",
    "multi_ticket_probability(1)\n",
    "multi_ticket_probability(10)\n",
    "multi_ticket_probability(100)\n",
    "multi_ticket_probability(10000)\n",
    "multi_ticket_probability(100000)\n",
    "multi_ticket_probability(6991908)\n",
    "multi_ticket_probability(13983816)"
   ]
  },
  {
   "cell_type": "markdown",
   "metadata": {},
   "source": [
    "So far, we wrote three main functions:\n",
    "\n",
    "* `one_ticket_probability()` — calculates the probability of winning the big prize with a single ticket\n",
    "* `check_historical_occurrence()` — checks whether a certain combination has occurred in the Canada lottery data set\n",
    "* `multi_ticket_probability()` — calculates the probability for any number of tickets between 1 and 13,983,816\n",
    "\n",
    "In the next section, we're going to write one more function to allow the users to calculate probabilities for two, three, four, or five winning numbers."
   ]
  },
  {
   "cell_type": "markdown",
   "metadata": {},
   "source": [
    "## Chances of Winning for Two, Three, Four of Five Winning Numbers"
   ]
  },
  {
   "cell_type": "markdown",
   "metadata": {},
   "source": [
    "For extra context, in most 6/49 lotteries there are smaller prizes if a player's ticket match two, three, four, or five of the six numbers drawn. As a consequence, the users might be interested in knowing the probability of having two, three, four, or five winning numbers.\n",
    "\n",
    "These are the engineering details we'll need to be aware of:\n",
    "\n",
    "* Inside the app, the user inputs:\n",
    "    * six different numbers from 1 to 49; and\n",
    "    * an integer between 2 and 5 that represents the number of winning numbers expected\n",
    "* Our function prints information about the probability of having the inputted number of winning numbers.\n",
    "\n",
    "First, we need to differentiate between these two probability questions:\n",
    "\n",
    "* What is the probability of having _exactly_ five winning numbers?\n",
    "* What is the probability of having _at least_ five winning numbers?\n",
    "\n",
    "For our purposes here, we want to answer the first question.\n",
    "\n",
    "For the sake of example, let's say a player chose these six numbers on a ticket: (1, 2, 3, 4 ,5 ,6). Out of these six numbers, we can form six five-number combinations:\n",
    "\n",
    "* (1,2,3,4,5)\n",
    "* (1,2,3,4,6)\n",
    "* (1,2,3,5,6)\n",
    "* (1,2,4,5,6)\n",
    "* (1,3,4,5,6)\n",
    "* (2,3,4,5,6)\n",
    "\n",
    "We can also find the total number of five-number combinations by calculating \"6 choose 5\":\n",
    "$$_{6}^{}\\textrm{C}_{5}= \\binom{6}{5} = \\frac{6!}{5!(6-5)!} = 6$$\n",
    "\n",
    "For each one of the six five-number combinations above, there are 44 possible successful outcomes in a lottery drawing. For the combination (1, 2, 3, 4, 5), for instance, there are 44 lottery outcomes that would return a prize:\n",
    "* (**1, 2, 3, 4, 5,** 6)\n",
    "* (**1, 2, 3, 4, 5,** 7)\n",
    "* ...\n",
    "* (**1, 2, 3, 4, 5,** 30)\n",
    "* (**1, 2, 3, 4, 5,** 31)\n",
    "* ...\n",
    "* (**1, 2, 3, 4, 5,** 49)\n",
    "\n",
    "However, we need to leave out the outcome (1, 2, 3, 4, 5, 6) because we're only interested in outcomes that match _exactly_ five numbers, not _at least_ five numbers. This means that for each of our six five-number combinations we have 43 possible successful outcomes, not 44.\n",
    "\n",
    "Since there are six five-number combinations and each combination corresponds to 43 successful outcomes, we need to multiply 6 by 43 to find the _total_ number of successful outcomes:\n",
    "$$6 \\times 43 = 258$$\n",
    "\n",
    "Since there are 258 successful outcomes and there are 13,983,816 total possible outcomes (the result of 49 choose 6), the probability of having exactly five winning numbers for a single lottery ticket is:\n",
    "$$P(\\mathit{5-winning\\:numbers}) = \\frac{258}{\\binom{49}{6}} = 0.00001845$$\n",
    "\n",
    "Now let's code the function. To calculate the probabilities, we tell the engineering team that the specific combination on the ticket is irrelevant behind the scenes, and we only need the integer between 2 and 5 representing the number of winning numbers expected."
   ]
  },
  {
   "cell_type": "code",
   "execution_count": 60,
   "metadata": {
    "collapsed": false
   },
   "outputs": [
    {
     "name": "stdout",
     "output_type": "stream",
     "text": [
      "The probability of having exactly 2 winning numbers is of 19.1327%\n",
      "The probability of having exactly 3 winning numbers is of 2.1711%\n",
      "The probability of having exactly 4 winning numbers is of 0.1062%\n",
      "The probability of having exactly 5 winning numbers is of 0.0019%\n"
     ]
    }
   ],
   "source": [
    "def probability_less_6(number_winning_numbers):\n",
    "    number_successful_outcomes = combinations(6,number_winning_numbers) * combinations(49-number_winning_numbers,6-number_winning_numbers)\n",
    "    number_possible_outcomes = combinations(49,6)\n",
    "    probability = number_successful_outcomes / number_possible_outcomes\n",
    "    str = \"The probability of having exactly {} winning numbers is of {:.6%}\"\n",
    "    return print(str.format(number_winning_numbers,probability))\n",
    "                 \n",
    "# Test of the function with a few inputs\n",
    "probability_less_6(2)\n",
    "probability_less_6(3)\n",
    "probability_less_6(4)\n",
    "probability_less_6(5)     "
   ]
  },
  {
   "cell_type": "markdown",
   "metadata": {},
   "source": [
    "## Conclusion and Next Steps"
   ]
  },
  {
   "cell_type": "markdown",
   "metadata": {},
   "source": [
    "That was all for the guided part of the project! We managed to write four main functions for our app:\n",
    "\n",
    "* `one_ticket_probability()` — calculates the probability of winning the big prize with a single ticket\n",
    "* `check_historical_occurrence()` — checks whether a certain combination has occurred in the Canada lottery data set\n",
    "* `multi_ticket_probability()` — calculates the probability for any number of of tickets between 1 and 13,983,816\n",
    "* `probability_less_6()` — calculates the probability of having two, three, four or five winning numbers\n",
    "\n",
    "Possible features for a second version of the app include:\n",
    "\n",
    "* Making the outputs even easier to understand by adding fun analogies (for example, we can find probabilities for strange events and compare with the chances of winning in lottery; for instance, we can output something along the lines \"You are 100 times more likely to be the victim of a shark attack than winning the lottery\").\n",
    "* Combining the `one_ticket_probability()` and `check_historical_occurrence()` to output information on probability and historical occurrence at the same time.\n",
    "* Creating a function similar to `probability_less_6()` which calculates the probability of having at least two, three, four or five winning numbers."
   ]
  }
 ],
 "metadata": {
  "kernelspec": {
   "display_name": "Python 3",
   "language": "python",
   "name": "python3"
  },
  "language_info": {
   "codemirror_mode": {
    "name": "ipython",
    "version": 3
   },
   "file_extension": ".py",
   "mimetype": "text/x-python",
   "name": "python",
   "nbconvert_exporter": "python",
   "pygments_lexer": "ipython3",
   "version": "3.4.3"
  }
 },
 "nbformat": 4,
 "nbformat_minor": 2
}
